{
 "cells": [
  {
   "cell_type": "code",
   "execution_count": 1,
   "metadata": {
    "collapsed": true
   },
   "outputs": [],
   "source": [
    "import os\n",
    "import os.path\n",
    "import glob\n",
    "import numpy as np\n",
    "import Image,leargist\n",
    "import matplotlib.pyplot as plt\n",
    "from sklearn.model_selection import StratifiedKFold\n",
    "from sklearn.metrics import confusion_matrix,accuracy_score\n",
    "from sklearn import svm\n",
    "\n",
    "from sklearn.model_selection import StratifiedShuffleSplit\n",
    "from sklearn.model_selection import GridSearchCV\n",
    "import sklearn_evaluation.plot as skplot\n",
    "from sklearn.model_selection import learning_curve\n",
    "\n",
    "import matplotlib.pyplot as plt\n",
    "import matplotlib.cm as colormap\n",
    "plt.rcParams['image.cmap'] = 'Paired'\n",
    "\n",
    "import numpy as np\n",
    "np.random.seed(1)"
   ]
  },
  {
   "cell_type": "code",
   "execution_count": 2,
   "metadata": {
    "collapsed": true
   },
   "outputs": [],
   "source": [
    "imagedir = \"Datasets/malimg_paper_dataset_imgs\""
   ]
  },
  {
   "cell_type": "code",
   "execution_count": 3,
   "metadata": {},
   "outputs": [
    {
     "name": "stdout",
     "output_type": "stream",
     "text": [
      "Label: 0\tFamily:       Adialer.C\tNumber of images: 122\n",
      "Label: 1\tFamily:       Agent.FYI\tNumber of images: 116\n",
      "Label: 2\tFamily:       Allaple.A\tNumber of images: 2949\n",
      "Label: 3\tFamily:       Allaple.L\tNumber of images: 1591\n",
      "Label: 4\tFamily:   Alueron.gen!J\tNumber of images: 198\n",
      "Label: 5\tFamily:       Autorun.K\tNumber of images: 106\n",
      "Label: 6\tFamily:     C2LOP.gen!g\tNumber of images: 200\n",
      "Label: 7\tFamily:         C2LOP.P\tNumber of images: 146\n",
      "Label: 8\tFamily:  Dialplatform.B\tNumber of images: 177\n",
      "Label: 9\tFamily:       Dontovo.A\tNumber of images: 162\n",
      "Label:10\tFamily:        Fakerean\tNumber of images: 381\n",
      "Label:11\tFamily:   Instantaccess\tNumber of images: 431\n",
      "Label:12\tFamily:      Lolyda.AA1\tNumber of images: 213\n",
      "Label:13\tFamily:      Lolyda.AA2\tNumber of images: 184\n",
      "Label:14\tFamily:      Lolyda.AA3\tNumber of images: 123\n",
      "Label:15\tFamily:       Lolyda.AT\tNumber of images: 159\n",
      "Label:16\tFamily:     Malex.gen!J\tNumber of images: 136\n",
      "Label:17\tFamily:   Obfuscator.AD\tNumber of images: 142\n",
      "Label:18\tFamily:        Rbot!gen\tNumber of images: 158\n",
      "Label:19\tFamily:      Skintrim.N\tNumber of images: 80\n",
      "Label:20\tFamily:   Swizzor.gen!E\tNumber of images: 128\n",
      "Label:21\tFamily:   Swizzor.gen!I\tNumber of images: 132\n",
      "Label:22\tFamily:           VB.AT\tNumber of images: 408\n",
      "Label:23\tFamily:      Wintrim.BX\tNumber of images: 97\n",
      "Label:24\tFamily:         Yuner.A\tNumber of images: 800\n",
      "Processing images ...\n",
      "Images processed: 9339\n"
     ]
    }
   ],
   "source": [
    "cur_dir = os.getcwd()\n",
    "os.chdir(imagedir)  # the parent folder with sub-folders\n",
    "\n",
    "# Get number of samples per family\n",
    "list_fams = sorted(os.listdir(os.getcwd()), key=str.lower)  # vector of strings with family names\n",
    "no_imgs = []  # No. of samples per family\n",
    "for i in range(len(list_fams)):\n",
    "    os.chdir(list_fams[i])\n",
    "    len1 = len(glob.glob('*.png'))  # assuming the images are stored as 'png'\n",
    "    no_imgs.append(len1)\n",
    "    os.chdir('..')\n",
    "num_samples = np.sum(no_imgs)  # total number of all samples\n",
    "\n",
    "# Compute the labels\n",
    "y = np.zeros(num_samples)\n",
    "pos = 0\n",
    "label = 0\n",
    "for i in no_imgs:\n",
    "    print (\"Label:%2d\\tFamily: %15s\\tNumber of images: %d\" % (label, list_fams[label], i))\n",
    "    for j in range(i):\n",
    "        y[pos] = label\n",
    "        pos += 1\n",
    "    label += 1\n",
    "num_classes = label\n",
    "\n",
    "# Compute the features\n",
    "X = np.zeros((num_samples, 320))\n",
    "cnt = 0\n",
    "list_paths = [] # List of image paths\n",
    "print(\"Processing images ...\")\n",
    "for i in range(len(list_fams)):\n",
    "    for img_file in glob.glob(list_fams[i]+'/*.png'):\n",
    "        #print(\"[%d] Processing image: %s\" % (cnt, img_file))\n",
    "        im = Image.open(img_file)\n",
    "        im1 = im.resize((64,64),Image.ANTIALIAS); # for faster computation\n",
    "        des = leargist.color_gist(im1)\n",
    "        X[cnt] = des[0:320]\n",
    "        cnt += 1\n",
    "print(\"Images processed: %d\" %(cnt))\n",
    "\n",
    "os.chdir(cur_dir)"
   ]
  },
  {
   "cell_type": "code",
   "execution_count": 4,
   "metadata": {},
   "outputs": [
    {
     "data": {
      "text/plain": [
       "(9339, 320)"
      ]
     },
     "execution_count": 4,
     "metadata": {},
     "output_type": "execute_result"
    }
   ],
   "source": [
    "X.shape"
   ]
  },
  {
   "cell_type": "code",
   "execution_count": 5,
   "metadata": {},
   "outputs": [
    {
     "name": "stdout",
     "output_type": "stream",
     "text": [
      "Fitting 5 folds for each of 13 candidates, totalling 65 fits\n",
      "[CV] C=0.01 ..........................................................\n",
      "[CV] C=0.01 ..........................................................\n",
      "[CV] C=0.01 ..........................................................\n",
      "[CV] C=0.01 ..........................................................\n",
      "[CV] C=0.01 ..........................................................\n",
      "[CV] C=0.1 ...........................................................\n",
      "[CV] C=0.1 ...........................................................\n",
      "[CV] C=0.1 ...........................................................\n",
      "[CV] C=0.1 ...........................................................\n",
      "[CV] C=0.1 ...........................................................\n",
      "[CV] C=1.0 ...........................................................\n",
      "[CV] C=1.0 ...........................................................\n",
      "[CV] C=1.0 ...........................................................\n",
      "[CV] C=1.0 ...........................................................\n",
      "[CV] C=1.0 ...........................................................\n",
      "[CV] C=10.0 ..........................................................\n",
      "[CV] C=10.0 ..........................................................\n",
      "[CV] C=10.0 ..........................................................\n",
      "[CV] C=10.0 ..........................................................\n",
      "[CV] C=10.0 ..........................................................\n",
      "[CV] ........................... C=0.01, score=0.624197, total=  11.2s\n",
      "[CV] C=100.0 .........................................................\n"
     ]
    },
    {
     "name": "stderr",
     "output_type": "stream",
     "text": [
      "[Parallel(n_jobs=20)]: Done   1 tasks      | elapsed:   11.6s\n"
     ]
    },
    {
     "name": "stdout",
     "output_type": "stream",
     "text": [
      "[CV] ........................... C=0.01, score=0.624732, total=  12.0s\n",
      "[CV] C=100.0 .........................................................\n",
      "[CV] ........................... C=0.01, score=0.621520, total=  12.0s\n",
      "[CV] ............................ C=1.0, score=0.950749, total=  11.3s\n",
      "[CV] C=100.0 .........................................................\n",
      "[CV] ........................... C=0.01, score=0.632227, total=  12.4s\n",
      "[CV] C=100.0 .........................................................\n",
      "[CV] C=100.0 .........................................................\n",
      "[CV] ............................ C=0.1, score=0.895610, total=  12.1s\n",
      "[CV] C=1000.0 ........................................................\n",
      "[CV] ............................ C=0.1, score=0.906852, total=  12.4s\n",
      "[CV] C=1000.0 ........................................................\n",
      "[CV] ............................ C=0.1, score=0.899358, total=  12.7s\n",
      "[CV] C=1000.0 ........................................................\n",
      "[CV] ........................... C=0.01, score=0.626874, total=  13.4s\n",
      "[CV] ............................ C=0.1, score=0.894540, total=  12.9s\n",
      "[CV] C=1000.0 ........................................................\n"
     ]
    },
    {
     "name": "stderr",
     "output_type": "stream",
     "text": [
      "[Parallel(n_jobs=20)]: Done  10 tasks      | elapsed:   14.1s\n"
     ]
    },
    {
     "name": "stdout",
     "output_type": "stream",
     "text": [
      "[CV] C=1000.0 ........................................................\n",
      "[CV] ............................ C=0.1, score=0.895075, total=  13.5s\n",
      "[CV] C=10000.0 .......................................................\n",
      "[CV] ............................ C=1.0, score=0.955032, total=  23.1s\n",
      "[CV] C=10000.0 .......................................................\n",
      "[CV] ............................ C=1.0, score=0.950749, total=  23.4s\n",
      "[CV] C=10000.0 .......................................................\n",
      "[CV] ............................ C=1.0, score=0.959850, total=  24.9s\n",
      "[CV] C=10000.0 .......................................................\n",
      "[CV] ............................ C=1.0, score=0.948073, total=  25.6s\n",
      "[CV] C=10000.0 .......................................................\n",
      "[CV] ........................... C=10.0, score=0.953426, total=  44.8s\n",
      "[CV] C=100000.0 ......................................................\n",
      "[CV] .......................... C=100.0, score=0.958244, total=  47.0s\n",
      "[CV] C=100000.0 ......................................................\n",
      "[CV] ........................... C=10.0, score=0.957173, total= 1.4min\n",
      "[CV] C=100000.0 ......................................................\n",
      "[CV] ........................... C=10.0, score=0.960385, total= 1.5min\n",
      "[CV] C=100000.0 ......................................................\n",
      "[CV] ........................... C=10.0, score=0.956103, total= 1.5min\n",
      "[CV] C=100000.0 ......................................................\n",
      "[CV] ........................... C=10.0, score=0.965203, total= 1.6min\n",
      "[CV] C=1000000.0 .....................................................\n"
     ]
    },
    {
     "name": "stderr",
     "output_type": "stream",
     "text": [
      "[Parallel(n_jobs=20)]: Done  21 tasks      | elapsed:  1.6min\n"
     ]
    },
    {
     "name": "stdout",
     "output_type": "stream",
     "text": [
      "[CV] .......................... C=100.0, score=0.965739, total= 1.5min\n",
      "[CV] C=1000000.0 .....................................................\n",
      "[CV] ......................... C=1000.0, score=0.966274, total= 1.5min\n",
      "[CV] C=1000000.0 .....................................................\n",
      "[CV] .......................... C=100.0, score=0.960921, total= 1.5min\n",
      "[CV] C=1000000.0 .....................................................\n",
      "[CV] ......................... C=1000.0, score=0.965739, total= 1.5min\n",
      "[CV] C=1000000.0 .....................................................\n",
      "[CV] .......................... C=100.0, score=0.961991, total= 1.5min\n",
      "[CV] C=10000000.0 ....................................................\n",
      "[CV] ......................... C=1000.0, score=0.973769, total= 1.5min\n",
      "[CV] C=10000000.0 ....................................................\n",
      "[CV] ......................... C=1000.0, score=0.967880, total= 1.5min\n",
      "[CV] C=10000000.0 ....................................................\n",
      "[CV] ........................ C=10000.0, score=0.971627, total= 1.5min\n",
      "[CV] C=10000000.0 ....................................................\n",
      "[CV] .......................... C=100.0, score=0.968415, total= 1.6min\n",
      "[CV] C=10000000.0 ....................................................\n",
      "[CV] ......................... C=1000.0, score=0.974839, total= 1.6min\n",
      "[CV] C=100000000.0 ...................................................\n",
      "[CV] ........................ C=10000.0, score=0.971092, total= 1.5min\n",
      "[CV] ........................ C=10000.0, score=0.966809, total= 1.4min\n",
      "[CV] C=100000000.0 ...................................................\n",
      "[CV] C=100000000.0 ...................................................\n"
     ]
    },
    {
     "name": "stderr",
     "output_type": "stream",
     "text": [
      "[Parallel(n_jobs=20)]: Done  33 out of  65 | elapsed:  1.9min remaining:  1.8min\n"
     ]
    },
    {
     "name": "stdout",
     "output_type": "stream",
     "text": [
      "[CV] ........................ C=10000.0, score=0.968951, total= 1.5min\n",
      "[CV] C=100000000.0 ...................................................\n",
      "[CV] ........................ C=10000.0, score=0.967880, total= 1.5min\n",
      "[CV] C=100000000.0 ...................................................\n",
      "[CV] ....................... C=100000.0, score=0.968951, total= 1.4min\n",
      "[CV] C=1000000000.0 ..................................................\n",
      "[CV] ....................... C=100000.0, score=0.970557, total= 1.3min\n",
      "[CV] C=1000000000.0 ..................................................\n",
      "[CV] ....................... C=100000.0, score=0.975375, total= 1.4min\n",
      "[CV] C=1000000000.0 ..................................................\n",
      "[CV] ....................... C=100000.0, score=0.964133, total= 1.4min\n",
      "[CV] C=1000000000.0 ..................................................\n",
      "[CV] ....................... C=100000.0, score=0.971092, total= 1.3min\n",
      "[CV] C=1000000000.0 ..................................................\n"
     ]
    },
    {
     "name": "stderr",
     "output_type": "stream",
     "text": [
      "[Parallel(n_jobs=20)]: Done  40 out of  65 | elapsed:  2.9min remaining:  1.8min\n"
     ]
    },
    {
     "name": "stdout",
     "output_type": "stream",
     "text": [
      "[CV] ...................... C=1000000.0, score=0.969486, total= 1.4min\n",
      "[CV] C=10000000000.0 .................................................\n",
      "[CV] ...................... C=1000000.0, score=0.970557, total= 1.3min\n",
      "[CV] C=10000000000.0 .................................................\n",
      "[CV] ...................... C=1000000.0, score=0.966809, total= 1.3min\n",
      "[CV] C=10000000000.0 .................................................\n",
      "[CV] ..................... C=10000000.0, score=0.974839, total= 1.3min\n",
      "[CV] C=10000000000.0 .................................................\n",
      "[CV] ...................... C=1000000.0, score=0.959315, total= 1.3min\n",
      "[CV] C=10000000000.0 .................................................\n",
      "[CV] ..................... C=10000000.0, score=0.972163, total= 1.3min\n",
      "[CV] ..................... C=10000000.0, score=0.968951, total= 1.3min\n",
      "[CV] ..................... C=10000000.0, score=0.972698, total= 1.3min\n"
     ]
    },
    {
     "name": "stderr",
     "output_type": "stream",
     "text": [
      "[Parallel(n_jobs=20)]: Done  47 out of  65 | elapsed:  3.1min remaining:  1.2min\n"
     ]
    },
    {
     "name": "stdout",
     "output_type": "stream",
     "text": [
      "[CV] ...................... C=1000000.0, score=0.970021, total= 1.4min\n",
      "[CV] ..................... C=10000000.0, score=0.965203, total= 1.3min\n",
      "[CV] .................... C=100000000.0, score=0.973769, total= 1.3min\n",
      "[CV] .................... C=100000000.0, score=0.970557, total= 1.3min\n",
      "[CV] .................... C=100000000.0, score=0.970557, total= 1.3min\n",
      "[CV] .................... C=100000000.0, score=0.964133, total= 1.3min\n"
     ]
    },
    {
     "name": "stderr",
     "output_type": "stream",
     "text": [
      "[Parallel(n_jobs=20)]: Done  54 out of  65 | elapsed:  3.2min remaining:   38.9s\n"
     ]
    },
    {
     "name": "stdout",
     "output_type": "stream",
     "text": [
      "[CV] .................... C=100000000.0, score=0.968951, total= 1.2min\n",
      "[CV] ................... C=1000000000.0, score=0.972698, total= 1.1min\n",
      "[CV] ................... C=1000000000.0, score=0.971627, total= 1.0min\n",
      "[CV] ................... C=1000000000.0, score=0.966809, total=  34.2s\n",
      "[CV] .................. C=10000000000.0, score=0.971092, total=  25.5s\n",
      "[CV] ................... C=1000000000.0, score=0.968415, total=  35.1s\n",
      "[CV] ................... C=1000000000.0, score=0.970557, total=  38.8s\n"
     ]
    },
    {
     "name": "stderr",
     "output_type": "stream",
     "text": [
      "[Parallel(n_jobs=20)]: Done  61 out of  65 | elapsed:  3.5min remaining:   13.8s\n"
     ]
    },
    {
     "name": "stdout",
     "output_type": "stream",
     "text": [
      "[CV] .................. C=10000000000.0, score=0.966274, total=  30.1s\n",
      "[CV] .................. C=10000000000.0, score=0.973769, total=  31.2s\n",
      "[CV] .................. C=10000000000.0, score=0.965739, total=  28.0s\n",
      "[CV] .................. C=10000000000.0, score=0.968951, total=  28.6s\n"
     ]
    },
    {
     "name": "stderr",
     "output_type": "stream",
     "text": [
      "[Parallel(n_jobs=20)]: Done  65 out of  65 | elapsed:  3.5min finished\n"
     ]
    },
    {
     "data": {
      "text/plain": [
       "GridSearchCV(cv=StratifiedShuffleSplit(n_splits=5, random_state=1, test_size=0.2,\n",
       "            train_size=None),\n",
       "       error_score='raise',\n",
       "       estimator=LinearSVC(C=1.0, class_weight=None, dual=True, fit_intercept=True,\n",
       "     intercept_scaling=1, loss='squared_hinge', max_iter=1000,\n",
       "     multi_class='ovr', penalty='l2', random_state=None, tol=0.0001,\n",
       "     verbose=0),\n",
       "       fit_params={}, iid=True, n_jobs=20,\n",
       "       param_grid={'C': array([  1.00000e-02,   1.00000e-01,   1.00000e+00,   1.00000e+01,\n",
       "         1.00000e+02,   1.00000e+03,   1.00000e+04,   1.00000e+05,\n",
       "         1.00000e+06,   1.00000e+07,   1.00000e+08,   1.00000e+09,\n",
       "         1.00000e+10])},\n",
       "       pre_dispatch='2*n_jobs', refit=True, return_train_score=True,\n",
       "       scoring=None, verbose=10)"
      ]
     },
     "execution_count": 5,
     "metadata": {},
     "output_type": "execute_result"
    }
   ],
   "source": [
    "# Training top_model\n",
    "C_range = np.logspace(-2, 10, 13)\n",
    "param_grid = dict(C=C_range)\n",
    "cv = StratifiedShuffleSplit(n_splits=5, test_size=0.2, random_state=1)\n",
    "\n",
    "top_model = GridSearchCV(svm.LinearSVC(), param_grid=param_grid, cv=cv, verbose=10, n_jobs=20)\n",
    "top_model.fit(X,y)  # Training "
   ]
  },
  {
   "cell_type": "code",
   "execution_count": 6,
   "metadata": {},
   "outputs": [
    {
     "name": "stdout",
     "output_type": "stream",
     "text": [
      "Best parameters: {'C': 10000000.0} - score: 0.9708\n"
     ]
    }
   ],
   "source": [
    "print(\"Best parameters: %s - score: %0.4f\" % (top_model.best_params_, top_model.best_score_))"
   ]
  },
  {
   "cell_type": "code",
   "execution_count": 7,
   "metadata": {},
   "outputs": [
    {
     "data": {
      "text/plain": [
       "{'mean_fit_time': array([ 12.15352087,  12.70549579,  21.62724767,  80.57340021,\n",
       "         83.27157397,  91.71585617,  89.31553526,  82.29110627,\n",
       "         79.83032722,  78.86045275,  76.34534864,  46.89420147,  28.68122778]),\n",
       " 'mean_score_time': array([ 0.02978897,  0.02884202,  0.02122693,  0.02369461,  0.01523724,\n",
       "         0.02172546,  0.01344719,  0.01404243,  0.0138988 ,  0.01624923,\n",
       "         0.01064773,  0.00747299,  0.00616422]),\n",
       " 'mean_test_score': array([ 0.62591006,  0.89828694,  0.95289079,  0.95845824,  0.9630621 ,\n",
       "         0.96970021,  0.96927195,  0.97002141,  0.96723769,  0.97077088,\n",
       "         0.96959315,  0.97002141,  0.96916488]),\n",
       " 'mean_train_score': array([ 0.62484273,  0.89722929,  0.95711417,  0.97269442,  0.98425914,\n",
       "         0.99502075,  0.99140677,  0.99378932,  0.99191541,  0.9959577 ,\n",
       "         0.9954223 ,  0.99274528,  0.9954223 ]),\n",
       " 'param_C': masked_array(data = [0.01 0.10000000000000001 1.0 10.0 100.0 1000.0 10000.0 100000.0 1000000.0\n",
       "  10000000.0 100000000.0 1000000000.0 10000000000.0],\n",
       "              mask = [False False False False False False False False False False False False\n",
       "  False],\n",
       "        fill_value = ?),\n",
       " 'params': ({'C': 0.01},\n",
       "  {'C': 0.10000000000000001},\n",
       "  {'C': 1.0},\n",
       "  {'C': 10.0},\n",
       "  {'C': 100.0},\n",
       "  {'C': 1000.0},\n",
       "  {'C': 10000.0},\n",
       "  {'C': 100000.0},\n",
       "  {'C': 1000000.0},\n",
       "  {'C': 10000000.0},\n",
       "  {'C': 100000000.0},\n",
       "  {'C': 1000000000.0},\n",
       "  {'C': 10000000000.0}),\n",
       " 'rank_test_score': array([13, 12, 11, 10,  9,  4,  6,  2,  8,  1,  5,  2,  7], dtype=int32),\n",
       " 'split0_test_score': array([ 0.624197  ,  0.8993576 ,  0.95503212,  0.96038544,  0.96573876,\n",
       "         0.97376874,  0.97162741,  0.96895075,  0.96948608,  0.9748394 ,\n",
       "         0.97376874,  0.97269807,  0.97376874]),\n",
       " 'split0_train_score': array([ 0.62508366,  0.89840717,  0.95569536,  0.97416678,  0.984741  ,\n",
       "         0.99692143,  0.99745683,  0.98741802,  0.99129969,  0.99732298,\n",
       "         0.99678758,  0.99651988,  0.99705528]),\n",
       " 'split1_test_score': array([ 0.63222698,  0.89507495,  0.95074946,  0.95610278,  0.96199143,\n",
       "         0.96788009,  0.97109208,  0.97055675,  0.95931478,  0.97216274,\n",
       "         0.97055675,  0.97162741,  0.96627409]),\n",
       " 'split1_train_score': array([ 0.62187124,  0.89733637,  0.95890778,  0.97229287,  0.98420559,\n",
       "         0.99411056,  0.99665373,  0.99196895,  0.98219783,  0.99759068,\n",
       "         0.99772453,  0.99424441,  0.99504752]),\n",
       " 'split2_test_score': array([ 0.62473233,  0.90685225,  0.95985011,  0.96520343,  0.96841542,\n",
       "         0.9748394 ,  0.96895075,  0.97537473,  0.97002141,  0.97269807,\n",
       "         0.97055675,  0.97055675,  0.97109208]),\n",
       " 'split2_train_score': array([ 0.62548521,  0.8947932 ,  0.95395529,  0.97162361,  0.98407174,\n",
       "         0.99718913,  0.98407174,  0.99705528,  0.99370901,  0.99491367,\n",
       "         0.99143354,  0.98206398,  0.99424441]),\n",
       " 'split3_test_score': array([ 0.62687366,  0.89561028,  0.94807281,  0.95342612,  0.95824411,\n",
       "         0.96573876,  0.96680942,  0.96413276,  0.96680942,  0.96520343,\n",
       "         0.96413276,  0.96680942,  0.96573876]),\n",
       " 'split3_train_score': array([ 0.62521751,  0.89800562,  0.95890778,  0.97242672,  0.98420559,\n",
       "         0.99357516,  0.99370901,  0.99504752,  0.99491367,  0.99250435,\n",
       "         0.99370901,  0.99437826,  0.99330746]),\n",
       " 'split4_test_score': array([ 0.62152034,  0.89453961,  0.95074946,  0.95717345,  0.96092077,\n",
       "         0.96627409,  0.96788009,  0.97109208,  0.97055675,  0.96895075,\n",
       "         0.96895075,  0.96841542,  0.96895075]),\n",
       " 'split4_train_score': array([ 0.62655602,  0.89760407,  0.95810467,  0.97296212,  0.98407174,\n",
       "         0.99330746,  0.98514255,  0.99745683,  0.99745683,  0.99745683,\n",
       "         0.99745683,  0.99651988,  0.99745683]),\n",
       " 'std_fit_time': array([  0.72692484,   0.48276576,   5.26697328,  18.30549813,\n",
       "         18.18776828,   2.35402624,   2.00004935,   2.02998825,\n",
       "          2.5855676 ,   0.89531968,   1.57522468,  13.44019878,   1.93100062]),\n",
       " 'std_score_time': array([ 0.01227134,  0.00656068,  0.00802081,  0.00668752,  0.00596977,\n",
       "         0.00978188,  0.00618987,  0.00586712,  0.00669593,  0.00764971,\n",
       "         0.00057617,  0.00194989,  0.00227417]),\n",
       " 'std_test_score': array([ 0.00358952,  0.0046051 ,  0.00413282,  0.00404309,  0.00359909,\n",
       "         0.00383949,  0.00184204,  0.0036308 ,  0.00416597,  0.00336195,\n",
       "         0.0031471 ,  0.00214133,  0.00300168]),\n",
       " 'std_train_score': array([ 0.0015733 ,  0.00127095,  0.00197011,  0.00085077,  0.00024826,\n",
       "         0.00168333,  0.00570048,  0.00373115,  0.00524832,  0.00198966,\n",
       "         0.00245557,  0.00543138,  0.0016004 ])}"
      ]
     },
     "execution_count": 7,
     "metadata": {},
     "output_type": "execute_result"
    }
   ],
   "source": [
    "top_model.cv_results_"
   ]
  },
  {
   "cell_type": "code",
   "execution_count": 8,
   "metadata": {},
   "outputs": [
    {
     "name": "stderr",
     "output_type": "stream",
     "text": [
      "/usr/local/lib/python2.7/dist-packages/sklearn/model_selection/_search.py:667: DeprecationWarning: The grid_scores_ attribute was deprecated in version 0.18 in favor of the more elaborate cv_results_ attribute. The grid_scores_ attribute will not be available from 0.20\n",
      "  DeprecationWarning)\n"
     ]
    },
    {
     "data": {
      "text/plain": [
       "[mean: 0.62591, std: 0.00359, params: {'C': 0.01},\n",
       " mean: 0.89829, std: 0.00461, params: {'C': 0.10000000000000001},\n",
       " mean: 0.95289, std: 0.00413, params: {'C': 1.0},\n",
       " mean: 0.95846, std: 0.00404, params: {'C': 10.0},\n",
       " mean: 0.96306, std: 0.00360, params: {'C': 100.0},\n",
       " mean: 0.96970, std: 0.00384, params: {'C': 1000.0},\n",
       " mean: 0.96927, std: 0.00184, params: {'C': 10000.0},\n",
       " mean: 0.97002, std: 0.00363, params: {'C': 100000.0},\n",
       " mean: 0.96724, std: 0.00417, params: {'C': 1000000.0},\n",
       " mean: 0.97077, std: 0.00336, params: {'C': 10000000.0},\n",
       " mean: 0.96959, std: 0.00315, params: {'C': 100000000.0},\n",
       " mean: 0.97002, std: 0.00214, params: {'C': 1000000000.0},\n",
       " mean: 0.96916, std: 0.00300, params: {'C': 10000000000.0}]"
      ]
     },
     "execution_count": 8,
     "metadata": {},
     "output_type": "execute_result"
    }
   ],
   "source": [
    "top_model.grid_scores_"
   ]
  },
  {
   "cell_type": "code",
   "execution_count": 9,
   "metadata": {
    "collapsed": true
   },
   "outputs": [],
   "source": [
    "cv = StratifiedShuffleSplit(n_splits=5, test_size=0.2, random_state=1)\n",
    "svm_model = svm.SVC(C=top_model.best_params_['C'])\n",
    "train_sizes = np.linspace(.1, 1.0, 10)\n",
    "train_sizes, train_scores, test_scores = learning_curve(svm_model, X, y, cv=cv, n_jobs=20, train_sizes=train_sizes)"
   ]
  },
  {
   "cell_type": "code",
   "execution_count": 10,
   "metadata": {},
   "outputs": [
    {
     "data": {
      "image/png": "[encoded data removed]",
      "text/plain": [
       "<matplotlib.figure.Figure at 0x7f4813057e10>"
      ]
     },
     "metadata": {},
     "output_type": "display_data"
    }
   ],
   "source": [
    "figure = plt.gcf()\n",
    "figure.set_size_inches(24, 9)\n",
    "skplot.learning_curve(train_scores, test_scores, train_sizes)\n",
    "plt.show()"
   ]
  }
 ],
 "metadata": {
  "kernelspec": {
   "display_name": "Python 2",
   "language": "python",
   "name": "python2"
  },
  "language_info": {
   "codemirror_mode": {
    "name": "ipython",
    "version": 2
   },
   "file_extension": ".py",
   "mimetype": "text/x-python",
   "name": "python",
   "nbconvert_exporter": "python",
   "pygments_lexer": "ipython2",
   "version": "2.7.12"
  }
 },
 "nbformat": 4,
 "nbformat_minor": 1
}
