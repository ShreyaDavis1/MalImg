{
 "cells": [
  {
   "cell_type": "code",
   "execution_count": 1,
   "metadata": {
    "collapsed": true
   },
   "outputs": [],
   "source": [
    "import os\n",
    "import os.path\n",
    "import glob\n",
    "import numpy as np\n",
    "import Image,leargist\n",
    "import matplotlib.pyplot as plt\n",
    "from sklearn.model_selection import StratifiedKFold\n",
    "from sklearn.metrics import confusion_matrix,accuracy_score\n",
    "from sklearn import svm\n",
    "\n",
    "from sklearn.model_selection import StratifiedShuffleSplit\n",
    "from sklearn.model_selection import GridSearchCV\n",
    "import sklearn_evaluation.plot as skplot\n",
    "from sklearn.model_selection import learning_curve\n",
    "\n",
    "import matplotlib.pyplot as plt\n",
    "import matplotlib.cm as colormap\n",
    "plt.rcParams['image.cmap'] = 'Paired'\n",
    "\n",
    "import numpy as np\n",
    "np.random.seed(1)"
   ]
  },
  {
   "cell_type": "code",
   "execution_count": 2,
   "metadata": {
    "collapsed": true
   },
   "outputs": [],
   "source": [
    "imagedir = \"Datasets/malimg_paper_dataset_imgs\""
   ]
  },
  {
   "cell_type": "code",
   "execution_count": 3,
   "metadata": {},
   "outputs": [
    {
     "name": "stdout",
     "output_type": "stream",
     "text": [
      "Label: 0\tFamily:       Adialer.C\tNumber of images: 122\n",
      "Label: 1\tFamily:       Agent.FYI\tNumber of images: 116\n",
      "Label: 2\tFamily:       Allaple.A\tNumber of images: 2949\n",
      "Label: 3\tFamily:       Allaple.L\tNumber of images: 1591\n",
      "Label: 4\tFamily:   Alueron.gen!J\tNumber of images: 198\n",
      "Label: 5\tFamily:       Autorun.K\tNumber of images: 106\n",
      "Label: 6\tFamily:     C2LOP.gen!g\tNumber of images: 200\n",
      "Label: 7\tFamily:         C2LOP.P\tNumber of images: 146\n",
      "Label: 8\tFamily:  Dialplatform.B\tNumber of images: 177\n",
      "Label: 9\tFamily:       Dontovo.A\tNumber of images: 162\n",
      "Label:10\tFamily:        Fakerean\tNumber of images: 381\n",
      "Label:11\tFamily:   Instantaccess\tNumber of images: 431\n",
      "Label:12\tFamily:      Lolyda.AA1\tNumber of images: 213\n",
      "Label:13\tFamily:      Lolyda.AA2\tNumber of images: 184\n",
      "Label:14\tFamily:      Lolyda.AA3\tNumber of images: 123\n",
      "Label:15\tFamily:       Lolyda.AT\tNumber of images: 159\n",
      "Label:16\tFamily:     Malex.gen!J\tNumber of images: 136\n",
      "Label:17\tFamily:   Obfuscator.AD\tNumber of images: 142\n",
      "Label:18\tFamily:        Rbot!gen\tNumber of images: 158\n",
      "Label:19\tFamily:      Skintrim.N\tNumber of images: 80\n",
      "Label:20\tFamily:   Swizzor.gen!E\tNumber of images: 128\n",
      "Label:21\tFamily:   Swizzor.gen!I\tNumber of images: 132\n",
      "Label:22\tFamily:           VB.AT\tNumber of images: 408\n",
      "Label:23\tFamily:      Wintrim.BX\tNumber of images: 97\n",
      "Label:24\tFamily:         Yuner.A\tNumber of images: 800\n",
      "Processing images ...\n",
      "Images processed: 9339\n"
     ]
    }
   ],
   "source": [
    "cur_dir = os.getcwd()\n",
    "os.chdir(imagedir)  # the parent folder with sub-folders\n",
    "\n",
    "# Get number of samples per family\n",
    "list_fams = sorted(os.listdir(os.getcwd()), key=str.lower)  # vector of strings with family names\n",
    "no_imgs = []  # No. of samples per family\n",
    "for i in range(len(list_fams)):\n",
    "    os.chdir(list_fams[i])\n",
    "    len1 = len(glob.glob('*.png'))  # assuming the images are stored as 'png'\n",
    "    no_imgs.append(len1)\n",
    "    os.chdir('..')\n",
    "num_samples = np.sum(no_imgs)  # total number of all samples\n",
    "\n",
    "# Compute the labels\n",
    "y = np.zeros(num_samples)\n",
    "pos = 0\n",
    "label = 0\n",
    "for i in no_imgs:\n",
    "    print (\"Label:%2d\\tFamily: %15s\\tNumber of images: %d\" % (label, list_fams[label], i))\n",
    "    for j in range(i):\n",
    "        y[pos] = label\n",
    "        pos += 1\n",
    "    label += 1\n",
    "num_classes = label\n",
    "\n",
    "# Compute the features\n",
    "X = np.zeros((num_samples, 320))\n",
    "cnt = 0\n",
    "list_paths = [] # List of image paths\n",
    "print(\"Processing images ...\")\n",
    "for i in range(len(list_fams)):\n",
    "    for img_file in glob.glob(list_fams[i]+'/*.png'):\n",
    "        #print(\"[%d] Processing image: %s\" % (cnt, img_file))\n",
    "        im = Image.open(img_file)\n",
    "        im1 = im.resize((64,64),Image.ANTIALIAS); # for faster computation\n",
    "        des = leargist.color_gist(im1)\n",
    "        X[cnt] = des[0:320]\n",
    "        cnt += 1\n",
    "print(\"Images processed: %d\" %(cnt))\n",
    "\n",
    "os.chdir(cur_dir)"
   ]
  },
  {
   "cell_type": "code",
   "execution_count": 4,
   "metadata": {},
   "outputs": [
    {
     "data": {
      "text/plain": [
       "(9339, 320)"
      ]
     },
     "execution_count": 4,
     "metadata": {},
     "output_type": "execute_result"
    }
   ],
   "source": [
    "X.shape"
   ]
  },
  {
   "cell_type": "code",
   "execution_count": 5,
   "metadata": {},
   "outputs": [
    {
     "name": "stdout",
     "output_type": "stream",
     "text": [
      "Fitting 5 folds for each of 13 candidates, totalling 65 fits\n",
      "[CV] C=0.01 ..........................................................\n",
      "[CV] C=0.01 ..........................................................\n",
      "[CV] C=0.01 ..........................................................\n",
      "[CV] C=0.01 ..........................................................\n",
      "[CV] C=0.01 ..........................................................\n",
      "[CV] C=0.1 ...........................................................\n",
      "[CV] C=0.1 ...........................................................\n",
      "[CV] C=0.1 ...........................................................\n",
      "[CV] C=0.1 ...........................................................\n",
      "[CV] C=0.1 ...........................................................\n",
      "[CV] C=1.0 ...........................................................\n",
      "[CV] C=1.0 ...........................................................\n",
      "[CV] C=1.0 ...........................................................\n",
      "[CV] C=1.0 ...........................................................\n",
      "[CV] C=1.0 ...........................................................\n",
      "[CV] C=10.0 ..........................................................\n",
      "[CV] C=10.0 ..........................................................\n",
      "[CV] C=10.0 ..........................................................\n",
      "[CV] C=10.0 ..........................................................\n",
      "[CV] C=10.0 ..........................................................\n",
      "[CV] ........................... C=0.01, score=0.626874, total=   4.3s\n",
      "[CV] C=100.0 .........................................................\n",
      "[CV] ........................... C=0.01, score=0.621520, total=   4.3s\n",
      "[CV] C=100.0 .........................................................\n",
      "[CV] ........................... C=0.01, score=0.632227, total=   4.6s\n",
      "[CV] C=100.0 .........................................................\n",
      "[CV] ............................ C=0.1, score=0.899358, total=   4.4s\n"
     ]
    },
    {
     "name": "stderr",
     "output_type": "stream",
     "text": [
      "[Parallel(n_jobs=20)]: Done   1 tasks      | elapsed:    4.7s\n"
     ]
    },
    {
     "name": "stdout",
     "output_type": "stream",
     "text": [
      "[CV] C=100.0 .........................................................\n",
      "[CV] ........................... C=0.01, score=0.624732, total=   4.8s\n",
      "[CV] C=100.0 .........................................................\n",
      "[CV] ........................... C=0.01, score=0.624197, total=   5.3s\n",
      "[CV] C=1000.0 ........................................................\n",
      "[CV] ............................ C=0.1, score=0.895075, total=   5.2s\n",
      "[CV] ............................ C=0.1, score=0.894540, total=   5.1s\n",
      "[CV] C=1000.0 ........................................................\n",
      "[CV] C=1000.0 ........................................................\n",
      "[CV] ............................ C=0.1, score=0.906852, total=   5.6s\n",
      "[CV] C=1000.0 ........................................................\n",
      "[CV] ............................ C=0.1, score=0.895610, total=   5.6s\n",
      "[CV] C=1000.0 ........................................................\n"
     ]
    },
    {
     "name": "stderr",
     "output_type": "stream",
     "text": [
      "[Parallel(n_jobs=20)]: Done  10 tasks      | elapsed:    6.3s\n"
     ]
    },
    {
     "name": "stdout",
     "output_type": "stream",
     "text": [
      "[CV] ............................ C=1.0, score=0.955032, total=  11.7s\n",
      "[CV] C=10000.0 .......................................................\n",
      "[CV] ............................ C=1.0, score=0.948073, total=  12.7s\n",
      "[CV] C=10000.0 .......................................................\n",
      "[CV] ............................ C=1.0, score=0.959850, total=  12.9s\n",
      "[CV] ............................ C=1.0, score=0.950749, total=  12.8s\n",
      "[CV] C=10000.0 .......................................................\n",
      "[CV] C=10000.0 .......................................................\n",
      "[CV] ............................ C=1.0, score=0.950749, total=  13.2s\n",
      "[CV] C=10000.0 .......................................................\n",
      "[CV] ........................... C=10.0, score=0.953426, total=  35.3s\n",
      "[CV] C=100000.0 ......................................................\n",
      "[CV] ........................... C=10.0, score=0.960385, total=  38.7s\n",
      "[CV] C=100000.0 ......................................................\n",
      "[CV] .......................... C=100.0, score=0.961991, total=  36.8s\n",
      "[CV] C=100000.0 ......................................................\n",
      "[CV] ........................... C=10.0, score=0.965203, total=  40.5s\n",
      "[CV] C=100000.0 ......................................................\n",
      "[CV] .......................... C=100.0, score=0.958244, total=  37.1s\n",
      "[CV] C=100000.0 ......................................................\n",
      "[CV] .......................... C=100.0, score=0.968415, total=  39.2s\n",
      "[CV] C=1000000.0 .....................................................\n"
     ]
    },
    {
     "name": "stderr",
     "output_type": "stream",
     "text": [
      "[Parallel(n_jobs=20)]: Done  21 tasks      | elapsed:   44.1s\n"
     ]
    },
    {
     "name": "stdout",
     "output_type": "stream",
     "text": [
      "[CV] ......................... C=1000.0, score=0.967880, total=  40.0s\n",
      "[CV] C=1000000.0 .....................................................\n",
      "[CV] .......................... C=100.0, score=0.960921, total=  41.1s\n",
      "[CV] C=1000000.0 .....................................................\n",
      "[CV] ........................... C=10.0, score=0.957173, total=  46.2s\n",
      "[CV] C=1000000.0 .....................................................\n",
      "[CV] .......................... C=100.0, score=0.965739, total=  43.1s\n",
      "[CV] C=1000000.0 .....................................................\n",
      "[CV] ........................... C=10.0, score=0.956103, total=  49.5s\n",
      "[CV] C=10000000.0 ....................................................\n",
      "[CV] ......................... C=1000.0, score=0.973769, total=  49.9s\n",
      "[CV] C=10000000.0 ....................................................\n",
      "[CV] ......................... C=1000.0, score=0.966274, total=  51.1s\n",
      "[CV] C=10000000.0 ....................................................\n",
      "[CV] ......................... C=1000.0, score=0.965739, total=  51.9s\n",
      "[CV] C=10000000.0 ....................................................\n",
      "[CV] ......................... C=1000.0, score=0.974839, total=  53.6s\n",
      "[CV] C=10000000.0 ....................................................\n",
      "[CV] ........................ C=10000.0, score=0.971627, total=  48.8s\n",
      "[CV] C=100000000.0 ...................................................\n",
      "[CV] ........................ C=10000.0, score=0.967880, total=  47.5s\n",
      "[CV] C=100000000.0 ...................................................\n",
      "[CV] ........................ C=10000.0, score=0.971092, total=  48.1s\n",
      "[CV] C=100000000.0 ...................................................\n"
     ]
    },
    {
     "name": "stderr",
     "output_type": "stream",
     "text": [
      "[Parallel(n_jobs=20)]: Done  33 out of  65 | elapsed:  1.0min remaining:  1.0min\n"
     ]
    },
    {
     "name": "stdout",
     "output_type": "stream",
     "text": [
      "[CV] ........................ C=10000.0, score=0.968951, total=  49.0s\n",
      "[CV] C=100000000.0 ...................................................\n",
      "[CV] ........................ C=10000.0, score=0.966809, total=  51.4s\n",
      "[CV] C=100000000.0 ...................................................\n",
      "[CV] ....................... C=100000.0, score=0.968951, total=  41.8s\n",
      "[CV] C=1000000000.0 ..................................................\n",
      "[CV] ....................... C=100000.0, score=0.966809, total=  39.8s\n",
      "[CV] C=1000000000.0 ..................................................\n",
      "[CV] ....................... C=100000.0, score=0.967345, total=  39.8s\n",
      "[CV] C=1000000000.0 ..................................................\n",
      "[CV] ....................... C=100000.0, score=0.964133, total=  40.2s\n",
      "[CV] C=1000000000.0 ..................................................\n",
      "[CV] ...................... C=1000000.0, score=0.975375, total=  39.8s\n",
      "[CV] C=1000000000.0 ..................................................\n"
     ]
    },
    {
     "name": "stderr",
     "output_type": "stream",
     "text": [
      "[Parallel(n_jobs=20)]: Done  40 out of  65 | elapsed:  1.4min remaining:   52.5s\n"
     ]
    },
    {
     "name": "stdout",
     "output_type": "stream",
     "text": [
      "[CV] ....................... C=100000.0, score=0.963062, total=  42.6s\n",
      "[CV] C=10000000000.0 .................................................\n",
      "[CV] ...................... C=1000000.0, score=0.970021, total=  42.1s\n",
      "[CV] C=10000000000.0 .................................................\n",
      "[CV] ...................... C=1000000.0, score=0.970557, total=  40.6s\n",
      "[CV] C=10000000000.0 .................................................\n",
      "[CV] ...................... C=1000000.0, score=0.959315, total=  42.8s\n",
      "[CV] C=10000000000.0 .................................................\n",
      "[CV] ...................... C=1000000.0, score=0.964668, total=  47.9s\n",
      "[CV] C=10000000000.0 .................................................\n",
      "[CV] ..................... C=10000000.0, score=0.970557, total=  47.3s\n",
      "[CV] ..................... C=10000000.0, score=0.972163, total=  45.5s\n"
     ]
    },
    {
     "name": "stderr",
     "output_type": "stream",
     "text": [
      "[Parallel(n_jobs=20)]: Done  47 out of  65 | elapsed:  1.7min remaining:   38.7s\n"
     ]
    },
    {
     "name": "stdout",
     "output_type": "stream",
     "text": [
      "[CV] ..................... C=10000000.0, score=0.968951, total=  45.1s\n",
      "[CV] ..................... C=10000000.0, score=0.965203, total=  46.5s\n",
      "[CV] ..................... C=10000000.0, score=0.972698, total=  47.5s\n",
      "[CV] .................... C=100000000.0, score=0.970557, total=  45.1s\n",
      "[CV] .................... C=100000000.0, score=0.964133, total=  45.0s\n",
      "[CV] .................... C=100000000.0, score=0.973769, total=  46.6s\n",
      "[CV] .................... C=100000000.0, score=0.970557, total=  46.7s\n"
     ]
    },
    {
     "name": "stderr",
     "output_type": "stream",
     "text": [
      "[Parallel(n_jobs=20)]: Done  54 out of  65 | elapsed:  1.8min remaining:   22.1s\n"
     ]
    },
    {
     "name": "stdout",
     "output_type": "stream",
     "text": [
      "[CV] .................... C=100000000.0, score=0.968951, total=  43.8s\n",
      "[CV] .................. C=10000000000.0, score=0.970557, total=  23.3s\n",
      "[CV] ................... C=1000000000.0, score=0.974304, total=  37.5s\n",
      "[CV] ................... C=1000000000.0, score=0.970557, total=  39.6s\n",
      "[CV] ................... C=1000000000.0, score=0.966809, total=  37.5s\n",
      "[CV] ................... C=1000000000.0, score=0.972698, total=  41.1s\n",
      "[CV] .................. C=10000000000.0, score=0.974839, total=  35.0s\n"
     ]
    },
    {
     "name": "stderr",
     "output_type": "stream",
     "text": [
      "[Parallel(n_jobs=20)]: Done  61 out of  65 | elapsed:  2.0min remaining:    7.9s\n"
     ]
    },
    {
     "name": "stdout",
     "output_type": "stream",
     "text": [
      "[CV] ................... C=1000000000.0, score=0.965203, total=  36.1s\n",
      "[CV] .................. C=10000000000.0, score=0.966274, total=  33.1s\n",
      "[CV] .................. C=10000000000.0, score=0.965739, total=  33.8s\n",
      "[CV] .................. C=10000000000.0, score=0.971092, total=  34.5s\n"
     ]
    },
    {
     "name": "stderr",
     "output_type": "stream",
     "text": [
      "[Parallel(n_jobs=20)]: Done  65 out of  65 | elapsed:  2.1min finished\n"
     ]
    },
    {
     "data": {
      "text/plain": [
       "GridSearchCV(cv=StratifiedShuffleSplit(n_splits=5, random_state=1, test_size=0.2,\n",
       "            train_size=None),\n",
       "       error_score='raise',\n",
       "       estimator=LinearSVC(C=1.0, class_weight=None, dual=True, fit_intercept=True,\n",
       "     intercept_scaling=1, loss='squared_hinge', max_iter=1000,\n",
       "     multi_class='ovr', penalty='l2', random_state=None, tol=0.0001,\n",
       "     verbose=0),\n",
       "       fit_params={}, iid=True, n_jobs=20,\n",
       "       param_grid={'C': array([  1.00000e-02,   1.00000e-01,   1.00000e+00,   1.00000e+01,\n",
       "         1.00000e+02,   1.00000e+03,   1.00000e+04,   1.00000e+05,\n",
       "         1.00000e+06,   1.00000e+07,   1.00000e+08,   1.00000e+09,\n",
       "         1.00000e+10])},\n",
       "       pre_dispatch='2*n_jobs', refit=True, return_train_score=True,\n",
       "       scoring=None, verbose=10)"
      ]
     },
     "execution_count": 5,
     "metadata": {},
     "output_type": "execute_result"
    }
   ],
   "source": [
    "# Training top_model\n",
    "C_range = np.logspace(-2, 10, 13)\n",
    "param_grid = dict(C=C_range)\n",
    "cv = StratifiedShuffleSplit(n_splits=5, test_size=0.2, random_state=1)\n",
    "\n",
    "top_model = GridSearchCV(svm.LinearSVC(), param_grid=param_grid, cv=cv, verbose=10, n_jobs=20)\n",
    "top_model.fit(X,y)  # Training "
   ]
  },
  {
   "cell_type": "code",
   "execution_count": 6,
   "metadata": {},
   "outputs": [
    {
     "name": "stdout",
     "output_type": "stream",
     "text": [
      "Best parameters: {'C': 10000000.0} - score: 0.9699\n"
     ]
    }
   ],
   "source": [
    "print(\"Best parameters: %s - score: %0.4f\" % (top_model.best_params_, top_model.best_score_))"
   ]
  },
  {
   "cell_type": "code",
   "execution_count": 7,
   "metadata": {},
   "outputs": [
    {
     "data": {
      "text/plain": [
       "{'mean_fit_time': array([  4.66402559,   5.14145403,  12.62725444,  42.00725894,\n",
       "         39.45208035,  49.27824178,  48.96529059,  40.8268362 ,\n",
       "         42.6147058 ,  46.38610115,  45.4428298 ,  38.33144879,  31.92907424]),\n",
       " 'mean_score_time': array([ 0.0166636 ,  0.01745071,  0.01659298,  0.01816378,  0.01113701,\n",
       "         0.01199355,  0.01087503,  0.01214323,  0.01267681,  0.01197381,\n",
       "         0.00637183,  0.00614696,  0.0042532 ]),\n",
       " 'mean_test_score': array([ 0.62591006,  0.89828694,  0.95289079,  0.95845824,  0.9630621 ,\n",
       "         0.96970021,  0.96927195,  0.96605996,  0.96798715,  0.96991435,\n",
       "         0.96959315,  0.96991435,  0.96970021]),\n",
       " 'mean_train_score': array([ 0.62484273,  0.89722929,  0.95711417,  0.97269442,  0.98425914,\n",
       "         0.99502075,  0.99140677,  0.99009503,  0.9918351 ,  0.99502075,\n",
       "         0.9954223 ,  0.99574354,  0.99520814]),\n",
       " 'param_C': masked_array(data = [0.01 0.10000000000000001 1.0 10.0 100.0 1000.0 10000.0 100000.0 1000000.0\n",
       "  10000000.0 100000000.0 1000000000.0 10000000000.0],\n",
       "              mask = [False False False False False False False False False False False False\n",
       "  False],\n",
       "        fill_value = ?),\n",
       " 'params': ({'C': 0.01},\n",
       "  {'C': 0.10000000000000001},\n",
       "  {'C': 1.0},\n",
       "  {'C': 10.0},\n",
       "  {'C': 100.0},\n",
       "  {'C': 1000.0},\n",
       "  {'C': 10000.0},\n",
       "  {'C': 100000.0},\n",
       "  {'C': 1000000.0},\n",
       "  {'C': 10000000.0},\n",
       "  {'C': 100000000.0},\n",
       "  {'C': 1000000000.0},\n",
       "  {'C': 10000000000.0}),\n",
       " 'rank_test_score': array([13, 12, 11, 10,  9,  3,  6,  8,  7,  1,  5,  1,  3], dtype=int32),\n",
       " 'split0_test_score': array([ 0.624197  ,  0.8993576 ,  0.95503212,  0.96038544,  0.96573876,\n",
       "         0.97376874,  0.97162741,  0.96895075,  0.97537473,  0.97055675,\n",
       "         0.97376874,  0.97269807,  0.9748394 ]),\n",
       " 'split0_train_score': array([ 0.62508366,  0.89840717,  0.95569536,  0.97416678,  0.984741  ,\n",
       "         0.99692143,  0.99745683,  0.98741802,  0.99330746,  0.9926382 ,\n",
       "         0.99678758,  0.99651988,  0.99611832]),\n",
       " 'split1_test_score': array([ 0.63222698,  0.89507495,  0.95074946,  0.95610278,  0.96199143,\n",
       "         0.96788009,  0.97109208,  0.96680942,  0.95931478,  0.97216274,\n",
       "         0.97055675,  0.97055675,  0.96627409]),\n",
       " 'split1_train_score': array([ 0.62187124,  0.89733637,  0.95890778,  0.97229287,  0.98420559,\n",
       "         0.99411056,  0.99665373,  0.99223665,  0.98219783,  0.99759068,\n",
       "         0.99772453,  0.99772453,  0.99504752]),\n",
       " 'split2_test_score': array([ 0.62473233,  0.90685225,  0.95985011,  0.96520343,  0.96841542,\n",
       "         0.9748394 ,  0.96895075,  0.96734475,  0.97002141,  0.97269807,\n",
       "         0.97055675,  0.97430407,  0.97109208]),\n",
       " 'split2_train_score': array([ 0.62548521,  0.8947932 ,  0.95395529,  0.97162361,  0.98407174,\n",
       "         0.99718913,  0.98407174,  0.99303975,  0.99370901,  0.99491367,\n",
       "         0.99143354,  0.99638603,  0.99424441]),\n",
       " 'split3_test_score': array([ 0.62687366,  0.89561028,  0.94807281,  0.95342612,  0.95824411,\n",
       "         0.96573876,  0.96680942,  0.96413276,  0.96466809,  0.96520343,\n",
       "         0.96413276,  0.96680942,  0.96573876]),\n",
       " 'split3_train_score': array([ 0.62521751,  0.89800562,  0.95890778,  0.97242672,  0.98420559,\n",
       "         0.99357516,  0.99370901,  0.99504752,  0.99250435,  0.99250435,\n",
       "         0.99370901,  0.99437826,  0.99330746]),\n",
       " 'split4_test_score': array([ 0.62152034,  0.89453961,  0.95074946,  0.95717345,  0.96092077,\n",
       "         0.96627409,  0.96788009,  0.9630621 ,  0.97055675,  0.96895075,\n",
       "         0.96895075,  0.96520343,  0.97055675]),\n",
       " 'split4_train_score': array([ 0.62655602,  0.89760407,  0.95810467,  0.97296212,  0.98407174,\n",
       "         0.99330746,  0.98514255,  0.98273324,  0.99745683,  0.99745683,\n",
       "         0.99745683,  0.99370901,  0.99732298]),\n",
       " 'std_fit_time': array([ 0.37194247,  0.44327333,  0.51413117,  5.12858572,  2.39267976,\n",
       "         4.81768819,  1.31865928,  1.15111169,  2.83802921,  0.9586166 ,\n",
       "         1.07210841,  1.77584523,  4.3772007 ]),\n",
       " 'std_score_time': array([ 0.0051324 ,  0.00427674,  0.00253395,  0.00260213,  0.00079612,\n",
       "         0.0040255 ,  0.00213927,  0.00225695,  0.00226324,  0.00269885,\n",
       "         0.00074768,  0.00081249,  0.00043011]),\n",
       " 'std_test_score': array([ 0.00358952,  0.0046051 ,  0.00413282,  0.00404309,  0.00359909,\n",
       "         0.00383949,  0.00184204,  0.00215733,  0.00550534,  0.00269586,\n",
       "         0.0031471 ,  0.00344281,  0.00336195]),\n",
       " 'std_train_score': array([ 0.0015733 ,  0.00127095,  0.00197011,  0.00085077,  0.00024826,\n",
       "         0.00168333,  0.00570048,  0.00445303,  0.00511093,  0.00221627,\n",
       "         0.00245557,  0.0014794 ,  0.00140486])}"
      ]
     },
     "execution_count": 7,
     "metadata": {},
     "output_type": "execute_result"
    }
   ],
   "source": [
    "top_model.cv_results_"
   ]
  },
  {
   "cell_type": "code",
   "execution_count": 8,
   "metadata": {},
   "outputs": [
    {
     "name": "stderr",
     "output_type": "stream",
     "text": [
      "/usr/local/lib/python2.7/dist-packages/sklearn/model_selection/_search.py:667: DeprecationWarning: The grid_scores_ attribute was deprecated in version 0.18 in favor of the more elaborate cv_results_ attribute. The grid_scores_ attribute will not be available from 0.20\n",
      "  DeprecationWarning)\n"
     ]
    },
    {
     "data": {
      "text/plain": [
       "[mean: 0.62591, std: 0.00359, params: {'C': 0.01},\n",
       " mean: 0.89829, std: 0.00461, params: {'C': 0.10000000000000001},\n",
       " mean: 0.95289, std: 0.00413, params: {'C': 1.0},\n",
       " mean: 0.95846, std: 0.00404, params: {'C': 10.0},\n",
       " mean: 0.96306, std: 0.00360, params: {'C': 100.0},\n",
       " mean: 0.96970, std: 0.00384, params: {'C': 1000.0},\n",
       " mean: 0.96927, std: 0.00184, params: {'C': 10000.0},\n",
       " mean: 0.96606, std: 0.00216, params: {'C': 100000.0},\n",
       " mean: 0.96799, std: 0.00551, params: {'C': 1000000.0},\n",
       " mean: 0.96991, std: 0.00270, params: {'C': 10000000.0},\n",
       " mean: 0.96959, std: 0.00315, params: {'C': 100000000.0},\n",
       " mean: 0.96991, std: 0.00344, params: {'C': 1000000000.0},\n",
       " mean: 0.96970, std: 0.00336, params: {'C': 10000000000.0}]"
      ]
     },
     "execution_count": 8,
     "metadata": {},
     "output_type": "execute_result"
    }
   ],
   "source": [
    "top_model.grid_scores_"
   ]
  },
  {
   "cell_type": "code",
   "execution_count": 9,
   "metadata": {
    "collapsed": true
   },
   "outputs": [],
   "source": [
    "cv = StratifiedShuffleSplit(n_splits=5, test_size=0.2, random_state=1)\n",
    "svm_model = svm.LinearSVC(C=top_model.best_params_['C'])\n",
    "train_sizes = np.linspace(.1, 1.0, 10)\n",
    "train_sizes, train_scores, test_scores = learning_curve(svm_model, X, y, cv=cv, n_jobs=20, train_sizes=train_sizes)"
   ]
  },
  {
   "cell_type": "code",
   "execution_count": 10,
   "metadata": {},
   "outputs": [
    {
     "data": {
      "image/png": "[encoded data removed]",
      "text/plain": [
       "<matplotlib.figure.Figure at 0x7f6c95732ed0>"
      ]
     },
     "metadata": {},
     "output_type": "display_data"
    }
   ],
   "source": [
    "figure = plt.gcf()\n",
    "figure.set_size_inches(24, 9)\n",
    "skplot.learning_curve(train_scores, test_scores, train_sizes)\n",
    "plt.show()"
   ]
  }
 ],
 "metadata": {
  "kernelspec": {
   "display_name": "Python 2",
   "language": "python",
   "name": "python2"
  },
  "language_info": {
   "codemirror_mode": {
    "name": "ipython",
    "version": 2
   },
   "file_extension": ".py",
   "mimetype": "text/x-python",
   "name": "python",
   "nbconvert_exporter": "python",
   "pygments_lexer": "ipython2",
   "version": "2.7.12"
  }
 },
 "nbformat": 4,
 "nbformat_minor": 1
}
