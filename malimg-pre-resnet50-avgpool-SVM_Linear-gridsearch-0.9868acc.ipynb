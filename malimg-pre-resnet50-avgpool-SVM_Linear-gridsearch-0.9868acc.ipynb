{
 "cells": [
  {
   "cell_type": "code",
   "execution_count": 1,
   "metadata": {},
   "outputs": [
    {
     "name": "stderr",
     "output_type": "stream",
     "text": [
      "Using TensorFlow backend.\n"
     ]
    }
   ],
   "source": [
    "import os\n",
    "import os.path\n",
    "import glob\n",
    "from sklearn.preprocessing import LabelEncoder\n",
    "from sklearn.model_selection import StratifiedKFold                                                                                                                       \n",
    "from sklearn.metrics import confusion_matrix,accuracy_score\n",
    "from sklearn.model_selection import StratifiedShuffleSplit\n",
    "from sklearn.model_selection import GridSearchCV\n",
    "import sklearn_evaluation.plot as skplot\n",
    "from sklearn.model_selection import learning_curve\n",
    "from sklearn import svm\n",
    "\n",
    "import matplotlib.pyplot as plt\n",
    "import matplotlib.cm as colormap\n",
    "%matplotlib inline\n",
    "\n",
    "import numpy as np\n",
    "np.random.seed(1)\n",
    "\n",
    "from keras.preprocessing.image import img_to_array\n",
    "from keras.utils import np_utils\n",
    "from keras.preprocessing import image\n",
    "from keras.applications.resnet50 import ResNet50\n",
    "from keras.applications.imagenet_utils import preprocess_input"
   ]
  },
  {
   "cell_type": "code",
   "execution_count": 2,
   "metadata": {
    "collapsed": true
   },
   "outputs": [],
   "source": [
    "imagedir = \"Datasets/malimg_paper_dataset_imgs\""
   ]
  },
  {
   "cell_type": "code",
   "execution_count": 3,
   "metadata": {},
   "outputs": [
    {
     "name": "stdout",
     "output_type": "stream",
     "text": [
      "Label: 0\tFamily:       Adialer.C\tNumber of images: 122\n",
      "Label: 1\tFamily:       Agent.FYI\tNumber of images: 116\n",
      "Label: 2\tFamily:       Allaple.A\tNumber of images: 2949\n",
      "Label: 3\tFamily:       Allaple.L\tNumber of images: 1591\n",
      "Label: 4\tFamily:   Alueron.gen!J\tNumber of images: 198\n",
      "Label: 5\tFamily:       Autorun.K\tNumber of images: 106\n",
      "Label: 6\tFamily:     C2LOP.gen!g\tNumber of images: 200\n",
      "Label: 7\tFamily:         C2LOP.P\tNumber of images: 146\n",
      "Label: 8\tFamily:  Dialplatform.B\tNumber of images: 177\n",
      "Label: 9\tFamily:       Dontovo.A\tNumber of images: 162\n",
      "Label:10\tFamily:        Fakerean\tNumber of images: 381\n",
      "Label:11\tFamily:   Instantaccess\tNumber of images: 431\n",
      "Label:12\tFamily:      Lolyda.AA1\tNumber of images: 213\n",
      "Label:13\tFamily:      Lolyda.AA2\tNumber of images: 184\n",
      "Label:14\tFamily:      Lolyda.AA3\tNumber of images: 123\n",
      "Label:15\tFamily:       Lolyda.AT\tNumber of images: 159\n",
      "Label:16\tFamily:     Malex.gen!J\tNumber of images: 136\n",
      "Label:17\tFamily:   Obfuscator.AD\tNumber of images: 142\n",
      "Label:18\tFamily:        Rbot!gen\tNumber of images: 158\n",
      "Label:19\tFamily:      Skintrim.N\tNumber of images: 80\n",
      "Label:20\tFamily:   Swizzor.gen!E\tNumber of images: 128\n",
      "Label:21\tFamily:   Swizzor.gen!I\tNumber of images: 132\n",
      "Label:22\tFamily:           VB.AT\tNumber of images: 408\n",
      "Label:23\tFamily:      Wintrim.BX\tNumber of images: 97\n",
      "Label:24\tFamily:         Yuner.A\tNumber of images: 800\n",
      "Processing images ...\n",
      "Images processed: 9339\n"
     ]
    }
   ],
   "source": [
    "cur_dir = os.getcwd()\n",
    "os.chdir(imagedir)  # the parent folder with sub-folders\n",
    "\n",
    "# Get number of samples per family\n",
    "list_fams = sorted(os.listdir(os.getcwd()), key=str.lower)  # vector of strings with family names\n",
    "no_imgs = []  # No. of samples per family\n",
    "for i in range(len(list_fams)):\n",
    "    os.chdir(list_fams[i])\n",
    "    len1 = len(glob.glob('*.png'))  # assuming the images are stored as 'png'\n",
    "    no_imgs.append(len1)\n",
    "    os.chdir('..')\n",
    "num_samples = np.sum(no_imgs)  # total number of all samples\n",
    "\n",
    "# Compute the labels\n",
    "y = np.zeros(num_samples)\n",
    "pos = 0\n",
    "label = 0\n",
    "for i in no_imgs:\n",
    "    print (\"Label:%2d\\tFamily: %15s\\tNumber of images: %d\" % (label, list_fams[label], i))\n",
    "    for j in range(i):\n",
    "        y[pos] = label\n",
    "        pos += 1\n",
    "    label += 1\n",
    "num_classes = label\n",
    "\n",
    "# Compute the features\n",
    "width, height,channels = (224,224,3)\n",
    "X = np.zeros((num_samples, width, height, channels))\n",
    "cnt = 0\n",
    "list_paths = [] # List of image paths\n",
    "print(\"Processing images ...\")\n",
    "for i in range(len(list_fams)):\n",
    "    for img_file in glob.glob(list_fams[i]+'/*.png'):\n",
    "        #print(\"[%d] Processing image: %s\" % (cnt, img_file))\n",
    "        list_paths.append(os.path.join(os.getcwd(),img_file))\n",
    "        img = image.load_img(img_file, target_size=(224, 224))\n",
    "        x = image.img_to_array(img)\n",
    "        x = np.expand_dims(x, axis=0)\n",
    "        x = preprocess_input(x)\n",
    "        X[cnt] = x\n",
    "        cnt += 1\n",
    "print(\"Images processed: %d\" %(cnt))\n",
    "\n",
    "os.chdir(cur_dir)"
   ]
  },
  {
   "cell_type": "code",
   "execution_count": 4,
   "metadata": {},
   "outputs": [
    {
     "data": {
      "text/plain": [
       "(9339, 224, 224, 3)"
      ]
     },
     "execution_count": 4,
     "metadata": {},
     "output_type": "execute_result"
    }
   ],
   "source": [
    "X.shape"
   ]
  },
  {
   "cell_type": "code",
   "execution_count": 5,
   "metadata": {
    "collapsed": true
   },
   "outputs": [],
   "source": [
    "# Encoding classes (y) into integers (y_encoded) and then generating one-hot-encoding (Y)\n",
    "encoder = LabelEncoder()\n",
    "encoder.fit(y)\n",
    "y_encoded = encoder.transform(y)\n",
    "Y = np_utils.to_categorical(y_encoded)"
   ]
  },
  {
   "cell_type": "code",
   "execution_count": 6,
   "metadata": {
    "collapsed": true
   },
   "outputs": [],
   "source": [
    "# Creating base_model (ResNet50 notop)\n",
    "image_shape = (224, 224, 3)                                                                                                                                                                                                                                                                                            \n",
    "base_model = ResNet50(weights='imagenet', input_shape=image_shape, include_top=False, pooling='avg')"
   ]
  },
  {
   "cell_type": "code",
   "execution_count": 7,
   "metadata": {},
   "outputs": [
    {
     "name": "stdout",
     "output_type": "stream",
     "text": [
      "Loading ResNet50 extracted features from malimg-resnet50features-avgpool.npy ...\n"
     ]
    }
   ],
   "source": [
    "filename = 'malimg-resnet50features-avgpool.npy'\n",
    "if os.path.exists(filename):\n",
    "    print(\"Loading ResNet50 extracted features from %s ...\" %(filename))\n",
    "    resnet50features = np.load(filename)\n",
    "else:\n",
    "    print(\"Extracting features from ResNet50 layers ...\")\n",
    "    resnet50features = base_model.predict(X)\n",
    "    print(\"Saving ResNet50 extracted features into %s ...\" %(filename))\n",
    "    np.save(filename, resnet50features)"
   ]
  },
  {
   "cell_type": "code",
   "execution_count": 8,
   "metadata": {},
   "outputs": [
    {
     "data": {
      "text/plain": [
       "(9339, 2048)"
      ]
     },
     "execution_count": 8,
     "metadata": {},
     "output_type": "execute_result"
    }
   ],
   "source": [
    "resnet50features.shape"
   ]
  },
  {
   "cell_type": "code",
   "execution_count": 9,
   "metadata": {},
   "outputs": [
    {
     "name": "stdout",
     "output_type": "stream",
     "text": [
      "Fitting 5 folds for each of 21 candidates, totalling 105 fits\n",
      "[CV] C=1e-10 .........................................................\n",
      "[CV] C=1e-10 .........................................................\n",
      "[CV] C=1e-10 .........................................................\n",
      "[CV] C=1e-10 .........................................................\n",
      "[CV] C=1e-10 .........................................................\n",
      "[CV] C=1e-09 .........................................................\n",
      "[CV] C=1e-09 .........................................................\n",
      "[CV] C=1e-09 .........................................................\n",
      "[CV] C=1e-09 .........................................................\n",
      "[CV] C=1e-09 .........................................................\n",
      "[CV] C=1e-08 .........................................................\n",
      "[CV] C=1e-08 .........................................................\n",
      "[CV] C=1e-08 .........................................................\n",
      "[CV] C=1e-08 .........................................................\n",
      "[CV] C=1e-08 .........................................................\n",
      "[CV] C=1e-07 .........................................................\n",
      "[CV] C=1e-07 .........................................................\n",
      "[CV] C=1e-07 .........................................................\n",
      "[CV] C=1e-07 .........................................................\n",
      "[CV] C=1e-07 .........................................................\n",
      "[CV] C=1e-06 .........................................................\n",
      "[CV] C=1e-06 .........................................................\n",
      "[CV] C=1e-06 .........................................................\n",
      "[CV] C=1e-06 .........................................................\n",
      "[CV] .......................... C=1e-10, score=0.315846, total=   5.8s\n",
      "[CV] C=1e-06 .........................................................\n",
      "[CV] .......................... C=1e-10, score=0.315846, total=   6.1s\n",
      "[CV] C=1e-05 .........................................................\n"
     ]
    },
    {
     "name": "stderr",
     "output_type": "stream",
     "text": [
      "[Parallel(n_jobs=-1)]: Done   2 tasks      | elapsed:    7.1s\n"
     ]
    },
    {
     "name": "stdout",
     "output_type": "stream",
     "text": [
      "[CV] .......................... C=1e-10, score=0.315846, total=   6.5s\n",
      "[CV] C=1e-05 .........................................................\n",
      "[CV] .......................... C=1e-10, score=0.315846, total=   6.5s\n",
      "[CV] C=1e-05 .........................................................\n",
      "[CV] .......................... C=1e-10, score=0.315846, total=   8.3s\n",
      "[CV] C=1e-05 .........................................................\n",
      "[CV] .......................... C=1e-09, score=0.315846, total=   8.5s\n",
      "[CV] C=1e-05 .........................................................\n",
      "[CV] .......................... C=1e-09, score=0.315846, total=   8.9s\n",
      "[CV] C=0.0001 ........................................................\n",
      "[CV] .......................... C=1e-09, score=0.315846, total=   9.3s\n",
      "[CV] C=0.0001 ........................................................\n",
      "[CV] .......................... C=1e-09, score=0.315846, total=   9.8s\n",
      "[CV] C=0.0001 ........................................................\n",
      "[CV] .......................... C=1e-09, score=0.315846, total=   9.8s\n",
      "[CV] C=0.0001 ........................................................\n",
      "[CV] .......................... C=1e-08, score=0.315846, total=  15.0s\n",
      "[CV] C=0.0001 ........................................................\n",
      "[CV] .......................... C=1e-08, score=0.315846, total=  15.3s\n",
      "[CV] C=0.001 .........................................................\n",
      "[CV] .......................... C=1e-08, score=0.315846, total=  16.0s\n",
      "[CV] C=0.001 .........................................................\n"
     ]
    },
    {
     "name": "stderr",
     "output_type": "stream",
     "text": [
      "[Parallel(n_jobs=-1)]: Done  13 tasks      | elapsed:   19.3s\n"
     ]
    },
    {
     "name": "stdout",
     "output_type": "stream",
     "text": [
      "[CV] .......................... C=1e-08, score=0.315846, total=  16.0s\n",
      "[CV] C=0.001 .........................................................\n",
      "[CV] .......................... C=1e-08, score=0.315846, total=  16.6s\n",
      "[CV] C=0.001 .........................................................\n",
      "[CV] .......................... C=1e-07, score=0.316381, total=  18.9s\n",
      "[CV] C=0.001 .........................................................\n",
      "[CV] .......................... C=1e-07, score=0.316381, total=  18.7s\n",
      "[CV] C=0.01 ..........................................................\n",
      "[CV] .......................... C=1e-06, score=0.700749, total=  18.5s\n",
      "[CV] C=0.01 ..........................................................\n",
      "[CV] .......................... C=1e-07, score=0.315846, total=  19.5s\n",
      "[CV] C=0.01 ..........................................................\n",
      "[CV] .......................... C=1e-05, score=0.850107, total=  15.4s\n",
      "[CV] .......................... C=1e-05, score=0.850107, total=  16.3s\n",
      "[CV] C=0.01 ..........................................................\n",
      "[CV] C=0.01 ..........................................................\n",
      "[CV] .......................... C=1e-05, score=0.850107, total=  16.2s\n",
      "[CV] C=0.1 ...........................................................\n",
      "[CV] .......................... C=1e-05, score=0.840471, total=  14.5s\n",
      "[CV] ......................... C=0.0001, score=0.950214, total=  13.9s\n",
      "[CV] C=0.1 ...........................................................\n",
      "[CV] .......................... C=1e-07, score=0.316381, total=  20.6s\n"
     ]
    },
    {
     "name": "stderr",
     "output_type": "stream",
     "text": [
      "[Parallel(n_jobs=-1)]: Done  24 tasks      | elapsed:   25.0s\n"
     ]
    },
    {
     "name": "stdout",
     "output_type": "stream",
     "text": [
      "[CV] C=0.1 ...........................................................\n",
      "[CV] C=0.1 ...........................................................\n",
      "[CV] .......................... C=1e-05, score=0.842612, total=  15.6s\n",
      "[CV] .......................... C=1e-07, score=0.316916, total=  20.7s\n",
      "[CV] C=0.1 ...........................................................\n",
      "[CV] C=1.0 ...........................................................\n",
      "[CV] .......................... C=1e-06, score=0.701285, total=  21.4s\n",
      "[CV] C=1.0 ...........................................................\n",
      "[CV] ......................... C=0.0001, score=0.950749, total=  14.1s\n",
      "[CV] .......................... C=1e-06, score=0.699143, total=  21.0s\n",
      "[CV] C=1.0 ...........................................................\n",
      "[CV] C=1.0 ...........................................................\n",
      "[CV] .......................... C=1e-06, score=0.703961, total=  21.5s\n",
      "[CV] C=1.0 ...........................................................\n",
      "[CV] ......................... C=0.0001, score=0.946467, total=  15.4s\n",
      "[CV] C=10.0 ..........................................................\n",
      "[CV] .......................... C=1e-06, score=0.700214, total=  22.0s\n",
      "[CV] C=10.0 ..........................................................\n",
      "[CV] ......................... C=0.0001, score=0.945931, total=  16.6s\n",
      "[CV] C=10.0 ..........................................................\n",
      "[CV] ......................... C=0.0001, score=0.944861, total=  14.3s\n",
      "[CV] C=10.0 ..........................................................\n",
      "[CV] .......................... C=0.001, score=0.968415, total=  24.6s\n",
      "[CV] C=10.0 ..........................................................\n",
      "[CV] .......................... C=0.001, score=0.965203, total=  23.9s\n",
      "[CV] C=100.0 .........................................................\n"
     ]
    },
    {
     "name": "stderr",
     "output_type": "stream",
     "text": [
      "[Parallel(n_jobs=-1)]: Done  37 tasks      | elapsed:   46.6s\n"
     ]
    },
    {
     "name": "stdout",
     "output_type": "stream",
     "text": [
      "[CV] .......................... C=0.001, score=0.965203, total=  28.2s\n",
      "[CV] C=100.0 .........................................................\n",
      "[CV] .......................... C=0.001, score=0.968951, total=  29.1s\n",
      "[CV] C=100.0 .........................................................\n",
      "[CV] .......................... C=0.001, score=0.969486, total=  29.0s\n",
      "[CV] C=100.0 .........................................................\n",
      "[CV] ........................... C=0.01, score=0.988758, total= 1.1min\n",
      "[CV] C=100.0 .........................................................\n",
      "[CV] ........................... C=0.01, score=0.985546, total= 1.2min\n",
      "[CV] C=1000.0 ........................................................\n",
      "[CV] ........................... C=0.01, score=0.985011, total= 1.2min\n",
      "[CV] C=1000.0 ........................................................\n",
      "[CV] ........................... C=0.01, score=0.985546, total= 1.2min\n",
      "[CV] C=1000.0 ........................................................\n",
      "[CV] ........................... C=0.01, score=0.989293, total= 1.2min\n",
      "[CV] C=1000.0 ........................................................\n",
      "[CV] ............................ C=1.0, score=0.987152, total= 1.2min\n",
      "[CV] C=1000.0 ........................................................\n",
      "[CV] ............................ C=0.1, score=0.984475, total= 1.3min\n",
      "[CV] C=10000.0 .......................................................\n",
      "[CV] ............................ C=0.1, score=0.988758, total= 1.3min\n",
      "[CV] C=10000.0 .......................................................\n",
      "[CV] ............................ C=0.1, score=0.984475, total= 1.3min\n",
      "[CV] C=10000.0 .......................................................\n",
      "[CV] ........................... C=10.0, score=0.985546, total= 1.2min\n",
      "[CV] C=10000.0 .......................................................\n"
     ]
    },
    {
     "name": "stderr",
     "output_type": "stream",
     "text": [
      "[Parallel(n_jobs=-1)]: Done  50 tasks      | elapsed:  1.7min\n"
     ]
    },
    {
     "name": "stdout",
     "output_type": "stream",
     "text": [
      "[CV] ............................ C=1.0, score=0.984475, total= 1.4min\n",
      "[CV] C=10000.0 .......................................................\n",
      "[CV] ............................ C=1.0, score=0.981799, total= 1.4min\n",
      "[CV] C=100000.0 ......................................................\n",
      "[CV] ............................ C=0.1, score=0.984475, total= 1.4min\n",
      "[CV] C=100000.0 ......................................................\n",
      "[CV] ............................ C=0.1, score=0.986081, total= 1.4min\n",
      "[CV] C=100000.0 ......................................................\n",
      "[CV] ............................ C=1.0, score=0.985546, total= 1.4min\n",
      "[CV] ............................ C=1.0, score=0.983405, total= 1.4min\n",
      "[CV] C=100000.0 ......................................................\n",
      "[CV] C=100000.0 ......................................................\n",
      "[CV] ........................... C=10.0, score=0.983405, total= 1.4min\n",
      "[CV] C=1000000.0 .....................................................\n",
      "[CV] ........................... C=10.0, score=0.982334, total= 1.2min\n",
      "[CV] C=1000000.0 .....................................................\n",
      "[CV] ........................... C=10.0, score=0.987687, total= 1.4min\n",
      "[CV] C=1000000.0 .....................................................\n",
      "[CV] ........................... C=10.0, score=0.984475, total= 1.4min\n",
      "[CV] C=1000000.0 .....................................................\n",
      "[CV] .......................... C=100.0, score=0.983405, total= 1.2min\n",
      "[CV] C=1000000.0 .....................................................\n",
      "[CV] .......................... C=100.0, score=0.987152, total= 1.3min\n",
      "[CV] C=10000000.0 ....................................................\n",
      "[CV] .......................... C=100.0, score=0.983940, total= 1.4min\n",
      "[CV] C=10000000.0 ....................................................\n",
      "[CV] .......................... C=100.0, score=0.988223, total= 1.3min\n",
      "[CV] C=10000000.0 ....................................................\n",
      "[CV] .......................... C=100.0, score=0.982334, total= 1.2min\n",
      "[CV] C=10000000.0 ....................................................\n",
      "[CV] ......................... C=1000.0, score=0.987152, total= 1.1min\n",
      "[CV] C=10000000.0 ....................................................\n",
      "[CV] ......................... C=1000.0, score=0.983405, total= 1.2min\n",
      "[CV] C=100000000.0 ...................................................\n",
      "[CV] ......................... C=1000.0, score=0.987152, total= 1.1min\n",
      "[CV] C=100000000.0 ...................................................\n",
      "[CV] ......................... C=1000.0, score=0.983405, total= 1.2min\n",
      "[CV] C=100000000.0 ...................................................\n"
     ]
    },
    {
     "name": "stderr",
     "output_type": "stream",
     "text": [
      "[Parallel(n_jobs=-1)]: Done  69 out of 105 | elapsed:  2.8min remaining:  1.4min\n"
     ]
    },
    {
     "name": "stdout",
     "output_type": "stream",
     "text": [
      "[CV] ......................... C=1000.0, score=0.982334, total= 1.2min\n",
      "[CV] C=100000000.0 ...................................................\n",
      "[CV] ........................ C=10000.0, score=0.985546, total= 1.1min\n",
      "[CV] C=100000000.0 ...................................................\n",
      "[CV] ........................ C=10000.0, score=0.984475, total= 1.2min\n",
      "[CV] C=1000000000.0 ..................................................\n",
      "[CV] ........................ C=10000.0, score=0.984475, total= 1.2min\n",
      "[CV] C=1000000000.0 ..................................................\n",
      "[CV] ........................ C=10000.0, score=0.987152, total= 1.2min\n",
      "[CV] C=1000000000.0 ..................................................\n",
      "[CV] ...................... C=1000000.0, score=0.981799, total= 1.1min\n",
      "[CV] C=1000000000.0 ..................................................\n",
      "[CV] ...................... C=1000000.0, score=0.984475, total= 1.2min\n",
      "[CV] C=1000000000.0 ..................................................\n",
      "[CV] ....................... C=100000.0, score=0.986081, total= 1.3min\n",
      "[CV] C=10000000000.0 .................................................\n",
      "[CV] ........................ C=10000.0, score=0.981799, total= 1.4min\n",
      "[CV] C=10000000000.0 .................................................\n",
      "[CV] ....................... C=100000.0, score=0.987152, total= 1.3min\n",
      "[CV] C=10000000000.0 .................................................\n",
      "[CV] ....................... C=100000.0, score=0.983940, total= 1.4min\n",
      "[CV] C=10000000000.0 .................................................\n"
     ]
    },
    {
     "name": "stderr",
     "output_type": "stream",
     "text": [
      "[Parallel(n_jobs=-1)]: Done  80 out of 105 | elapsed:  3.2min remaining:  1.0min\n"
     ]
    },
    {
     "name": "stdout",
     "output_type": "stream",
     "text": [
      "[CV] ....................... C=100000.0, score=0.983405, total= 1.4min\n",
      "[CV] ...................... C=1000000.0, score=0.986081, total= 1.3min\n",
      "[CV] C=10000000000.0 .................................................\n",
      "[CV] ....................... C=100000.0, score=0.981799, total= 1.4min\n",
      "[CV] ...................... C=1000000.0, score=0.987152, total= 1.4min\n",
      "[CV] ...................... C=1000000.0, score=0.983940, total= 1.4min\n",
      "[CV] ..................... C=10000000.0, score=0.984475, total= 1.3min\n",
      "[CV] ..................... C=10000000.0, score=0.987152, total= 1.3min\n",
      "[CV] ..................... C=10000000.0, score=0.983405, total= 1.3min\n",
      "[CV] ..................... C=10000000.0, score=0.986617, total= 1.1min\n",
      "[CV] .................... C=100000000.0, score=0.985011, total= 1.1min\n",
      "[CV] ..................... C=10000000.0, score=0.982334, total= 1.1min\n"
     ]
    },
    {
     "name": "stderr",
     "output_type": "stream",
     "text": [
      "[Parallel(n_jobs=-1)]: Done  91 out of 105 | elapsed:  3.8min remaining:   35.4s\n"
     ]
    },
    {
     "name": "stdout",
     "output_type": "stream",
     "text": [
      "[CV] .................... C=100000000.0, score=0.987152, total= 1.1min\n",
      "[CV] ................... C=1000000000.0, score=0.983405, total=  58.7s\n",
      "[CV] .................... C=100000000.0, score=0.983940, total= 1.1min\n",
      "[CV] .................... C=100000000.0, score=0.981799, total=  59.6s\n",
      "[CV] .................... C=100000000.0, score=0.986081, total= 1.1min\n",
      "[CV] ................... C=1000000000.0, score=0.983405, total= 1.0min\n",
      "[CV] ................... C=1000000000.0, score=0.987152, total= 1.0min\n",
      "[CV] ................... C=1000000000.0, score=0.981799, total=  50.2s\n",
      "[CV] .................. C=10000000000.0, score=0.983405, total=  44.8s\n",
      "[CV] ................... C=1000000000.0, score=0.986617, total=  55.6s\n",
      "[CV] .................. C=10000000000.0, score=0.983940, total=  47.2s\n",
      "[CV] .................. C=10000000000.0, score=0.986617, total=  46.3s\n"
     ]
    },
    {
     "name": "stderr",
     "output_type": "stream",
     "text": [
      "[Parallel(n_jobs=-1)]: Done 102 out of 105 | elapsed:  4.0min remaining:    7.1s\n"
     ]
    },
    {
     "name": "stdout",
     "output_type": "stream",
     "text": [
      "[CV] .................. C=10000000000.0, score=0.987687, total=  47.3s\n",
      "[CV] .................. C=10000000000.0, score=0.981799, total=  47.1s\n"
     ]
    },
    {
     "name": "stderr",
     "output_type": "stream",
     "text": [
      "[Parallel(n_jobs=-1)]: Done 105 out of 105 | elapsed:  4.1min finished\n"
     ]
    },
    {
     "data": {
      "text/plain": [
       "GridSearchCV(cv=StratifiedShuffleSplit(n_splits=5, random_state=1, test_size=0.2,\n",
       "            train_size=None),\n",
       "       error_score='raise',\n",
       "       estimator=LinearSVC(C=1.0, class_weight=None, dual=True, fit_intercept=True,\n",
       "     intercept_scaling=1, loss='squared_hinge', max_iter=1000,\n",
       "     multi_class='ovr', penalty='l2', random_state=None, tol=0.0001,\n",
       "     verbose=0),\n",
       "       fit_params={}, iid=True, n_jobs=-1,\n",
       "       param_grid={'C': array([  1.00000e-10,   1.00000e-09,   1.00000e-08,   1.00000e-07,\n",
       "         1.00000e-06,   1.00000e-05,   1.00000e-04,   1.00000e-03,\n",
       "         1.00000e-02,   1.00000e-01,   1.00000e+00,   1.00000e+01,\n",
       "         1.00000e+02,   1.00000e+03,   1.00000e+04,   1.00000e+05,\n",
       "         1.00000e+06,   1.00000e+07,   1.00000e+08,   1.00000e+09,\n",
       "         1.00000e+10])},\n",
       "       pre_dispatch='2*n_jobs', refit=True, return_train_score=True,\n",
       "       scoring=None, verbose=10)"
      ]
     },
     "execution_count": 9,
     "metadata": {},
     "output_type": "execute_result"
    }
   ],
   "source": [
    "# Training top_model\n",
    "C_range = np.logspace(-10, 10, 21)\n",
    "param_grid = dict(C=C_range)\n",
    "cv = StratifiedShuffleSplit(n_splits=5, test_size=0.2, random_state=1)\n",
    "\n",
    "top_model = GridSearchCV(svm.LinearSVC(), param_grid=param_grid, cv=cv, verbose=10, n_jobs=-1)\n",
    "top_model.fit(resnet50features,y)  # Training "
   ]
  },
  {
   "cell_type": "code",
   "execution_count": 10,
   "metadata": {},
   "outputs": [
    {
     "name": "stdout",
     "output_type": "stream",
     "text": [
      "Best parameters: {'C': 0.01} - score: 0.9868\n"
     ]
    }
   ],
   "source": [
    "print(\"Best parameters: %s - score: %0.4f\" % (top_model.best_params_, top_model.best_score_))"
   ]
  },
  {
   "cell_type": "code",
   "execution_count": 11,
   "metadata": {},
   "outputs": [
    {
     "data": {
      "text/plain": [
       "{'mean_fit_time': array([  6.58355451,   9.19496984,  15.69217377,  19.62739182,\n",
       "         20.78473163,  15.51346498,  14.80147533,  26.899301  ,\n",
       "         70.94461508,  80.53176055,  82.32887926,  79.61823111,\n",
       "         76.11295199,  69.75678263,  72.15486465,  81.41669765,\n",
       "         76.84389305,  72.10041051,  63.24238782,  57.76166439,  46.50515895]),\n",
       " 'mean_score_time': array([ 0.06738758,  0.06451721,  0.07330494,  0.0683434 ,  0.08319197,\n",
       "         0.08293576,  0.05762887,  0.06373577,  0.05792456,  0.06214542,\n",
       "         0.06736698,  0.05933652,  0.0605628 ,  0.05742416,  0.06153035,\n",
       "         0.05904484,  0.05583301,  0.04534731,  0.03694782,  0.03478661,\n",
       "         0.03111377]),\n",
       " 'mean_test_score': array([ 0.31584582,  0.31584582,  0.31584582,  0.31638116,  0.70107066,\n",
       "         0.84668094,  0.94764454,  0.96745182,  0.98683084,  0.9856531 ,\n",
       "         0.98447537,  0.98468951,  0.98501071,  0.98468951,  0.98468951,\n",
       "         0.98447537,  0.98468951,  0.98479657,  0.98479657,  0.98447537,\n",
       "         0.98468951]),\n",
       " 'mean_train_score': array([ 0.31575425,  0.31575425,  0.31575425,  0.31682506,  0.70103065,\n",
       "         0.84773123,  0.9486548 ,  0.97229287,  0.99729621,  1.        ,\n",
       "         1.        ,  1.        ,  1.        ,  1.        ,  1.        ,\n",
       "         1.        ,  1.        ,  1.        ,  1.        ,  1.        ,  1.        ]),\n",
       " 'param_C': masked_array(data = [1e-10 1.0000000000000001e-09 1e-08 9.9999999999999995e-08\n",
       "  9.9999999999999995e-07 1.0000000000000001e-05 0.0001 0.001 0.01\n",
       "  0.10000000000000001 1.0 10.0 100.0 1000.0 10000.0 100000.0 1000000.0\n",
       "  10000000.0 100000000.0 1000000000.0 10000000000.0],\n",
       "              mask = [False False False False False False False False False False False False\n",
       "  False False False False False False False False False],\n",
       "        fill_value = ?),\n",
       " 'params': ({'C': 1e-10},\n",
       "  {'C': 1.0000000000000001e-09},\n",
       "  {'C': 1e-08},\n",
       "  {'C': 9.9999999999999995e-08},\n",
       "  {'C': 9.9999999999999995e-07},\n",
       "  {'C': 1.0000000000000001e-05},\n",
       "  {'C': 0.0001},\n",
       "  {'C': 0.001},\n",
       "  {'C': 0.01},\n",
       "  {'C': 0.10000000000000001},\n",
       "  {'C': 1.0},\n",
       "  {'C': 10.0},\n",
       "  {'C': 100.0},\n",
       "  {'C': 1000.0},\n",
       "  {'C': 10000.0},\n",
       "  {'C': 100000.0},\n",
       "  {'C': 1000000.0},\n",
       "  {'C': 10000000.0},\n",
       "  {'C': 100000000.0},\n",
       "  {'C': 1000000000.0},\n",
       "  {'C': 10000000000.0}),\n",
       " 'rank_test_score': array([19, 19, 19, 18, 17, 16, 15, 14,  1,  2, 11,  6,  3,  6,  6, 11,  6,\n",
       "         4,  4, 11,  6], dtype=int32),\n",
       " 'split0_test_score': array([ 0.31584582,  0.31584582,  0.31584582,  0.31638116,  0.7012848 ,\n",
       "         0.85010707,  0.95021413,  0.96841542,  0.98554604,  0.98447537,\n",
       "         0.98447537,  0.98340471,  0.98340471,  0.98340471,  0.98447537,\n",
       "         0.98340471,  0.98394004,  0.98447537,  0.98501071,  0.98340471,\n",
       "         0.98340471]),\n",
       " 'split0_train_score': array([ 0.31575425,  0.31575425,  0.31575425,  0.31682506,  0.70097711,\n",
       "         0.84834694,  0.94913666,  0.97456833,  0.99705528,  1.        ,\n",
       "         1.        ,  1.        ,  1.        ,  1.        ,  1.        ,\n",
       "         1.        ,  1.        ,  1.        ,  1.        ,  1.        ,  1.        ]),\n",
       " 'split1_test_score': array([ 0.31584582,  0.31584582,  0.31584582,  0.31638116,  0.70074946,\n",
       "         0.85010707,  0.94646681,  0.96520343,  0.98554604,  0.98447537,\n",
       "         0.98340471,  0.98447537,  0.98394004,  0.98340471,  0.98447537,\n",
       "         0.98394004,  0.98447537,  0.98340471,  0.98394004,  0.98340471,\n",
       "         0.98394004]),\n",
       " 'split1_train_score': array([ 0.31575425,  0.31575425,  0.31575425,  0.31682506,  0.70124481,\n",
       "         0.84566992,  0.94860126,  0.97189131,  0.99759068,  1.        ,\n",
       "         1.        ,  1.        ,  1.        ,  1.        ,  1.        ,\n",
       "         1.        ,  1.        ,  1.        ,  1.        ,  1.        ,  1.        ]),\n",
       " 'split2_test_score': array([ 0.31584582,  0.31584582,  0.31584582,  0.31584582,  0.70396146,\n",
       "         0.85010707,  0.95074946,  0.96895075,  0.98929336,  0.98875803,\n",
       "         0.98715203,  0.98768737,  0.9882227 ,  0.98715203,  0.98715203,\n",
       "         0.98715203,  0.98715203,  0.98715203,  0.98715203,  0.98715203,\n",
       "         0.98768737]),\n",
       " 'split2_train_score': array([ 0.31575425,  0.31575425,  0.31575425,  0.31695891,  0.70044171,\n",
       "         0.84754384,  0.947932  ,  0.97082051,  0.99705528,  1.        ,\n",
       "         1.        ,  1.        ,  1.        ,  1.        ,  1.        ,\n",
       "         1.        ,  1.        ,  1.        ,  1.        ,  1.        ,  1.        ]),\n",
       " 'split3_test_score': array([ 0.31584582,  0.31584582,  0.31584582,  0.31638116,  0.69914347,\n",
       "         0.84261242,  0.94593148,  0.96948608,  0.98875803,  0.98608137,\n",
       "         0.98554604,  0.98554604,  0.98715203,  0.98715203,  0.98554604,\n",
       "         0.98608137,  0.98608137,  0.9866167 ,  0.98608137,  0.9866167 ,\n",
       "         0.9866167 ]),\n",
       " 'split3_train_score': array([ 0.31575425,  0.31575425,  0.31575425,  0.31682506,  0.70137866,\n",
       "         0.84740999,  0.94900281,  0.97148976,  0.99718913,  1.        ,\n",
       "         1.        ,  1.        ,  1.        ,  1.        ,  1.        ,\n",
       "         1.        ,  1.        ,  1.        ,  1.        ,  1.        ,  1.        ]),\n",
       " 'split4_test_score': array([ 0.31584582,  0.31584582,  0.31584582,  0.31691649,  0.70021413,\n",
       "         0.84047109,  0.94486081,  0.96520343,  0.98501071,  0.98447537,\n",
       "         0.98179872,  0.98233405,  0.98233405,  0.98233405,  0.98179872,\n",
       "         0.98179872,  0.98179872,  0.98233405,  0.98179872,  0.98179872,\n",
       "         0.98179872]),\n",
       " 'split4_train_score': array([ 0.31575425,  0.31575425,  0.31575425,  0.31669121,  0.70111096,\n",
       "         0.84968545,  0.94860126,  0.97269442,  0.99759068,  1.        ,\n",
       "         1.        ,  1.        ,  1.        ,  1.        ,  1.        ,\n",
       "         1.        ,  1.        ,  1.        ,  1.        ,  1.        ,  1.        ]),\n",
       " 'std_fit_time': array([ 0.87427807,  0.50793436,  0.57091647,  0.80122704,  1.23703118,\n",
       "         0.65587129,  0.99554157,  2.23265886,  1.53601484,  4.86299647,\n",
       "         4.61795116,  6.59173418,  5.38475994,  1.2058526 ,  4.69928202,\n",
       "         1.45161689,  5.90983432,  6.76928566,  2.01864868,  4.54491364,\n",
       "         0.9500184 ]),\n",
       " 'std_score_time': array([ 0.00799574,  0.01046725,  0.0084884 ,  0.00987925,  0.02730963,\n",
       "         0.0270917 ,  0.00216155,  0.00288819,  0.00164785,  0.00273553,\n",
       "         0.00650477,  0.00249648,  0.00234117,  0.00262345,  0.0063257 ,\n",
       "         0.00330627,  0.00288018,  0.00455586,  0.00503489,  0.00571719,\n",
       "         0.00355443]),\n",
       " 'std_test_score': array([ 0.        ,  0.        ,  0.        ,  0.00033857,  0.00160956,\n",
       "         0.00425041,  0.00237967,  0.00186677,  0.00181066,  0.00167243,\n",
       "         0.00182327,  0.00184204,  0.00227122,  0.0020483 ,  0.0017462 ,\n",
       "         0.00191526,  0.00184204,  0.00184204,  0.00184204,  0.00205946,\n",
       "         0.00215733]),\n",
       " 'std_train_score': array([  0.00000000e+00,   0.00000000e+00,   0.00000000e+00,\n",
       "          8.46547359e-05,   3.23465292e-04,   1.31037219e-03,\n",
       "          4.19873836e-04,   1.28942252e-03,   2.45352734e-04,\n",
       "          0.00000000e+00,   0.00000000e+00,   0.00000000e+00,\n",
       "          0.00000000e+00,   0.00000000e+00,   0.00000000e+00,\n",
       "          0.00000000e+00,   0.00000000e+00,   0.00000000e+00,\n",
       "          0.00000000e+00,   0.00000000e+00,   0.00000000e+00])}"
      ]
     },
     "execution_count": 11,
     "metadata": {},
     "output_type": "execute_result"
    }
   ],
   "source": [
    "top_model.cv_results_"
   ]
  },
  {
   "cell_type": "code",
   "execution_count": 12,
   "metadata": {},
   "outputs": [
    {
     "name": "stderr",
     "output_type": "stream",
     "text": [
      "/usr/local/lib/python2.7/dist-packages/sklearn/model_selection/_search.py:667: DeprecationWarning: The grid_scores_ attribute was deprecated in version 0.18 in favor of the more elaborate cv_results_ attribute. The grid_scores_ attribute will not be available from 0.20\n",
      "  DeprecationWarning)\n"
     ]
    },
    {
     "data": {
      "text/plain": [
       "[mean: 0.31585, std: 0.00000, params: {'C': 1e-10},\n",
       " mean: 0.31585, std: 0.00000, params: {'C': 1.0000000000000001e-09},\n",
       " mean: 0.31585, std: 0.00000, params: {'C': 1e-08},\n",
       " mean: 0.31638, std: 0.00034, params: {'C': 9.9999999999999995e-08},\n",
       " mean: 0.70107, std: 0.00161, params: {'C': 9.9999999999999995e-07},\n",
       " mean: 0.84668, std: 0.00425, params: {'C': 1.0000000000000001e-05},\n",
       " mean: 0.94764, std: 0.00238, params: {'C': 0.0001},\n",
       " mean: 0.96745, std: 0.00187, params: {'C': 0.001},\n",
       " mean: 0.98683, std: 0.00181, params: {'C': 0.01},\n",
       " mean: 0.98565, std: 0.00167, params: {'C': 0.10000000000000001},\n",
       " mean: 0.98448, std: 0.00182, params: {'C': 1.0},\n",
       " mean: 0.98469, std: 0.00184, params: {'C': 10.0},\n",
       " mean: 0.98501, std: 0.00227, params: {'C': 100.0},\n",
       " mean: 0.98469, std: 0.00205, params: {'C': 1000.0},\n",
       " mean: 0.98469, std: 0.00175, params: {'C': 10000.0},\n",
       " mean: 0.98448, std: 0.00192, params: {'C': 100000.0},\n",
       " mean: 0.98469, std: 0.00184, params: {'C': 1000000.0},\n",
       " mean: 0.98480, std: 0.00184, params: {'C': 10000000.0},\n",
       " mean: 0.98480, std: 0.00184, params: {'C': 100000000.0},\n",
       " mean: 0.98448, std: 0.00206, params: {'C': 1000000000.0},\n",
       " mean: 0.98469, std: 0.00216, params: {'C': 10000000000.0}]"
      ]
     },
     "execution_count": 12,
     "metadata": {},
     "output_type": "execute_result"
    }
   ],
   "source": [
    "top_model.grid_scores_"
   ]
  },
  {
   "cell_type": "code",
   "execution_count": 13,
   "metadata": {
    "collapsed": true
   },
   "outputs": [],
   "source": [
    "cv = StratifiedShuffleSplit(n_splits=5, test_size=0.2, random_state=1)\n",
    "svm_model = svm.LinearSVC(C=0.01)\n",
    "train_sizes = np.linspace(.1, 1.0, 10)\n",
    "train_sizes, train_scores, test_scores = learning_curve(svm_model, resnet50features, y, cv=cv, n_jobs=-1, train_sizes=train_sizes)"
   ]
  },
  {
   "cell_type": "code",
   "execution_count": 14,
   "metadata": {},
   "outputs": [
    {
     "data": {
      "image/png": "[encoded data removed]",
      "text/plain": [
       "<matplotlib.figure.Figure at 0x7f70f1e8d4d0>"
      ]
     },
     "metadata": {},
     "output_type": "display_data"
    }
   ],
   "source": [
    "figure = plt.gcf()\n",
    "figure.set_size_inches(24, 9)\n",
    "skplot.learning_curve(train_scores, test_scores, train_sizes)\n",
    "plt.show()"
   ]
  }
 ],
 "metadata": {
  "kernelspec": {
   "display_name": "Python 2",
   "language": "python",
   "name": "python2"
  },
  "language_info": {
   "codemirror_mode": {
    "name": "ipython",
    "version": 2
   },
   "file_extension": ".py",
   "mimetype": "text/x-python",
   "name": "python",
   "nbconvert_exporter": "python",
   "pygments_lexer": "ipython2",
   "version": "2.7.12"
  }
 },
 "nbformat": 4,
 "nbformat_minor": 2
}
