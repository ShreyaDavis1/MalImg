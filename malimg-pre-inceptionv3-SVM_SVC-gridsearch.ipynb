{
 "cells": [
  {
   "cell_type": "code",
   "execution_count": 1,
   "metadata": {},
   "outputs": [
    {
     "name": "stderr",
     "output_type": "stream",
     "text": [
      "Using TensorFlow backend.\n"
     ]
    }
   ],
   "source": [
    "import os\n",
    "import os.path\n",
    "import glob\n",
    "from sklearn.preprocessing import LabelEncoder\n",
    "from sklearn.model_selection import StratifiedKFold                                                                                                                       \n",
    "from sklearn.metrics import confusion_matrix,accuracy_score\n",
    "from sklearn.model_selection import StratifiedShuffleSplit\n",
    "from sklearn.model_selection import GridSearchCV\n",
    "import sklearn_evaluation.plot as skplot\n",
    "from sklearn.model_selection import learning_curve\n",
    "from sklearn import svm\n",
    "\n",
    "import matplotlib.pyplot as plt\n",
    "import matplotlib.cm as colormap\n",
    "plt.rcParams['image.cmap'] = 'Paired'\n",
    "\n",
    "import numpy as np\n",
    "np.random.seed(1)\n",
    "\n",
    "from keras.utils import np_utils\n",
    "from keras.preprocessing import image\n",
    "from keras.applications.inception_v3 import InceptionV3,preprocess_input\n",
    "\n",
    "# Disable GPU\n",
    "os.environ['CUDA_VISIBLE_DEVICES'] = '-1'"
   ]
  },
  {
   "cell_type": "code",
   "execution_count": 2,
   "metadata": {
    "collapsed": true
   },
   "outputs": [],
   "source": [
    "imagedir = \"Datasets/malimg_paper_dataset_imgs\""
   ]
  },
  {
   "cell_type": "code",
   "execution_count": 3,
   "metadata": {},
   "outputs": [
    {
     "name": "stdout",
     "output_type": "stream",
     "text": [
      "Label: 0\tFamily:       Adialer.C\tNumber of images: 122\n",
      "Label: 1\tFamily:       Agent.FYI\tNumber of images: 116\n",
      "Label: 2\tFamily:       Allaple.A\tNumber of images: 2949\n",
      "Label: 3\tFamily:       Allaple.L\tNumber of images: 1591\n",
      "Label: 4\tFamily:   Alueron.gen!J\tNumber of images: 198\n",
      "Label: 5\tFamily:       Autorun.K\tNumber of images: 106\n",
      "Label: 6\tFamily:     C2LOP.gen!g\tNumber of images: 200\n",
      "Label: 7\tFamily:         C2LOP.P\tNumber of images: 146\n",
      "Label: 8\tFamily:  Dialplatform.B\tNumber of images: 177\n",
      "Label: 9\tFamily:       Dontovo.A\tNumber of images: 162\n",
      "Label:10\tFamily:        Fakerean\tNumber of images: 381\n",
      "Label:11\tFamily:   Instantaccess\tNumber of images: 431\n",
      "Label:12\tFamily:      Lolyda.AA1\tNumber of images: 213\n",
      "Label:13\tFamily:      Lolyda.AA2\tNumber of images: 184\n",
      "Label:14\tFamily:      Lolyda.AA3\tNumber of images: 123\n",
      "Label:15\tFamily:       Lolyda.AT\tNumber of images: 159\n",
      "Label:16\tFamily:     Malex.gen!J\tNumber of images: 136\n",
      "Label:17\tFamily:   Obfuscator.AD\tNumber of images: 142\n",
      "Label:18\tFamily:        Rbot!gen\tNumber of images: 158\n",
      "Label:19\tFamily:      Skintrim.N\tNumber of images: 80\n",
      "Label:20\tFamily:   Swizzor.gen!E\tNumber of images: 128\n",
      "Label:21\tFamily:   Swizzor.gen!I\tNumber of images: 132\n",
      "Label:22\tFamily:           VB.AT\tNumber of images: 408\n",
      "Label:23\tFamily:      Wintrim.BX\tNumber of images: 97\n",
      "Label:24\tFamily:         Yuner.A\tNumber of images: 800\n",
      "Processing images ...\n",
      "Images processed: 9339\n"
     ]
    }
   ],
   "source": [
    "cur_dir = os.getcwd()\n",
    "os.chdir(imagedir)  # the parent folder with sub-folders\n",
    "\n",
    "# Get number of samples per family\n",
    "list_fams = sorted(os.listdir(os.getcwd()), key=str.lower)  # vector of strings with family names\n",
    "no_imgs = []  # No. of samples per family\n",
    "for i in range(len(list_fams)):\n",
    "    os.chdir(list_fams[i])\n",
    "    len1 = len(glob.glob('*.png'))  # assuming the images are stored as 'png'\n",
    "    no_imgs.append(len1)\n",
    "    os.chdir('..')\n",
    "num_samples = np.sum(no_imgs)  # total number of all samples\n",
    "\n",
    "# Compute the labels\n",
    "y = np.zeros(num_samples)\n",
    "pos = 0\n",
    "label = 0\n",
    "for i in no_imgs:\n",
    "    print (\"Label:%2d\\tFamily: %15s\\tNumber of images: %d\" % (label, list_fams[label], i))\n",
    "    for j in range(i):\n",
    "        y[pos] = label\n",
    "        pos += 1\n",
    "    label += 1\n",
    "num_classes = label\n",
    "\n",
    "# Compute the features\n",
    "width, height,channels = (224,224,3)\n",
    "X = np.zeros((num_samples, width, height, channels))\n",
    "cnt = 0\n",
    "list_paths = [] # List of image paths\n",
    "print(\"Processing images ...\")\n",
    "for i in range(len(list_fams)):\n",
    "    for img_file in glob.glob(list_fams[i]+'/*.png'):\n",
    "        #print(\"[%d] Processing image: %s\" % (cnt, img_file))\n",
    "        list_paths.append(os.path.join(os.getcwd(),img_file))\n",
    "        img = image.load_img(img_file, target_size=(224, 224))\n",
    "        x = image.img_to_array(img)\n",
    "        x = np.expand_dims(x, axis=0)\n",
    "        x = preprocess_input(x)\n",
    "        X[cnt] = x\n",
    "        cnt += 1\n",
    "print(\"Images processed: %d\" %(cnt))\n",
    "\n",
    "os.chdir(cur_dir)"
   ]
  },
  {
   "cell_type": "code",
   "execution_count": 4,
   "metadata": {},
   "outputs": [
    {
     "data": {
      "text/plain": [
       "(9339, 224, 224, 3)"
      ]
     },
     "execution_count": 4,
     "metadata": {},
     "output_type": "execute_result"
    }
   ],
   "source": [
    "X.shape"
   ]
  },
  {
   "cell_type": "code",
   "execution_count": 5,
   "metadata": {
    "collapsed": true
   },
   "outputs": [],
   "source": [
    "# Encoding classes (y) into integers (y_encoded) and then generating one-hot-encoding (Y)\n",
    "encoder = LabelEncoder()\n",
    "encoder.fit(y)\n",
    "y_encoded = encoder.transform(y)\n",
    "Y = np_utils.to_categorical(y_encoded)"
   ]
  },
  {
   "cell_type": "code",
   "execution_count": 6,
   "metadata": {
    "collapsed": true
   },
   "outputs": [],
   "source": [
    "# Creating base_model (InceptionV3 notop)\n",
    "image_shape = (224, 224, 3)                                                                                                                                                                                                                                                                                            \n",
    "base_model = InceptionV3(weights='imagenet', input_shape=image_shape, include_top=False)"
   ]
  },
  {
   "cell_type": "code",
   "execution_count": 7,
   "metadata": {},
   "outputs": [
    {
     "name": "stdout",
     "output_type": "stream",
     "text": [
      "Loading InceptionV3 extracted features from malimg-inceptionv3features.npy ...\n"
     ]
    }
   ],
   "source": [
    "filename = 'malimg-inceptionv3features.npy'\n",
    "if os.path.exists(filename):\n",
    "    print(\"Loading InceptionV3 extracted features from %s ...\" %(filename))\n",
    "    inceptionv3features = np.load(filename)\n",
    "else:\n",
    "    print(\"Extracting features from InceptionV3 layers ...\")\n",
    "    inceptionv3features = base_model.predict(X)\n",
    "    print(\"Saving InceptionV3 extracted features into %s ...\" %(filename))\n",
    "    np.save(filename, inceptionv3features)"
   ]
  },
  {
   "cell_type": "code",
   "execution_count": 8,
   "metadata": {},
   "outputs": [
    {
     "data": {
      "text/plain": [
       "(9339, 5, 5, 2048)"
      ]
     },
     "execution_count": 8,
     "metadata": {},
     "output_type": "execute_result"
    }
   ],
   "source": [
    "inceptionv3features.shape"
   ]
  },
  {
   "cell_type": "code",
   "execution_count": 9,
   "metadata": {
    "collapsed": true
   },
   "outputs": [],
   "source": [
    "inceptionv3features = np.reshape(inceptionv3features,(inceptionv3features.shape[0],-1))"
   ]
  },
  {
   "cell_type": "code",
   "execution_count": null,
   "metadata": {},
   "outputs": [
    {
     "data": {
      "text/plain": [
       "(9339, 51200)"
      ]
     },
     "execution_count": 10,
     "metadata": {},
     "output_type": "execute_result"
    }
   ],
   "source": [
    "inceptionv3features.shape"
   ]
  },
  {
   "cell_type": "code",
   "execution_count": null,
   "metadata": {},
   "outputs": [
    {
     "name": "stdout",
     "output_type": "stream",
     "text": [
      "Fitting 5 folds for each of 169 candidates, totalling 845 fits\n",
      "[CV] C=0.01, gamma=1e-09 .............................................\n",
      "[CV] C=0.01, gamma=1e-09 .............................................\n",
      "[CV] C=0.01, gamma=1e-09 .............................................\n",
      "[CV] C=0.01, gamma=1e-09 .............................................\n",
      "[CV] C=0.01, gamma=1e-09 .............................................\n",
      "[CV] C=0.01, gamma=1e-08 .............................................\n",
      "[CV] C=0.01, gamma=1e-08 .............................................\n",
      "[CV] C=0.01, gamma=1e-08 .............................................\n",
      "[CV] C=0.01, gamma=1e-08 .............................................\n",
      "[CV] C=0.01, gamma=1e-08 .............................................\n",
      "[CV] C=0.01, gamma=1e-07 .............................................\n",
      "[CV] C=0.01, gamma=1e-07 .............................................\n",
      "[CV] C=0.01, gamma=1e-07 .............................................\n",
      "[CV] C=0.01, gamma=1e-07 .............................................\n",
      "[CV] C=0.01, gamma=1e-07 .............................................\n",
      "[CV] C=0.01, gamma=1e-06 .............................................\n",
      "[CV] C=0.01, gamma=1e-06 .............................................\n",
      "[CV] C=0.01, gamma=1e-06 .............................................\n",
      "[CV] C=0.01, gamma=1e-06 .............................................\n",
      "[CV] C=0.01, gamma=1e-06 .............................................\n",
      "[CV] C=0.01, gamma=1e-05 .............................................\n",
      "[CV] C=0.01, gamma=1e-05 .............................................\n",
      "[CV] C=0.01, gamma=1e-05 .............................................\n",
      "[CV] C=0.01, gamma=1e-05 .............................................\n",
      "[CV] ............. C=0.01, gamma=1e-07, score=0.315846, total=213.9min\n",
      "[CV] C=0.01, gamma=1e-05 .............................................\n",
      "[CV] ............. C=0.01, gamma=1e-07, score=0.315846, total=214.1min\n"
     ]
    },
    {
     "name": "stderr",
     "output_type": "stream",
     "text": [
      "[Parallel(n_jobs=-1)]: Done   2 tasks      | elapsed: 336.5min\n"
     ]
    },
    {
     "name": "stdout",
     "output_type": "stream",
     "text": [
      "[CV] C=0.01, gamma=0.0001 ............................................\n",
      "[CV] ............. C=0.01, gamma=1e-09, score=0.315846, total=220.5min\n",
      "[CV] C=0.01, gamma=0.0001 ............................................\n",
      "[CV] ............. C=0.01, gamma=1e-05, score=0.401499, total=217.5min\n",
      "[CV] C=0.01, gamma=0.0001 ............................................\n",
      "[CV] ............. C=0.01, gamma=1e-05, score=0.401499, total=218.7min\n",
      "[CV] C=0.01, gamma=0.0001 ............................................\n",
      "[CV] ............. C=0.01, gamma=1e-06, score=0.315846, total=218.5min\n",
      "[CV] C=0.01, gamma=0.0001 ............................................\n",
      "[CV] ............. C=0.01, gamma=1e-05, score=0.401499, total=217.7min\n",
      "[CV] C=0.01, gamma=0.001 .............................................\n",
      "[CV] ............. C=0.01, gamma=1e-08, score=0.315846, total=218.9min\n",
      "[CV] C=0.01, gamma=0.001 .............................................\n",
      "[CV] ............. C=0.01, gamma=1e-09, score=0.315846, total=217.9min\n",
      "[CV] C=0.01, gamma=0.001 .............................................\n",
      "[CV] ............. C=0.01, gamma=1e-07, score=0.315846, total=218.1min\n",
      "[CV] C=0.01, gamma=0.001 .............................................\n",
      "[CV] ............. C=0.01, gamma=1e-06, score=0.315846, total=220.8min\n",
      "[CV] C=0.01, gamma=0.001 .............................................\n",
      "[CV] ............. C=0.01, gamma=1e-08, score=0.315846, total=220.1min\n",
      "[CV] C=0.01, gamma=0.01 ..............................................\n",
      "[CV] ............. C=0.01, gamma=1e-06, score=0.315846, total=216.5min\n"
     ]
    },
    {
     "name": "stderr",
     "output_type": "stream",
     "text": [
      "[Parallel(n_jobs=-1)]: Done  13 tasks      | elapsed: 469.3min\n"
     ]
    },
    {
     "name": "stdout",
     "output_type": "stream",
     "text": [
      "[CV] C=0.01, gamma=0.01 ..............................................\n",
      "[CV] ............. C=0.01, gamma=1e-05, score=0.401499, total=220.0min\n",
      "[CV] C=0.01, gamma=0.01 ..............................................\n",
      "[CV] ............. C=0.01, gamma=1e-09, score=0.315846, total=218.0min\n",
      "[CV] C=0.01, gamma=0.01 ..............................................\n",
      "[CV] ............. C=0.01, gamma=1e-08, score=0.315846, total=218.6min\n",
      "[CV] ............. C=0.01, gamma=1e-07, score=0.315846, total=220.3min\n",
      "[CV] ............. C=0.01, gamma=1e-08, score=0.315846, total=218.3min\n",
      "[CV] ............. C=0.01, gamma=1e-06, score=0.315846, total=220.2min\n",
      "[CV] C=0.01, gamma=0.01 ..............................................\n",
      "[CV] C=0.01, gamma=0.1 ...............................................\n",
      "[CV] C=0.01, gamma=0.1 ...............................................\n",
      "[CV] C=0.01, gamma=0.1 ...............................................\n",
      "[CV] ............. C=0.01, gamma=1e-07, score=0.315846, total=218.8min\n",
      "[CV] C=0.01, gamma=0.1 ...............................................\n",
      "[CV] ............. C=0.01, gamma=1e-08, score=0.315846, total=219.0min\n",
      "[CV] C=0.01, gamma=0.1 ...............................................\n",
      "[CV] ............. C=0.01, gamma=1e-09, score=0.315846, total=220.8min\n",
      "[CV] C=0.01, gamma=1.0 ...............................................\n",
      "[CV] ............. C=0.01, gamma=1e-09, score=0.315846, total=220.8min\n",
      "[CV] C=0.01, gamma=1.0 ...............................................\n",
      "[CV] ............. C=0.01, gamma=1e-06, score=0.315846, total=220.7min\n"
     ]
    },
    {
     "name": "stderr",
     "output_type": "stream",
     "text": [
      "[Parallel(n_jobs=-1)]: Done  24 tasks      | elapsed: 501.1min\n"
     ]
    },
    {
     "name": "stdout",
     "output_type": "stream",
     "text": [
      "[CV] C=0.01, gamma=1.0 ...............................................\n",
      "[CV] ............ C=0.01, gamma=0.0001, score=0.614026, total=176.4min\n",
      "[CV] C=0.01, gamma=1.0 ...............................................\n",
      "[CV] ............. C=0.01, gamma=1e-05, score=0.401499, total=207.8min\n",
      "[CV] C=0.01, gamma=1.0 ...............................................\n",
      "[CV] ............ C=0.01, gamma=0.0001, score=0.612420, total=182.6min\n",
      "[CV] C=0.01, gamma=10.0 ..............................................\n",
      "[CV] ............ C=0.01, gamma=0.0001, score=0.621520, total=204.2min\n",
      "[CV] C=0.01, gamma=10.0 ..............................................\n",
      "[CV] ............ C=0.01, gamma=0.0001, score=0.617238, total=212.5min\n",
      "[CV] C=0.01, gamma=10.0 ..............................................\n",
      "[CV] ............ C=0.01, gamma=0.0001, score=0.619379, total=209.0min\n",
      "[CV] C=0.01, gamma=10.0 ..............................................\n"
     ]
    }
   ],
   "source": [
    "# Training top_model\n",
    "C_range = np.logspace(-2, 10, 13)\n",
    "gamma_range = np.logspace(-9, 3, 13)\n",
    "param_grid = dict(gamma=gamma_range, C=C_range)\n",
    "cv = StratifiedShuffleSplit(n_splits=5, test_size=0.2, random_state=1)\n",
    "\n",
    "top_model = GridSearchCV(svm.SVC(), param_grid=param_grid, cv=cv, verbose=10, n_jobs=-1)\n",
    "top_model.fit(inceptionv3features,y)  # Training "
   ]
  },
  {
   "cell_type": "code",
   "execution_count": null,
   "metadata": {},
   "outputs": [],
   "source": [
    "print(\"Best parameters: %s - score: %0.4f\" % (top_model.best_params_, top_model.best_score_))"
   ]
  },
  {
   "cell_type": "code",
   "execution_count": null,
   "metadata": {},
   "outputs": [],
   "source": [
    "top_model.cv_results_"
   ]
  },
  {
   "cell_type": "code",
   "execution_count": null,
   "metadata": {},
   "outputs": [],
   "source": [
    "top_model.grid_scores_"
   ]
  },
  {
   "cell_type": "code",
   "execution_count": null,
   "metadata": {
    "collapsed": true
   },
   "outputs": [],
   "source": [
    "def plot_grid_search(cv_results, grid_param_1, grid_param_2, name_param_1, name_param_2):\n",
    "    # Get Test Scores Mean and std for each grid search\n",
    "    scores_mean = cv_results['mean_test_score']\n",
    "    scores_mean = np.array(scores_mean).reshape(len(grid_param_2),len(grid_param_1))\n",
    "\n",
    "    scores_sd = cv_results['std_test_score']\n",
    "    scores_sd = np.array(scores_sd).reshape(len(grid_param_2),len(grid_param_1))\n",
    "\n",
    "    # Plot Grid search scores\n",
    "    _, ax = plt.subplots(1,1)\n",
    "\n",
    "    # Param1 is the X-axis, Param 2 is represented as a different curve (color line)\n",
    "    for idx, val in enumerate(grid_param_2):\n",
    "        ax.plot(grid_param_1, scores_mean[idx,:], '-o', label= name_param_2 + ': ' + str(val))\n",
    "\n",
    "    ax.set_title(\"Grid Search Scores\", fontsize=20, fontweight='bold')\n",
    "    ax.set_xlabel(name_param_1, fontsize=16)\n",
    "    ax.set_ylabel('CV Average Score', fontsize=16)\n",
    "    ax.legend(loc=\"best\", fontsize=15)\n",
    "    ax.grid('on')\n",
    "    \n",
    "    ax.set_xscale('log')\n",
    "    #ax.set_ylim([0.0,1.0])"
   ]
  },
  {
   "cell_type": "code",
   "execution_count": null,
   "metadata": {
    "collapsed": true
   },
   "outputs": [],
   "source": [
    "plot_grid_search(top_model.cv_results_,gamma_range,C_range,'Gamma','C')\n",
    "figure = plt.gcf()\n",
    "figure.set_size_inches(24, 9)\n",
    "plt.show()"
   ]
  },
  {
   "cell_type": "code",
   "execution_count": null,
   "metadata": {
    "collapsed": true
   },
   "outputs": [],
   "source": [
    "skplot.grid_search(top_model.grid_scores_, change='gamma', kind='bar')\n",
    "figure = plt.gcf()\n",
    "figure.set_size_inches(24, 9)\n",
    "plt.show()"
   ]
  },
  {
   "cell_type": "code",
   "execution_count": null,
   "metadata": {
    "collapsed": true
   },
   "outputs": [],
   "source": [
    "skplot.grid_search(top_model.grid_scores_, change='C', kind='bar')\n",
    "figure = plt.gcf()\n",
    "figure.set_size_inches(24, 9)\n",
    "plt.show()"
   ]
  },
  {
   "cell_type": "code",
   "execution_count": null,
   "metadata": {
    "collapsed": true
   },
   "outputs": [],
   "source": [
    "cv = StratifiedShuffleSplit(n_splits=5, test_size=0.2, random_state=1)\n",
    "svm_model = svm.SVC(C=top_model.best_params_['C'],gamma=top_model.best_params_['gamma'])\n",
    "train_sizes = np.linspace(.1, 1.0, 10)\n",
    "train_sizes, train_scores, test_scores = learning_curve(svm_model, inceptionv3features, y, cv=cv, n_jobs=-1, train_sizes=train_sizes)"
   ]
  },
  {
   "cell_type": "code",
   "execution_count": null,
   "metadata": {},
   "outputs": [],
   "source": [
    "figure = plt.gcf()\n",
    "figure.set_size_inches(24, 9)\n",
    "skplot.learning_curve(train_scores, test_scores, train_sizes)\n",
    "plt.show()"
   ]
  }
 ],
 "metadata": {
  "kernelspec": {
   "display_name": "Python 2",
   "language": "python",
   "name": "python2"
  },
  "language_info": {
   "codemirror_mode": {
    "name": "ipython",
    "version": 2
   },
   "file_extension": ".py",
   "mimetype": "text/x-python",
   "name": "python",
   "nbconvert_exporter": "python",
   "pygments_lexer": "ipython2",
   "version": "2.7.12"
  }
 },
 "nbformat": 4,
 "nbformat_minor": 2
}
