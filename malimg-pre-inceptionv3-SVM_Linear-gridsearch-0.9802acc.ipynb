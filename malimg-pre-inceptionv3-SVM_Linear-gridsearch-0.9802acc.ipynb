{
 "cells": [
  {
   "cell_type": "code",
   "execution_count": 1,
   "metadata": {},
   "outputs": [
    {
     "name": "stderr",
     "output_type": "stream",
     "text": [
      "Using TensorFlow backend.\n"
     ]
    }
   ],
   "source": [
    "import os\n",
    "import os.path\n",
    "import glob\n",
    "from sklearn.preprocessing import LabelEncoder\n",
    "from sklearn.model_selection import StratifiedKFold                                                                                                                       \n",
    "from sklearn.metrics import confusion_matrix,accuracy_score\n",
    "from sklearn.model_selection import StratifiedShuffleSplit\n",
    "from sklearn.model_selection import GridSearchCV\n",
    "import sklearn_evaluation.plot as skplot\n",
    "from sklearn.model_selection import learning_curve\n",
    "from sklearn import svm\n",
    "\n",
    "import matplotlib.pyplot as plt\n",
    "import matplotlib.cm as colormap\n",
    "plt.rcParams['image.cmap'] = 'Paired'\n",
    "\n",
    "import numpy as np\n",
    "np.random.seed(1)\n",
    "\n",
    "from keras.utils import np_utils\n",
    "from keras.preprocessing import image\n",
    "from keras.applications.inception_v3 import InceptionV3,preprocess_input\n",
    "\n",
    "# Disable GPU\n",
    "os.environ['CUDA_VISIBLE_DEVICES'] = '-1'"
   ]
  },
  {
   "cell_type": "code",
   "execution_count": 2,
   "metadata": {
    "collapsed": true
   },
   "outputs": [],
   "source": [
    "imagedir = \"Datasets/malimg_paper_dataset_imgs\""
   ]
  },
  {
   "cell_type": "code",
   "execution_count": 3,
   "metadata": {},
   "outputs": [
    {
     "name": "stdout",
     "output_type": "stream",
     "text": [
      "Label: 0\tFamily:       Adialer.C\tNumber of images: 122\n",
      "Label: 1\tFamily:       Agent.FYI\tNumber of images: 116\n",
      "Label: 2\tFamily:       Allaple.A\tNumber of images: 2949\n",
      "Label: 3\tFamily:       Allaple.L\tNumber of images: 1591\n",
      "Label: 4\tFamily:   Alueron.gen!J\tNumber of images: 198\n",
      "Label: 5\tFamily:       Autorun.K\tNumber of images: 106\n",
      "Label: 6\tFamily:     C2LOP.gen!g\tNumber of images: 200\n",
      "Label: 7\tFamily:         C2LOP.P\tNumber of images: 146\n",
      "Label: 8\tFamily:  Dialplatform.B\tNumber of images: 177\n",
      "Label: 9\tFamily:       Dontovo.A\tNumber of images: 162\n",
      "Label:10\tFamily:        Fakerean\tNumber of images: 381\n",
      "Label:11\tFamily:   Instantaccess\tNumber of images: 431\n",
      "Label:12\tFamily:      Lolyda.AA1\tNumber of images: 213\n",
      "Label:13\tFamily:      Lolyda.AA2\tNumber of images: 184\n",
      "Label:14\tFamily:      Lolyda.AA3\tNumber of images: 123\n",
      "Label:15\tFamily:       Lolyda.AT\tNumber of images: 159\n",
      "Label:16\tFamily:     Malex.gen!J\tNumber of images: 136\n",
      "Label:17\tFamily:   Obfuscator.AD\tNumber of images: 142\n",
      "Label:18\tFamily:        Rbot!gen\tNumber of images: 158\n",
      "Label:19\tFamily:      Skintrim.N\tNumber of images: 80\n",
      "Label:20\tFamily:   Swizzor.gen!E\tNumber of images: 128\n",
      "Label:21\tFamily:   Swizzor.gen!I\tNumber of images: 132\n",
      "Label:22\tFamily:           VB.AT\tNumber of images: 408\n",
      "Label:23\tFamily:      Wintrim.BX\tNumber of images: 97\n",
      "Label:24\tFamily:         Yuner.A\tNumber of images: 800\n",
      "Processing images ...\n",
      "Images processed: 9339\n"
     ]
    }
   ],
   "source": [
    "cur_dir = os.getcwd()\n",
    "os.chdir(imagedir)  # the parent folder with sub-folders\n",
    "\n",
    "# Get number of samples per family\n",
    "list_fams = sorted(os.listdir(os.getcwd()), key=str.lower)  # vector of strings with family names\n",
    "no_imgs = []  # No. of samples per family\n",
    "for i in range(len(list_fams)):\n",
    "    os.chdir(list_fams[i])\n",
    "    len1 = len(glob.glob('*.png'))  # assuming the images are stored as 'png'\n",
    "    no_imgs.append(len1)\n",
    "    os.chdir('..')\n",
    "num_samples = np.sum(no_imgs)  # total number of all samples\n",
    "\n",
    "# Compute the labels\n",
    "y = np.zeros(num_samples)\n",
    "pos = 0\n",
    "label = 0\n",
    "for i in no_imgs:\n",
    "    print (\"Label:%2d\\tFamily: %15s\\tNumber of images: %d\" % (label, list_fams[label], i))\n",
    "    for j in range(i):\n",
    "        y[pos] = label\n",
    "        pos += 1\n",
    "    label += 1\n",
    "num_classes = label\n",
    "\n",
    "# Compute the features\n",
    "width, height,channels = (224,224,3)\n",
    "X = np.zeros((num_samples, width, height, channels))\n",
    "cnt = 0\n",
    "list_paths = [] # List of image paths\n",
    "print(\"Processing images ...\")\n",
    "for i in range(len(list_fams)):\n",
    "    for img_file in glob.glob(list_fams[i]+'/*.png'):\n",
    "        #print(\"[%d] Processing image: %s\" % (cnt, img_file))\n",
    "        list_paths.append(os.path.join(os.getcwd(),img_file))\n",
    "        img = image.load_img(img_file, target_size=(224, 224))\n",
    "        x = image.img_to_array(img)\n",
    "        x = np.expand_dims(x, axis=0)\n",
    "        x = preprocess_input(x)\n",
    "        X[cnt] = x\n",
    "        cnt += 1\n",
    "print(\"Images processed: %d\" %(cnt))\n",
    "\n",
    "os.chdir(cur_dir)"
   ]
  },
  {
   "cell_type": "code",
   "execution_count": 4,
   "metadata": {},
   "outputs": [
    {
     "data": {
      "text/plain": [
       "(9339, 224, 224, 3)"
      ]
     },
     "execution_count": 4,
     "metadata": {},
     "output_type": "execute_result"
    }
   ],
   "source": [
    "X.shape"
   ]
  },
  {
   "cell_type": "code",
   "execution_count": 5,
   "metadata": {
    "collapsed": true
   },
   "outputs": [],
   "source": [
    "# Encoding classes (y) into integers (y_encoded) and then generating one-hot-encoding (Y)\n",
    "encoder = LabelEncoder()\n",
    "encoder.fit(y)\n",
    "y_encoded = encoder.transform(y)\n",
    "Y = np_utils.to_categorical(y_encoded)"
   ]
  },
  {
   "cell_type": "code",
   "execution_count": 6,
   "metadata": {
    "collapsed": true
   },
   "outputs": [],
   "source": [
    "# Creating base_model (InceptionV3 notop)\n",
    "image_shape = (224, 224, 3)                                                                                                                                                                                                                                                                                            \n",
    "base_model = InceptionV3(weights='imagenet', input_shape=image_shape, include_top=False)"
   ]
  },
  {
   "cell_type": "code",
   "execution_count": 7,
   "metadata": {},
   "outputs": [
    {
     "name": "stdout",
     "output_type": "stream",
     "text": [
      "Loading InceptionV3 extracted features from malimg-inceptionv3features.npy ...\n"
     ]
    }
   ],
   "source": [
    "filename = 'malimg-inceptionv3features.npy'\n",
    "if os.path.exists(filename):\n",
    "    print(\"Loading InceptionV3 extracted features from %s ...\" %(filename))\n",
    "    inceptionv3features = np.load(filename)\n",
    "else:\n",
    "    print(\"Extracting features from InceptionV3 layers ...\")\n",
    "    inceptionv3features = base_model.predict(X)\n",
    "    print(\"Saving InceptionV3 extracted features into %s ...\" %(filename))\n",
    "    np.save(filename, inceptionv3features)"
   ]
  },
  {
   "cell_type": "code",
   "execution_count": 8,
   "metadata": {},
   "outputs": [
    {
     "data": {
      "text/plain": [
       "(9339, 5, 5, 2048)"
      ]
     },
     "execution_count": 8,
     "metadata": {},
     "output_type": "execute_result"
    }
   ],
   "source": [
    "inceptionv3features.shape"
   ]
  },
  {
   "cell_type": "code",
   "execution_count": 9,
   "metadata": {
    "collapsed": true
   },
   "outputs": [],
   "source": [
    "inceptionv3features = np.reshape(inceptionv3features,(inceptionv3features.shape[0],-1))"
   ]
  },
  {
   "cell_type": "code",
   "execution_count": 10,
   "metadata": {},
   "outputs": [
    {
     "data": {
      "text/plain": [
       "(9339, 51200)"
      ]
     },
     "execution_count": 10,
     "metadata": {},
     "output_type": "execute_result"
    }
   ],
   "source": [
    "inceptionv3features.shape"
   ]
  },
  {
   "cell_type": "code",
   "execution_count": 11,
   "metadata": {},
   "outputs": [
    {
     "name": "stdout",
     "output_type": "stream",
     "text": [
      "Fitting 5 folds for each of 13 candidates, totalling 65 fits\n",
      "[CV] C=0.01 ..........................................................\n",
      "[CV] C=0.01 ..........................................................\n",
      "[CV] C=0.01 ..........................................................\n",
      "[CV] C=0.01 ..........................................................\n",
      "[CV] C=0.01 ..........................................................\n",
      "[CV] C=0.1 ...........................................................\n",
      "[CV] C=0.1 ...........................................................\n",
      "[CV] C=0.1 ...........................................................\n",
      "[CV] C=0.1 ...........................................................\n",
      "[CV] C=0.1 ...........................................................\n",
      "[CV] ............................ C=0.1, score=0.983940, total=16.9min\n",
      "[CV] C=1.0 ...........................................................\n",
      "[CV] ........................... C=0.01, score=0.979122, total=17.0min\n",
      "[CV] C=1.0 ...........................................................\n",
      "[CV] ............................ C=0.1, score=0.978051, total=16.9min\n",
      "[CV] C=1.0 ...........................................................\n",
      "[CV] ............................ C=0.1, score=0.978587, total=17.4min\n",
      "[CV] C=1.0 ...........................................................\n",
      "[CV] ........................... C=0.01, score=0.980193, total=17.8min\n",
      "[CV] C=1.0 ...........................................................\n"
     ]
    },
    {
     "name": "stderr",
     "output_type": "stream",
     "text": [
      "[Parallel(n_jobs=10)]: Done   5 tasks      | elapsed: 18.0min\n"
     ]
    },
    {
     "name": "stdout",
     "output_type": "stream",
     "text": [
      "[CV] ........................... C=0.01, score=0.983405, total=18.2min\n",
      "[CV] C=10.0 ..........................................................\n",
      "[CV] ............................ C=0.1, score=0.981263, total=17.6min\n",
      "[CV] C=10.0 ..........................................................\n",
      "[CV] ........................... C=0.01, score=0.982334, total=18.7min\n",
      "[CV] C=10.0 ..........................................................\n",
      "[CV] ........................... C=0.01, score=0.975910, total=19.5min\n",
      "[CV] C=10.0 ..........................................................\n",
      "[CV] ............................ C=0.1, score=0.974839, total=19.6min\n",
      "[CV] C=10.0 ..........................................................\n",
      "[CV] ............................ C=1.0, score=0.980728, total=15.1min\n",
      "[CV] C=100.0 .........................................................\n",
      "[CV] ............................ C=1.0, score=0.983405, total=15.8min\n",
      "[CV] C=100.0 .........................................................\n"
     ]
    },
    {
     "name": "stderr",
     "output_type": "stream",
     "text": [
      "[Parallel(n_jobs=10)]: Done  12 tasks      | elapsed: 33.3min\n"
     ]
    },
    {
     "name": "stdout",
     "output_type": "stream",
     "text": [
      "[CV] ............................ C=1.0, score=0.979122, total=15.9min\n",
      "[CV] C=100.0 .........................................................\n",
      "[CV] ........................... C=10.0, score=0.983940, total=15.5min\n",
      "[CV] ............................ C=1.0, score=0.978587, total=15.8min\n",
      "[CV] C=100.0 .........................................................\n",
      "[CV] C=100.0 .........................................................\n",
      "[CV] ............................ C=1.0, score=0.975375, total=16.6min\n",
      "[CV] C=1000.0 ........................................................\n",
      "[CV] ........................... C=10.0, score=0.978587, total=16.2min\n",
      "[CV] C=1000.0 ........................................................\n",
      "[CV] ........................... C=10.0, score=0.982334, total=15.4min\n",
      "[CV] C=1000.0 ........................................................\n",
      "[CV] ........................... C=10.0, score=0.975375, total=16.4min\n",
      "[CV] C=1000.0 ........................................................\n",
      "[CV] ........................... C=10.0, score=0.978587, total=16.1min\n",
      "[CV] C=1000.0 ........................................................\n",
      "[CV] .......................... C=100.0, score=0.980193, total=14.0min\n"
     ]
    },
    {
     "name": "stderr",
     "output_type": "stream",
     "text": [
      "[Parallel(n_jobs=10)]: Done  21 tasks      | elapsed: 48.0min\n"
     ]
    },
    {
     "name": "stdout",
     "output_type": "stream",
     "text": [
      "[CV] C=10000.0 .......................................................\n",
      "[CV] .......................... C=100.0, score=0.983940, total=15.9min\n",
      "[CV] C=10000.0 .......................................................\n",
      "[CV] .......................... C=100.0, score=0.978051, total=16.0min\n",
      "[CV] C=10000.0 .......................................................\n",
      "[CV] ......................... C=1000.0, score=0.982334, total=14.7min\n",
      "[CV] C=10000.0 .......................................................\n",
      "[CV] ......................... C=1000.0, score=0.983405, total=15.9min\n",
      "[CV] C=10000.0 .......................................................\n",
      "[CV] .......................... C=100.0, score=0.975375, total=17.1min\n",
      "[CV] C=100000.0 ......................................................\n",
      "[CV] .......................... C=100.0, score=0.978587, total=16.6min\n",
      "[CV] C=100000.0 ......................................................\n",
      "[CV] ......................... C=1000.0, score=0.977516, total=16.1min\n",
      "[CV] C=100000.0 ......................................................\n",
      "[CV] ......................... C=1000.0, score=0.975375, total=16.5min\n",
      "[CV] C=100000.0 ......................................................\n",
      "[CV] ......................... C=1000.0, score=0.978587, total=16.4min\n",
      "[CV] C=100000.0 ......................................................\n"
     ]
    },
    {
     "name": "stderr",
     "output_type": "stream",
     "text": [
      "[Parallel(n_jobs=10)]: Done  30 tasks      | elapsed: 52.8min\n"
     ]
    },
    {
     "name": "stdout",
     "output_type": "stream",
     "text": [
      "[CV] ........................ C=10000.0, score=0.983405, total=15.8min\n",
      "[CV] C=1000000.0 .....................................................\n",
      "[CV] ........................ C=10000.0, score=0.978051, total=15.4min\n",
      "[CV] C=1000000.0 .....................................................\n",
      "[CV] ........................ C=10000.0, score=0.980193, total=14.4min\n",
      "[CV] C=1000000.0 .....................................................\n",
      "[CV] ........................ C=10000.0, score=0.975375, total=16.0min\n",
      "[CV] C=1000000.0 .....................................................\n",
      "[CV] ....................... C=100000.0, score=0.983940, total=15.1min\n",
      "[CV] C=1000000.0 .....................................................\n",
      "[CV] ........................ C=10000.0, score=0.978587, total=16.4min\n",
      "[CV] C=10000000.0 ....................................................\n",
      "[CV] ....................... C=100000.0, score=0.980193, total=15.0min\n",
      "[CV] C=10000000.0 ....................................................\n",
      "[CV] ....................... C=100000.0, score=0.978587, total=16.2min\n",
      "[CV] C=10000000.0 ....................................................\n",
      "[CV] ....................... C=100000.0, score=0.975375, total=17.8min\n",
      "[CV] C=10000000.0 ....................................................\n",
      "[CV] ....................... C=100000.0, score=0.978587, total=16.0min\n",
      "[CV] C=10000000.0 ....................................................\n",
      "[CV] ...................... C=1000000.0, score=0.983940, total=15.2min\n",
      "[CV] C=100000000.0 ...................................................\n"
     ]
    },
    {
     "name": "stderr",
     "output_type": "stream",
     "text": [
      "[Parallel(n_jobs=10)]: Done  41 tasks      | elapsed: 79.2min\n"
     ]
    },
    {
     "name": "stdout",
     "output_type": "stream",
     "text": [
      "[CV] ...................... C=1000000.0, score=0.980193, total=13.7min\n",
      "[CV] C=100000000.0 ...................................................\n",
      "[CV] ...................... C=1000000.0, score=0.978051, total=15.8min\n",
      "[CV] C=100000000.0 ...................................................\n",
      "[CV] ...................... C=1000000.0, score=0.975375, total=15.8min\n",
      "[CV] C=100000000.0 ...................................................\n",
      "[CV] ...................... C=1000000.0, score=0.978587, total=15.2min\n",
      "[CV] C=100000000.0 ...................................................\n",
      "[CV] ..................... C=10000000.0, score=0.978051, total=14.7min\n",
      "[CV] C=1000000000.0 ..................................................\n",
      "[CV] ..................... C=10000000.0, score=0.983405, total=15.4min\n",
      "[CV] C=1000000000.0 ..................................................\n",
      "[CV] ..................... C=10000000.0, score=0.975375, total=15.3min\n",
      "[CV] C=1000000000.0 ..................................................\n",
      "[CV] ..................... C=10000000.0, score=0.978587, total=15.8min\n",
      "[CV] C=1000000000.0 ..................................................\n",
      "[CV] ..................... C=10000000.0, score=0.982334, total=15.8min\n",
      "[CV] C=1000000000.0 ..................................................\n",
      "[CV] .................... C=100000000.0, score=0.978587, total=14.9min\n",
      "[CV] C=10000000000.0 .................................................\n",
      "[CV] .................... C=100000000.0, score=0.983405, total=15.2min\n",
      "[CV] C=10000000000.0 .................................................\n",
      "[CV] .................... C=100000000.0, score=0.982334, total=14.4min\n",
      "[CV] C=10000000000.0 .................................................\n"
     ]
    },
    {
     "name": "stderr",
     "output_type": "stream",
     "text": [
      "[Parallel(n_jobs=10)]: Done  53 out of  65 | elapsed: 95.0min remaining: 21.5min\n"
     ]
    },
    {
     "name": "stdout",
     "output_type": "stream",
     "text": [
      "[CV] ................... C=1000000000.0, score=0.983405, total=13.9min\n",
      "[CV] C=10000000000.0 .................................................\n",
      "[CV] .................... C=100000000.0, score=0.975375, total=15.6min\n",
      "[CV] C=10000000000.0 .................................................\n",
      "[CV] .................... C=100000000.0, score=0.978587, total=15.2min\n",
      "[CV] ................... C=1000000000.0, score=0.978587, total=14.4min\n",
      "[CV] ................... C=1000000000.0, score=0.975375, total=14.5min\n",
      "[CV] ................... C=1000000000.0, score=0.982334, total=13.6min\n",
      "[CV] ................... C=1000000000.0, score=0.978587, total=14.8min\n"
     ]
    },
    {
     "name": "stderr",
     "output_type": "stream",
     "text": [
      "[Parallel(n_jobs=10)]: Done  60 out of  65 | elapsed: 99.7min remaining:  8.3min\n"
     ]
    },
    {
     "name": "stdout",
     "output_type": "stream",
     "text": [
      "[CV] .................. C=10000000000.0, score=0.978587, total=12.7min\n",
      "[CV] .................. C=10000000000.0, score=0.980728, total=11.7min\n",
      "[CV] .................. C=10000000000.0, score=0.983405, total=13.3min\n",
      "[CV] .................. C=10000000000.0, score=0.975375, total=13.8min\n",
      "[CV] .................. C=10000000000.0, score=0.978587, total=12.9min\n"
     ]
    },
    {
     "name": "stderr",
     "output_type": "stream",
     "text": [
      "[Parallel(n_jobs=10)]: Done  65 out of  65 | elapsed: 108.9min finished\n"
     ]
    },
    {
     "data": {
      "text/plain": [
       "GridSearchCV(cv=StratifiedShuffleSplit(n_splits=5, random_state=1, test_size=0.2,\n",
       "            train_size=None),\n",
       "       error_score='raise',\n",
       "       estimator=LinearSVC(C=1.0, class_weight=None, dual=True, fit_intercept=True,\n",
       "     intercept_scaling=1, loss='squared_hinge', max_iter=1000,\n",
       "     multi_class='ovr', penalty='l2', random_state=None, tol=0.0001,\n",
       "     verbose=0),\n",
       "       fit_params={}, iid=True, n_jobs=10,\n",
       "       param_grid={'C': array([  1.00000e-02,   1.00000e-01,   1.00000e+00,   1.00000e+01,\n",
       "         1.00000e+02,   1.00000e+03,   1.00000e+04,   1.00000e+05,\n",
       "         1.00000e+06,   1.00000e+07,   1.00000e+08,   1.00000e+09,\n",
       "         1.00000e+10])},\n",
       "       pre_dispatch='2*n_jobs', refit=True, return_train_score=True,\n",
       "       scoring=None, verbose=10)"
      ]
     },
     "execution_count": 11,
     "metadata": {},
     "output_type": "execute_result"
    }
   ],
   "source": [
    "# Training top_model\n",
    "C_range = np.logspace(-2, 10, 13)\n",
    "param_grid = dict(C=C_range)\n",
    "cv = StratifiedShuffleSplit(n_splits=5, test_size=0.2, random_state=1)\n",
    "\n",
    "top_model = GridSearchCV(svm.LinearSVC(), param_grid=param_grid, cv=cv, verbose=10, n_jobs=10)\n",
    "top_model.fit(inceptionv3features,y)  # Training "
   ]
  },
  {
   "cell_type": "code",
   "execution_count": 12,
   "metadata": {},
   "outputs": [
    {
     "name": "stdout",
     "output_type": "stream",
     "text": [
      "Best parameters: {'C': 0.01} - score: 0.9802\n"
     ]
    }
   ],
   "source": [
    "print(\"Best parameters: %s - score: %0.4f\" % (top_model.best_params_, top_model.best_score_))"
   ]
  },
  {
   "cell_type": "code",
   "execution_count": 13,
   "metadata": {},
   "outputs": [
    {
     "data": {
      "text/plain": [
       "{'mean_fit_time': array([ 1092.98634663,  1060.61395006,   950.94222202,   954.73171363,\n",
       "          954.54945798,   954.00654631,   934.67898865,   961.60597014,\n",
       "          908.29009957,   924.26668801,   902.03404779,   853.80341001,\n",
       "          772.21378732]),\n",
       " 'mean_score_time': array([ 0.79478655,  0.87882423,  0.77495866,  0.78349199,  0.77662392,\n",
       "         0.76640682,  0.77551103,  0.79019227,  0.75541525,  0.84153566,\n",
       "         0.76467299,  0.76553302,  0.65017304]),\n",
       " 'mean_test_score': array([ 0.98019272,  0.97933619,  0.97944325,  0.97976445,  0.97922912,\n",
       "         0.97944325,  0.97912206,  0.97933619,  0.97922912,  0.97955032,\n",
       "         0.97965739,  0.97965739,  0.97933619]),\n",
       " 'mean_train_score': array([ 0.99981261,  0.99941106,  0.99962522,  0.99989292,  0.99954491,\n",
       "         0.99965199,  0.9997323 ,  0.99965199,  0.99962522,  0.99965199,\n",
       "         0.99983938,  0.99983938,  0.99970553]),\n",
       " 'param_C': masked_array(data = [0.01 0.10000000000000001 1.0 10.0 100.0 1000.0 10000.0 100000.0 1000000.0\n",
       "  10000000.0 100000000.0 1000000000.0 10000000000.0],\n",
       "              mask = [False False False False False False False False False False False False\n",
       "  False],\n",
       "        fill_value = ?),\n",
       " 'params': ({'C': 0.01},\n",
       "  {'C': 0.10000000000000001},\n",
       "  {'C': 1.0},\n",
       "  {'C': 10.0},\n",
       "  {'C': 100.0},\n",
       "  {'C': 1000.0},\n",
       "  {'C': 10000.0},\n",
       "  {'C': 100000.0},\n",
       "  {'C': 1000000.0},\n",
       "  {'C': 10000000.0},\n",
       "  {'C': 100000000.0},\n",
       "  {'C': 1000000000.0},\n",
       "  {'C': 10000000000.0}),\n",
       " 'rank_test_score': array([ 1,  8,  6,  2, 11,  6, 13,  8, 11,  5,  3,  3,  8], dtype=int32),\n",
       " 'split0_test_score': array([ 0.98340471,  0.98394004,  0.98340471,  0.98394004,  0.98394004,\n",
       "         0.98340471,  0.98340471,  0.98394004,  0.98394004,  0.98340471,\n",
       "         0.98340471,  0.98340471,  0.98340471]),\n",
       " 'split0_train_score': array([ 0.9997323 ,  1.        ,  0.99959845,  0.99986615,  1.        ,\n",
       "         0.9994646 ,  0.99986615,  1.        ,  0.9994646 ,  0.99933075,\n",
       "         0.99986615,  0.99986615,  0.9997323 ]),\n",
       " 'split1_test_score': array([ 0.98019272,  0.97858672,  0.97912206,  0.97858672,  0.97805139,\n",
       "         0.97751606,  0.97805139,  0.97858672,  0.97805139,  0.97805139,\n",
       "         0.97858672,  0.97858672,  0.97858672]),\n",
       " 'split1_train_score': array([ 0.99986615,  1.        ,  1.        ,  1.        ,  0.9994646 ,\n",
       "         0.99906304,  0.99986615,  0.99933075,  0.99933075,  0.99986615,\n",
       "         0.9997323 ,  0.9997323 ,  0.99986615]),\n",
       " 'split2_test_score': array([ 0.97591006,  0.9748394 ,  0.97537473,  0.97537473,  0.97537473,\n",
       "         0.97537473,  0.97537473,  0.97537473,  0.97537473,  0.97537473,\n",
       "         0.97537473,  0.97537473,  0.97537473]),\n",
       " 'split2_train_score': array([ 1.        ,  0.99879534,  0.9997323 ,  0.99986615,  0.99906304,\n",
       "         0.9997323 ,  0.9994646 ,  0.99986615,  0.9997323 ,  0.99919689,\n",
       "         0.99986615,  0.99986615,  0.99959845]),\n",
       " 'split3_test_score': array([ 0.98233405,  0.98126338,  0.98072805,  0.98233405,  0.98019272,\n",
       "         0.98233405,  0.98019272,  0.98019272,  0.98019272,  0.98233405,\n",
       "         0.98233405,  0.98233405,  0.98072805]),\n",
       " 'split3_train_score': array([ 0.99986615,  0.9994646 ,  0.9994646 ,  1.        ,  0.9997323 ,\n",
       "         1.        ,  0.9994646 ,  0.9994646 ,  0.99959845,  1.        ,\n",
       "         0.9997323 ,  0.9997323 ,  0.9994646 ]),\n",
       " 'split4_test_score': array([ 0.97912206,  0.97805139,  0.97858672,  0.97858672,  0.97858672,\n",
       "         0.97858672,  0.97858672,  0.97858672,  0.97858672,  0.97858672,\n",
       "         0.97858672,  0.97858672,  0.97858672]),\n",
       " 'split4_train_score': array([ 0.99959845,  0.99879534,  0.99933075,  0.9997323 ,  0.9994646 ,\n",
       "         1.        ,  1.        ,  0.99959845,  1.        ,  0.99986615,\n",
       "         1.        ,  1.        ,  0.99986615]),\n",
       " 'std_fit_time': array([ 49.93428175,  60.72566614,  29.3603179 ,  22.42074046,\n",
       "         62.56753786,  37.52990966,  41.4076479 ,  59.63945777,\n",
       "         45.41693725,  24.85249932,  24.01808173,  26.27067915,  41.34931348]),\n",
       " 'std_score_time': array([ 0.06288257,  0.12071303,  0.02847404,  0.02696349,  0.04892703,\n",
       "         0.01866943,  0.02118269,  0.05794049,  0.01203497,  0.15152266,\n",
       "         0.01612213,  0.05084058,  0.02211816]),\n",
       " 'std_test_score': array([ 0.00262258,  0.00307711,  0.00263566,  0.00303586,  0.00282054,\n",
       "         0.00300168,  0.00264434,  0.00278373,  0.00282054,  0.00293994,\n",
       "         0.00289277,  0.00289277,  0.00265732]),\n",
       " 'std_train_score': array([ 0.0001365 ,  0.0005394 ,  0.00023029,  0.00010016,  0.00031219,\n",
       "         0.00035515,  0.00022398,  0.00024826,  0.00023029,  0.00032347,\n",
       "         0.00010016,  0.00010016,  0.0001561 ])}"
      ]
     },
     "execution_count": 13,
     "metadata": {},
     "output_type": "execute_result"
    }
   ],
   "source": [
    "top_model.cv_results_"
   ]
  },
  {
   "cell_type": "code",
   "execution_count": 14,
   "metadata": {},
   "outputs": [
    {
     "name": "stderr",
     "output_type": "stream",
     "text": [
      "/usr/local/lib/python2.7/dist-packages/sklearn/model_selection/_search.py:667: DeprecationWarning: The grid_scores_ attribute was deprecated in version 0.18 in favor of the more elaborate cv_results_ attribute. The grid_scores_ attribute will not be available from 0.20\n",
      "  DeprecationWarning)\n"
     ]
    },
    {
     "data": {
      "text/plain": [
       "[mean: 0.98019, std: 0.00262, params: {'C': 0.01},\n",
       " mean: 0.97934, std: 0.00308, params: {'C': 0.10000000000000001},\n",
       " mean: 0.97944, std: 0.00264, params: {'C': 1.0},\n",
       " mean: 0.97976, std: 0.00304, params: {'C': 10.0},\n",
       " mean: 0.97923, std: 0.00282, params: {'C': 100.0},\n",
       " mean: 0.97944, std: 0.00300, params: {'C': 1000.0},\n",
       " mean: 0.97912, std: 0.00264, params: {'C': 10000.0},\n",
       " mean: 0.97934, std: 0.00278, params: {'C': 100000.0},\n",
       " mean: 0.97923, std: 0.00282, params: {'C': 1000000.0},\n",
       " mean: 0.97955, std: 0.00294, params: {'C': 10000000.0},\n",
       " mean: 0.97966, std: 0.00289, params: {'C': 100000000.0},\n",
       " mean: 0.97966, std: 0.00289, params: {'C': 1000000000.0},\n",
       " mean: 0.97934, std: 0.00266, params: {'C': 10000000000.0}]"
      ]
     },
     "execution_count": 14,
     "metadata": {},
     "output_type": "execute_result"
    }
   ],
   "source": [
    "top_model.grid_scores_"
   ]
  },
  {
   "cell_type": "code",
   "execution_count": 15,
   "metadata": {
    "collapsed": true
   },
   "outputs": [],
   "source": [
    "cv = StratifiedShuffleSplit(n_splits=5, test_size=0.2, random_state=1)\n",
    "svm_model = svm.LinearSVC(C=top_model.best_params_['C'])\n",
    "train_sizes = np.linspace(.1, 1.0, 10)\n",
    "train_sizes, train_scores, test_scores = learning_curve(svm_model, inceptionv3features, y, cv=cv, n_jobs=-1, train_sizes=train_sizes)"
   ]
  },
  {
   "cell_type": "code",
   "execution_count": 16,
   "metadata": {},
   "outputs": [
    {
     "data": {
      "image/png": "[encoded data removed]",
      "text/plain": [
       "<matplotlib.figure.Figure at 0x7fa068319bd0>"
      ]
     },
     "metadata": {},
     "output_type": "display_data"
    }
   ],
   "source": [
    "figure = plt.gcf()\n",
    "figure.set_size_inches(24, 9)\n",
    "skplot.learning_curve(train_scores, test_scores, train_sizes)\n",
    "plt.show()"
   ]
  }
 ],
 "metadata": {
  "kernelspec": {
   "display_name": "Python 2",
   "language": "python",
   "name": "python2"
  },
  "language_info": {
   "codemirror_mode": {
    "name": "ipython",
    "version": 2
   },
   "file_extension": ".py",
   "mimetype": "text/x-python",
   "name": "python",
   "nbconvert_exporter": "python",
   "pygments_lexer": "ipython2",
   "version": "2.7.12"
  }
 },
 "nbformat": 4,
 "nbformat_minor": 2
}
