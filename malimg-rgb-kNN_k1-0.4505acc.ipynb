{
 "cells": [
  {
   "cell_type": "code",
   "execution_count": 1,
   "metadata": {},
   "outputs": [
    {
     "name": "stderr",
     "output_type": "stream",
     "text": [
      "Using TensorFlow backend.\n"
     ]
    }
   ],
   "source": [
    "import numpy as np\n",
    "np.random.seed(1)\n",
    "\n",
    "import os\n",
    "import os.path\n",
    "import glob\n",
    "import matplotlib.pyplot as plt\n",
    "\n",
    "from sklearn.model_selection import StratifiedKFold                                                                                                                       \n",
    "from sklearn.metrics import confusion_matrix,accuracy_score\n",
    "from sklearn.neighbors import KNeighborsClassifier\n",
    "\n",
    "from keras.preprocessing.image import img_to_array\n",
    "from keras.preprocessing import image\n",
    "\n",
    "from PIL import Image as pil_image"
   ]
  },
  {
   "cell_type": "code",
   "execution_count": 2,
   "metadata": {
    "collapsed": true
   },
   "outputs": [],
   "source": [
    "imagedir = \"Datasets/malimg_paper_dataset_imgs\""
   ]
  },
  {
   "cell_type": "code",
   "execution_count": 3,
   "metadata": {},
   "outputs": [
    {
     "name": "stdout",
     "output_type": "stream",
     "text": [
      "Label: 0\tFamily:       Adialer.C\tNumber of images: 122\n",
      "Label: 1\tFamily:       Agent.FYI\tNumber of images: 116\n",
      "Label: 2\tFamily:       Allaple.A\tNumber of images: 2949\n",
      "Label: 3\tFamily:       Allaple.L\tNumber of images: 1591\n",
      "Label: 4\tFamily:   Alueron.gen!J\tNumber of images: 198\n",
      "Label: 5\tFamily:       Autorun.K\tNumber of images: 106\n",
      "Label: 6\tFamily:     C2LOP.gen!g\tNumber of images: 200\n",
      "Label: 7\tFamily:         C2LOP.P\tNumber of images: 146\n",
      "Label: 8\tFamily:  Dialplatform.B\tNumber of images: 177\n",
      "Label: 9\tFamily:       Dontovo.A\tNumber of images: 162\n",
      "Label:10\tFamily:        Fakerean\tNumber of images: 381\n",
      "Label:11\tFamily:   Instantaccess\tNumber of images: 431\n",
      "Label:12\tFamily:      Lolyda.AA1\tNumber of images: 213\n",
      "Label:13\tFamily:      Lolyda.AA2\tNumber of images: 184\n",
      "Label:14\tFamily:      Lolyda.AA3\tNumber of images: 123\n",
      "Label:15\tFamily:       Lolyda.AT\tNumber of images: 159\n",
      "Label:16\tFamily:     Malex.gen!J\tNumber of images: 136\n",
      "Label:17\tFamily:   Obfuscator.AD\tNumber of images: 142\n",
      "Label:18\tFamily:        Rbot!gen\tNumber of images: 158\n",
      "Label:19\tFamily:      Skintrim.N\tNumber of images: 80\n",
      "Label:20\tFamily:   Swizzor.gen!E\tNumber of images: 128\n",
      "Label:21\tFamily:   Swizzor.gen!I\tNumber of images: 132\n",
      "Label:22\tFamily:           VB.AT\tNumber of images: 408\n",
      "Label:23\tFamily:      Wintrim.BX\tNumber of images: 97\n",
      "Label:24\tFamily:         Yuner.A\tNumber of images: 800\n",
      "Processing images ...\n",
      "Images processed: 9339\n"
     ]
    }
   ],
   "source": [
    "cur_dir = os.getcwd()\n",
    "os.chdir(imagedir)  # the parent folder with sub-folders\n",
    "\n",
    "# Get number of samples per family\n",
    "list_fams = sorted(os.listdir(os.getcwd()), key=str.lower)  # vector of strings with family names\n",
    "no_imgs = []  # No. of samples per family\n",
    "for i in range(len(list_fams)):\n",
    "    os.chdir(list_fams[i])\n",
    "    len1 = len(glob.glob('*.png'))  # assuming the images are stored as 'png'\n",
    "    no_imgs.append(len1)\n",
    "    os.chdir('..')\n",
    "num_samples = np.sum(no_imgs)  # total number of all samples\n",
    "\n",
    "# Compute the labels\n",
    "y = np.zeros(num_samples)\n",
    "pos = 0\n",
    "label = 0\n",
    "for i in no_imgs:\n",
    "    print (\"Label:%2d\\tFamily: %15s\\tNumber of images: %d\" % (label, list_fams[label], i))\n",
    "    for j in range(i):\n",
    "        y[pos] = label\n",
    "        pos += 1\n",
    "    label += 1\n",
    "num_classes = label\n",
    "\n",
    "# Compute the features\n",
    "width, height,channels = (224,224,3)\n",
    "X = np.zeros((num_samples, width, height, channels))\n",
    "cnt = 0\n",
    "print(\"Processing images ...\")\n",
    "for i in range(len(list_fams)):\n",
    "    for img_file in image.list_pictures(list_fams[i], ext='jpg|jpeg|bmp|png'):\n",
    "        #print(\"[%d] Processing image: %s\" % (cnt, img_file))\n",
    "        img = image.load_img(img_file, target_size=(224, 224))\n",
    "        x = image.img_to_array(img)\n",
    "        x = np.expand_dims(x, axis=0)\n",
    "        X[cnt] = x\n",
    "        cnt += 1\n",
    "print(\"Images processed: %d\" %(cnt))\n",
    "\n",
    "os.chdir(cur_dir)"
   ]
  },
  {
   "cell_type": "code",
   "execution_count": 4,
   "metadata": {},
   "outputs": [
    {
     "data": {
      "text/plain": [
       "(9339, 224, 224, 3)"
      ]
     },
     "execution_count": 4,
     "metadata": {},
     "output_type": "execute_result"
    }
   ],
   "source": [
    "X.shape"
   ]
  },
  {
   "cell_type": "code",
   "execution_count": 5,
   "metadata": {},
   "outputs": [
    {
     "data": {
      "text/plain": [
       "array([[[[  90.,   90.,   90.],\n",
       "         [   0.,    0.,    0.],\n",
       "         [   0.,    0.,    0.],\n",
       "         ..., \n",
       "         [   0.,    0.,    0.],\n",
       "         [   0.,    0.,    0.],\n",
       "         [   0.,    0.,    0.]],\n",
       "\n",
       "        [[   0.,    0.,    0.],\n",
       "         [   0.,    0.,    0.],\n",
       "         [   0.,    0.,    0.],\n",
       "         ..., \n",
       "         [   0.,    0.,    0.],\n",
       "         [   0.,    0.,    0.],\n",
       "         [   0.,    0.,    0.]],\n",
       "\n",
       "        [[   0.,    0.,    0.],\n",
       "         [   0.,    0.,    0.],\n",
       "         [   0.,    0.,    0.],\n",
       "         ..., \n",
       "         [   0.,    0.,    0.],\n",
       "         [   0.,    0.,    0.],\n",
       "         [   0.,    0.,    0.]],\n",
       "\n",
       "        ..., \n",
       "        [[ 187.,  187.,  187.],\n",
       "         [ 202.,  202.,  202.],\n",
       "         [ 171.,  171.,  171.],\n",
       "         ..., \n",
       "         [ 202.,  202.,  202.],\n",
       "         [  19.,   19.,   19.],\n",
       "         [   4.,    4.,    4.]],\n",
       "\n",
       "        [[  90.,   90.,   90.],\n",
       "         [  80.,   80.,   80.],\n",
       "         [  21.,   21.,   21.],\n",
       "         ..., \n",
       "         [  41.,   41.,   41.],\n",
       "         [ 137.,  137.,  137.],\n",
       "         [ 232.,  232.,  232.]],\n",
       "\n",
       "        [[  54.,   54.,   54.],\n",
       "         [  29.,   29.,   29.],\n",
       "         [ 234.,  234.,  234.],\n",
       "         ..., \n",
       "         [ 222.,  222.,  222.],\n",
       "         [  20.,   20.,   20.],\n",
       "         [ 238.,  238.,  238.]]],\n",
       "\n",
       "\n",
       "       [[[  90.,   90.,   90.],\n",
       "         [   0.,    0.,    0.],\n",
       "         [   0.,    0.,    0.],\n",
       "         ..., \n",
       "         [   0.,    0.,    0.],\n",
       "         [   0.,    0.,    0.],\n",
       "         [   0.,    0.,    0.]],\n",
       "\n",
       "        [[   0.,    0.,    0.],\n",
       "         [   0.,    0.,    0.],\n",
       "         [   0.,    0.,    0.],\n",
       "         ..., \n",
       "         [   0.,    0.,    0.],\n",
       "         [   0.,    0.,    0.],\n",
       "         [   0.,    0.,    0.]],\n",
       "\n",
       "        [[   0.,    0.,    0.],\n",
       "         [   0.,    0.,    0.],\n",
       "         [   0.,    0.,    0.],\n",
       "         ..., \n",
       "         [   0.,    0.,    0.],\n",
       "         [   0.,    0.,    0.],\n",
       "         [   0.,    0.,    0.]],\n",
       "\n",
       "        ..., \n",
       "        [[ 187.,  187.,  187.],\n",
       "         [ 202.,  202.,  202.],\n",
       "         [ 171.,  171.,  171.],\n",
       "         ..., \n",
       "         [ 202.,  202.,  202.],\n",
       "         [  19.,   19.,   19.],\n",
       "         [   4.,    4.,    4.]],\n",
       "\n",
       "        [[  90.,   90.,   90.],\n",
       "         [  80.,   80.,   80.],\n",
       "         [  21.,   21.,   21.],\n",
       "         ..., \n",
       "         [  41.,   41.,   41.],\n",
       "         [ 137.,  137.,  137.],\n",
       "         [ 232.,  232.,  232.]],\n",
       "\n",
       "        [[ 143.,  143.,  143.],\n",
       "         [  47.,   47.,   47.],\n",
       "         [  86.,   86.,   86.],\n",
       "         ..., \n",
       "         [  65.,   65.,   65.],\n",
       "         [ 176.,  176.,  176.],\n",
       "         [  32.,   32.,   32.]]],\n",
       "\n",
       "\n",
       "       [[[  90.,   90.,   90.],\n",
       "         [   0.,    0.,    0.],\n",
       "         [   0.,    0.,    0.],\n",
       "         ..., \n",
       "         [   1.,    1.,    1.],\n",
       "         [   0.,    0.,    0.],\n",
       "         [   0.,    0.,    0.]],\n",
       "\n",
       "        [[   0.,    0.,    0.],\n",
       "         [   0.,    0.,    0.],\n",
       "         [   0.,    0.,    0.],\n",
       "         ..., \n",
       "         [   0.,    0.,    0.],\n",
       "         [   0.,    0.,    0.],\n",
       "         [   0.,    0.,    0.]],\n",
       "\n",
       "        [[   0.,    0.,    0.],\n",
       "         [   0.,    0.,    0.],\n",
       "         [   0.,    0.,    0.],\n",
       "         ..., \n",
       "         [   0.,    0.,    0.],\n",
       "         [   0.,    0.,    0.],\n",
       "         [   0.,    0.,    0.]],\n",
       "\n",
       "        ..., \n",
       "        [[ 187.,  187.,  187.],\n",
       "         [ 202.,  202.,  202.],\n",
       "         [ 171.,  171.,  171.],\n",
       "         ..., \n",
       "         [ 202.,  202.,  202.],\n",
       "         [  19.,   19.,   19.],\n",
       "         [   4.,    4.,    4.]],\n",
       "\n",
       "        [[  90.,   90.,   90.],\n",
       "         [  80.,   80.,   80.],\n",
       "         [  21.,   21.,   21.],\n",
       "         ..., \n",
       "         [  41.,   41.,   41.],\n",
       "         [ 137.,  137.,  137.],\n",
       "         [ 232.,  232.,  232.]],\n",
       "\n",
       "        [[ 227.,  227.,  227.],\n",
       "         [ 248.,  248.,  248.],\n",
       "         [ 107.,  107.,  107.],\n",
       "         ..., \n",
       "         [  26.,   26.,   26.],\n",
       "         [  92.,   92.,   92.],\n",
       "         [ 103.,  103.,  103.]]],\n",
       "\n",
       "\n",
       "       ..., \n",
       "       [[[   0.,    0.,    0.],\n",
       "         [   0.,    0.,    0.],\n",
       "         [   0.,    0.,    0.],\n",
       "         ..., \n",
       "         [ 160.,  160.,  160.],\n",
       "         [ 255.,  255.,  255.],\n",
       "         [  70.,   70.,   70.]],\n",
       "\n",
       "        [[  86.,   86.,   86.],\n",
       "         [ 216.,  216.,  216.],\n",
       "         [   0.,    0.,    0.],\n",
       "         ..., \n",
       "         [ 131.,  131.,  131.],\n",
       "         [ 117.,  117.,  117.],\n",
       "         [  11.,   11.,   11.]],\n",
       "\n",
       "        [[   0.,    0.,    0.],\n",
       "         [ 104.,  104.,  104.],\n",
       "         [  70.,   70.,   70.],\n",
       "         ..., \n",
       "         [ 117.,  117.,  117.],\n",
       "         [ 192.,  192.,  192.],\n",
       "         [ 201.,  201.,  201.]],\n",
       "\n",
       "        ..., \n",
       "        [[   6.,    6.,    6.],\n",
       "         [ 225.,  225.,  225.],\n",
       "         [ 155.,  155.,  155.],\n",
       "         ..., \n",
       "         [   7.,    7.,    7.],\n",
       "         [ 248.,  248.,  248.],\n",
       "         [ 171.,  171.,  171.]],\n",
       "\n",
       "        [[ 228.,  228.,  228.],\n",
       "         [  50.,   50.,   50.],\n",
       "         [ 192.,  192.,  192.],\n",
       "         ..., \n",
       "         [ 111.,  111.,  111.],\n",
       "         [ 232.,  232.,  232.],\n",
       "         [ 175.,  175.,  175.]],\n",
       "\n",
       "        [[  80.,   80.,   80.],\n",
       "         [ 140.,  140.,  140.],\n",
       "         [ 132.,  132.,  132.],\n",
       "         ..., \n",
       "         [  34.,   34.,   34.],\n",
       "         [ 210.,  210.,  210.],\n",
       "         [ 105.,  105.,  105.]]],\n",
       "\n",
       "\n",
       "       [[[   0.,    0.,    0.],\n",
       "         [   0.,    0.,    0.],\n",
       "         [   0.,    0.,    0.],\n",
       "         ..., \n",
       "         [ 160.,  160.,  160.],\n",
       "         [ 255.,  255.,  255.],\n",
       "         [  70.,   70.,   70.]],\n",
       "\n",
       "        [[  86.,   86.,   86.],\n",
       "         [ 216.,  216.,  216.],\n",
       "         [   0.,    0.,    0.],\n",
       "         ..., \n",
       "         [ 131.,  131.,  131.],\n",
       "         [ 117.,  117.,  117.],\n",
       "         [  11.,   11.,   11.]],\n",
       "\n",
       "        [[   0.,    0.,    0.],\n",
       "         [ 104.,  104.,  104.],\n",
       "         [  70.,   70.,   70.],\n",
       "         ..., \n",
       "         [ 117.,  117.,  117.],\n",
       "         [ 192.,  192.,  192.],\n",
       "         [ 201.,  201.,  201.]],\n",
       "\n",
       "        ..., \n",
       "        [[   6.,    6.,    6.],\n",
       "         [ 225.,  225.,  225.],\n",
       "         [ 155.,  155.,  155.],\n",
       "         ..., \n",
       "         [   7.,    7.,    7.],\n",
       "         [ 248.,  248.,  248.],\n",
       "         [ 171.,  171.,  171.]],\n",
       "\n",
       "        [[ 228.,  228.,  228.],\n",
       "         [  50.,   50.,   50.],\n",
       "         [ 192.,  192.,  192.],\n",
       "         ..., \n",
       "         [ 111.,  111.,  111.],\n",
       "         [ 232.,  232.,  232.],\n",
       "         [ 175.,  175.,  175.]],\n",
       "\n",
       "        [[  80.,   80.,   80.],\n",
       "         [ 140.,  140.,  140.],\n",
       "         [ 132.,  132.,  132.],\n",
       "         ..., \n",
       "         [  34.,   34.,   34.],\n",
       "         [ 210.,  210.,  210.],\n",
       "         [ 105.,  105.,  105.]]],\n",
       "\n",
       "\n",
       "       [[[   0.,    0.,    0.],\n",
       "         [   0.,    0.,    0.],\n",
       "         [   0.,    0.,    0.],\n",
       "         ..., \n",
       "         [ 160.,  160.,  160.],\n",
       "         [ 255.,  255.,  255.],\n",
       "         [  70.,   70.,   70.]],\n",
       "\n",
       "        [[  86.,   86.,   86.],\n",
       "         [ 216.,  216.,  216.],\n",
       "         [   0.,    0.,    0.],\n",
       "         ..., \n",
       "         [ 131.,  131.,  131.],\n",
       "         [ 117.,  117.,  117.],\n",
       "         [  11.,   11.,   11.]],\n",
       "\n",
       "        [[   0.,    0.,    0.],\n",
       "         [ 104.,  104.,  104.],\n",
       "         [  70.,   70.,   70.],\n",
       "         ..., \n",
       "         [ 117.,  117.,  117.],\n",
       "         [ 192.,  192.,  192.],\n",
       "         [ 201.,  201.,  201.]],\n",
       "\n",
       "        ..., \n",
       "        [[   6.,    6.,    6.],\n",
       "         [ 225.,  225.,  225.],\n",
       "         [ 155.,  155.,  155.],\n",
       "         ..., \n",
       "         [   7.,    7.,    7.],\n",
       "         [ 248.,  248.,  248.],\n",
       "         [ 171.,  171.,  171.]],\n",
       "\n",
       "        [[ 228.,  228.,  228.],\n",
       "         [  50.,   50.,   50.],\n",
       "         [ 192.,  192.,  192.],\n",
       "         ..., \n",
       "         [ 111.,  111.,  111.],\n",
       "         [ 232.,  232.,  232.],\n",
       "         [ 175.,  175.,  175.]],\n",
       "\n",
       "        [[  80.,   80.,   80.],\n",
       "         [ 140.,  140.,  140.],\n",
       "         [ 132.,  132.,  132.],\n",
       "         ..., \n",
       "         [  34.,   34.,   34.],\n",
       "         [ 210.,  210.,  210.],\n",
       "         [ 105.,  105.,  105.]]]])"
      ]
     },
     "execution_count": 5,
     "metadata": {},
     "output_type": "execute_result"
    }
   ],
   "source": [
    "X"
   ]
  },
  {
   "cell_type": "code",
   "execution_count": 8,
   "metadata": {
    "collapsed": true
   },
   "outputs": [],
   "source": [
    "X = np.reshape(X,(X.shape[0],-1))"
   ]
  },
  {
   "cell_type": "code",
   "execution_count": 9,
   "metadata": {},
   "outputs": [
    {
     "data": {
      "text/plain": [
       "(9339, 150528)"
      ]
     },
     "execution_count": 9,
     "metadata": {},
     "output_type": "execute_result"
    }
   ],
   "source": [
    "X.shape"
   ]
  },
  {
   "cell_type": "code",
   "execution_count": 10,
   "metadata": {},
   "outputs": [
    {
     "data": {
      "text/plain": [
       "array([[  90.,   90.,   90., ...,  238.,  238.,  238.],\n",
       "       [  90.,   90.,   90., ...,   32.,   32.,   32.],\n",
       "       [  90.,   90.,   90., ...,  103.,  103.,  103.],\n",
       "       ..., \n",
       "       [   0.,    0.,    0., ...,  105.,  105.,  105.],\n",
       "       [   0.,    0.,    0., ...,  105.,  105.,  105.],\n",
       "       [   0.,    0.,    0., ...,  105.,  105.,  105.]])"
      ]
     },
     "execution_count": 10,
     "metadata": {},
     "output_type": "execute_result"
    }
   ],
   "source": [
    "X"
   ]
  },
  {
   "cell_type": "code",
   "execution_count": 11,
   "metadata": {
    "collapsed": true
   },
   "outputs": [],
   "source": [
    "# Create stratified k-fold subsets                                                                                                                                        \n",
    "kfold = 10  # no. of folds                                                                 \n",
    "skf = StratifiedKFold(kfold, shuffle=True,random_state=1)\n",
    "skfind = [None] * kfold  # skfind[i][0] -> train indices, skfind[i][1] -> test indices\n",
    "cnt = 0                                              \n",
    "for index in skf.split(X, y):         \n",
    "    skfind[cnt] = index                                                 \n",
    "    cnt += 1 "
   ]
  },
  {
   "cell_type": "code",
   "execution_count": 12,
   "metadata": {},
   "outputs": [
    {
     "name": "stdout",
     "output_type": "stream",
     "text": [
      "[0] Test acurracy: 0.4455\n",
      "[1] Test acurracy: 0.4544\n",
      "[2] Test acurracy: 0.4488\n",
      "[3] Test acurracy: 0.4551\n",
      "[4] Test acurracy: 0.4449\n",
      "[5] Test acurracy: 0.4460\n",
      "[6] Test acurracy: 0.4511\n",
      "[7] Test acurracy: 0.4564\n",
      "[8] Test acurracy: 0.4530\n",
      "[9] Test acurracy: 0.4496\n"
     ]
    }
   ],
   "source": [
    "# Training top_model and saving min training loss weights\n",
    "n_neighbors = 1\n",
    "conf_mat = np.zeros((len(list_fams),len(list_fams))) # Initializing the Confusion Matrix\n",
    "for i in range(kfold):\n",
    "    train_indices = skfind[i][0]\n",
    "    test_indices = skfind[i][1]\n",
    "    X_train = X[train_indices]\n",
    "    y_train = y[train_indices]\n",
    "    X_test = X[test_indices]\n",
    "    y_test = y[test_indices]\n",
    "    \n",
    "    top_model = KNeighborsClassifier(n_neighbors, weights='distance',n_jobs=-1)\n",
    "    top_model.fit(X_train,y_train)  # Training\n",
    "    y_pred = top_model.predict(X_test)  # Testing\n",
    "    print(\"[%d] Test acurracy: %.4f\" %(i,accuracy_score(y_test,y_pred)))\n",
    "    cm = confusion_matrix(y_test,y_pred)  # Compute confusion matrix for this fold\n",
    "    conf_mat = conf_mat + cm  # Compute global confusion matrix"
   ]
  },
  {
   "cell_type": "code",
   "execution_count": 13,
   "metadata": {},
   "outputs": [
    {
     "name": "stdout",
     "output_type": "stream",
     "text": [
      "Average acurracy: 0.4505\n"
     ]
    }
   ],
   "source": [
    "# Computing the average accuracy\n",
    "avg_acc = np.trace(conf_mat)/sum(no_imgs)\n",
    "print(\"Average acurracy: %.4f\" %(avg_acc))"
   ]
  },
  {
   "cell_type": "code",
   "execution_count": 14,
   "metadata": {
    "collapsed": true
   },
   "outputs": [],
   "source": [
    "# Viewing the confusion matrix\n",
    "conf_mat = conf_mat.T  # since rows and cols are interchangeable\n",
    "conf_mat_norm = conf_mat/no_imgs  # Normalizing the confusion matrix"
   ]
  },
  {
   "cell_type": "code",
   "execution_count": 15,
   "metadata": {},
   "outputs": [
    {
     "name": "stdout",
     "output_type": "stream",
     "text": [
      "Plotting the confusion matrix\n"
     ]
    },
    {
     "data": {
      "image/png": "[encoded data removed]",
      "text/plain": [
       "<matplotlib.figure.Figure at 0x7fea3cbf2650>"
      ]
     },
     "metadata": {},
     "output_type": "display_data"
    }
   ],
   "source": [
    "print(\"Plotting the confusion matrix\")\n",
    "conf_mat = np.around(conf_mat_norm,decimals=2)  # rounding to display in figure\n",
    "figure = plt.gcf()\n",
    "figure.set_size_inches(24, 18)\n",
    "plt.imshow(conf_mat,interpolation='nearest')\n",
    "for row in range(len(list_fams)):\n",
    "    for col in range(len(list_fams)):\n",
    "        plt.annotate(str(conf_mat[row][col]),xy=(col,row),ha='center',va='center')\n",
    "plt.xticks(range(len(list_fams)),list_fams,rotation=90,fontsize=10)\n",
    "plt.yticks(range(len(list_fams)),list_fams,fontsize=10)\n",
    "plt.title('Confusion matrix')\n",
    "plt.colorbar()\n",
    "plt.show()"
   ]
  }
 ],
 "metadata": {
  "kernelspec": {
   "display_name": "Python 2",
   "language": "python",
   "name": "python2"
  },
  "language_info": {
   "codemirror_mode": {
    "name": "ipython",
    "version": 2
   },
   "file_extension": ".py",
   "mimetype": "text/x-python",
   "name": "python",
   "nbconvert_exporter": "python",
   "pygments_lexer": "ipython2",
   "version": "2.7.12"
  }
 },
 "nbformat": 4,
 "nbformat_minor": 2
}
