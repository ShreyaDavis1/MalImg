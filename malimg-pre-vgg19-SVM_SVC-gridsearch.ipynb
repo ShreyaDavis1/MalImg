{
 "cells": [
  {
   "cell_type": "code",
   "execution_count": 1,
   "metadata": {},
   "outputs": [
    {
     "name": "stderr",
     "output_type": "stream",
     "text": [
      "Using TensorFlow backend.\n"
     ]
    }
   ],
   "source": [
    "import os\n",
    "import os.path\n",
    "import glob\n",
    "from sklearn.preprocessing import LabelEncoder\n",
    "from sklearn.model_selection import StratifiedKFold                                                                                                                       \n",
    "from sklearn.metrics import confusion_matrix,accuracy_score\n",
    "from sklearn.model_selection import StratifiedShuffleSplit\n",
    "from sklearn.model_selection import GridSearchCV\n",
    "import sklearn_evaluation.plot as skplot\n",
    "from sklearn.model_selection import learning_curve\n",
    "from sklearn import svm\n",
    "\n",
    "import matplotlib.pyplot as plt\n",
    "import matplotlib.cm as colormap\n",
    "plt.rcParams['image.cmap'] = 'Paired'\n",
    "\n",
    "import numpy as np\n",
    "np.random.seed(1)\n",
    "\n",
    "from keras.preprocessing.image import img_to_array\n",
    "from keras.utils import np_utils\n",
    "from keras.preprocessing import image\n",
    "from keras.applications.vgg19 import VGG19\n",
    "from keras.applications.imagenet_utils import preprocess_input\n",
    "\n",
    "os.environ['CUDA_VISIBLE_DEVICES'] = '-1'"
   ]
  },
  {
   "cell_type": "code",
   "execution_count": 2,
   "metadata": {
    "collapsed": true
   },
   "outputs": [],
   "source": [
    "imagedir = \"Datasets/malimg_paper_dataset_imgs\""
   ]
  },
  {
   "cell_type": "code",
   "execution_count": 3,
   "metadata": {},
   "outputs": [
    {
     "name": "stdout",
     "output_type": "stream",
     "text": [
      "Label: 0\tFamily:       Adialer.C\tNumber of images: 122\n",
      "Label: 1\tFamily:       Agent.FYI\tNumber of images: 116\n",
      "Label: 2\tFamily:       Allaple.A\tNumber of images: 2949\n",
      "Label: 3\tFamily:       Allaple.L\tNumber of images: 1591\n",
      "Label: 4\tFamily:   Alueron.gen!J\tNumber of images: 198\n",
      "Label: 5\tFamily:       Autorun.K\tNumber of images: 106\n",
      "Label: 6\tFamily:     C2LOP.gen!g\tNumber of images: 200\n",
      "Label: 7\tFamily:         C2LOP.P\tNumber of images: 146\n",
      "Label: 8\tFamily:  Dialplatform.B\tNumber of images: 177\n",
      "Label: 9\tFamily:       Dontovo.A\tNumber of images: 162\n",
      "Label:10\tFamily:        Fakerean\tNumber of images: 381\n",
      "Label:11\tFamily:   Instantaccess\tNumber of images: 431\n",
      "Label:12\tFamily:      Lolyda.AA1\tNumber of images: 213\n",
      "Label:13\tFamily:      Lolyda.AA2\tNumber of images: 184\n",
      "Label:14\tFamily:      Lolyda.AA3\tNumber of images: 123\n",
      "Label:15\tFamily:       Lolyda.AT\tNumber of images: 159\n",
      "Label:16\tFamily:     Malex.gen!J\tNumber of images: 136\n",
      "Label:17\tFamily:   Obfuscator.AD\tNumber of images: 142\n",
      "Label:18\tFamily:        Rbot!gen\tNumber of images: 158\n",
      "Label:19\tFamily:      Skintrim.N\tNumber of images: 80\n",
      "Label:20\tFamily:   Swizzor.gen!E\tNumber of images: 128\n",
      "Label:21\tFamily:   Swizzor.gen!I\tNumber of images: 132\n",
      "Label:22\tFamily:           VB.AT\tNumber of images: 408\n",
      "Label:23\tFamily:      Wintrim.BX\tNumber of images: 97\n",
      "Label:24\tFamily:         Yuner.A\tNumber of images: 800\n",
      "Processing images ...\n",
      "Images processed: 9339\n"
     ]
    }
   ],
   "source": [
    "cur_dir = os.getcwd()\n",
    "os.chdir(imagedir)  # the parent folder with sub-folders\n",
    "\n",
    "# Get number of samples per family\n",
    "list_fams = sorted(os.listdir(os.getcwd()), key=str.lower)  # vector of strings with family names\n",
    "no_imgs = []  # No. of samples per family\n",
    "for i in range(len(list_fams)):\n",
    "    os.chdir(list_fams[i])\n",
    "    len1 = len(glob.glob('*.png'))  # assuming the images are stored as 'png'\n",
    "    no_imgs.append(len1)\n",
    "    os.chdir('..')\n",
    "num_samples = np.sum(no_imgs)  # total number of all samples\n",
    "\n",
    "# Compute the labels\n",
    "y = np.zeros(num_samples)\n",
    "pos = 0\n",
    "label = 0\n",
    "for i in no_imgs:\n",
    "    print (\"Label:%2d\\tFamily: %15s\\tNumber of images: %d\" % (label, list_fams[label], i))\n",
    "    for j in range(i):\n",
    "        y[pos] = label\n",
    "        pos += 1\n",
    "    label += 1\n",
    "num_classes = label\n",
    "\n",
    "# Compute the features\n",
    "width, height,channels = (224,224,3)\n",
    "X = np.zeros((num_samples, width, height, channels))\n",
    "cnt = 0\n",
    "list_paths = [] # List of image paths\n",
    "print(\"Processing images ...\")\n",
    "for i in range(len(list_fams)):\n",
    "    for img_file in glob.glob(list_fams[i]+'/*.png'):\n",
    "        #print(\"[%d] Processing image: %s\" % (cnt, img_file))\n",
    "        list_paths.append(os.path.join(os.getcwd(),img_file))\n",
    "        img = image.load_img(img_file, target_size=(224, 224))\n",
    "        x = image.img_to_array(img)\n",
    "        x = np.expand_dims(x, axis=0)\n",
    "        x = preprocess_input(x)\n",
    "        X[cnt] = x\n",
    "        cnt += 1\n",
    "print(\"Images processed: %d\" %(cnt))\n",
    "\n",
    "os.chdir(cur_dir)"
   ]
  },
  {
   "cell_type": "code",
   "execution_count": 4,
   "metadata": {},
   "outputs": [
    {
     "data": {
      "text/plain": [
       "(9339, 224, 224, 3)"
      ]
     },
     "execution_count": 4,
     "metadata": {},
     "output_type": "execute_result"
    }
   ],
   "source": [
    "X.shape"
   ]
  },
  {
   "cell_type": "code",
   "execution_count": 5,
   "metadata": {
    "collapsed": true
   },
   "outputs": [],
   "source": [
    "# Encoding classes (y) into integers (y_encoded) and then generating one-hot-encoding (Y)\n",
    "encoder = LabelEncoder()\n",
    "encoder.fit(y)\n",
    "y_encoded = encoder.transform(y)\n",
    "Y = np_utils.to_categorical(y_encoded)"
   ]
  },
  {
   "cell_type": "code",
   "execution_count": 6,
   "metadata": {
    "collapsed": true
   },
   "outputs": [],
   "source": [
    "# Creating base_model (VGG19 notop)\n",
    "image_shape = (224, 224, 3)                                                                                                                                                                                                                                                                                            \n",
    "base_model = VGG19(weights='imagenet', input_shape=image_shape, include_top=False)"
   ]
  },
  {
   "cell_type": "code",
   "execution_count": 7,
   "metadata": {},
   "outputs": [
    {
     "name": "stdout",
     "output_type": "stream",
     "text": [
      "Loading VGG19 extracted features from malimg-vgg19features.npy ...\n"
     ]
    }
   ],
   "source": [
    "filename = 'malimg-vgg19features.npy'\n",
    "if os.path.exists(filename):\n",
    "    print(\"Loading VGG19 extracted features from %s ...\" %(filename))\n",
    "    vgg19features = np.load(filename)\n",
    "else:\n",
    "    print(\"Extracting features from VGG19 layers ...\")\n",
    "    vgg19features = base_model.predict(X)\n",
    "    print(\"Saving VGG19 extracted features into %s ...\" %(filename))\n",
    "    np.save(filename, vgg19features)"
   ]
  },
  {
   "cell_type": "code",
   "execution_count": 8,
   "metadata": {},
   "outputs": [
    {
     "data": {
      "text/plain": [
       "(9339, 7, 7, 512)"
      ]
     },
     "execution_count": 8,
     "metadata": {},
     "output_type": "execute_result"
    }
   ],
   "source": [
    "vgg19features.shape"
   ]
  },
  {
   "cell_type": "code",
   "execution_count": 9,
   "metadata": {
    "collapsed": true
   },
   "outputs": [],
   "source": [
    "vgg19features = np.reshape(vgg19features,(vgg19features.shape[0],-1))"
   ]
  },
  {
   "cell_type": "code",
   "execution_count": null,
   "metadata": {},
   "outputs": [
    {
     "data": {
      "text/plain": [
       "(9339, 25088)"
      ]
     },
     "execution_count": 10,
     "metadata": {},
     "output_type": "execute_result"
    }
   ],
   "source": [
    "vgg19features.shape"
   ]
  },
  {
   "cell_type": "code",
   "execution_count": null,
   "metadata": {},
   "outputs": [
    {
     "name": "stdout",
     "output_type": "stream",
     "text": [
      "Fitting 5 folds for each of 169 candidates, totalling 845 fits\n",
      "[CV] C=0.01, gamma=1e-09 .............................................\n",
      "[CV] C=0.01, gamma=1e-09 .............................................\n",
      "[CV] C=0.01, gamma=1e-09 .............................................\n",
      "[CV] C=0.01, gamma=1e-09 .............................................\n",
      "[CV] C=0.01, gamma=1e-09 .............................................\n",
      "[CV] C=0.01, gamma=1e-08 .............................................\n",
      "[CV] C=0.01, gamma=1e-08 .............................................\n",
      "[CV] C=0.01, gamma=1e-08 .............................................\n",
      "[CV] C=0.01, gamma=1e-08 .............................................\n",
      "[CV] C=0.01, gamma=1e-08 .............................................\n",
      "[CV] C=0.01, gamma=1e-07 .............................................\n",
      "[CV] C=0.01, gamma=1e-07 .............................................\n",
      "[CV] C=0.01, gamma=1e-07 .............................................\n",
      "[CV] C=0.01, gamma=1e-07 .............................................\n",
      "[CV] C=0.01, gamma=1e-07 .............................................\n",
      "[CV] .............. C=0.01, gamma=1e-09, score=0.315846, total=72.7min\n",
      "[CV] C=0.01, gamma=1e-06 .............................................\n",
      "[CV] .............. C=0.01, gamma=1e-09, score=0.315846, total=73.2min\n",
      "[CV] C=0.01, gamma=1e-06 .............................................\n"
     ]
    },
    {
     "name": "stderr",
     "output_type": "stream",
     "text": [
      "[Parallel(n_jobs=15)]: Done   2 tasks      | elapsed: 116.3min\n"
     ]
    },
    {
     "name": "stdout",
     "output_type": "stream",
     "text": [
      "[CV] .............. C=0.01, gamma=1e-08, score=0.315846, total=74.1min\n",
      "[CV] C=0.01, gamma=1e-06 .............................................\n",
      "[CV] .............. C=0.01, gamma=1e-07, score=0.401499, total=74.8min\n",
      "[CV] C=0.01, gamma=1e-06 .............................................\n",
      "[CV] .............. C=0.01, gamma=1e-07, score=0.401499, total=75.3min\n",
      "[CV] C=0.01, gamma=1e-06 .............................................\n",
      "[CV] .............. C=0.01, gamma=1e-07, score=0.401499, total=75.7min\n",
      "[CV] C=0.01, gamma=1e-05 .............................................\n",
      "[CV] .............. C=0.01, gamma=1e-08, score=0.315846, total=79.3min\n",
      "[CV] C=0.01, gamma=1e-05 .............................................\n",
      "[CV] .............. C=0.01, gamma=1e-09, score=0.315846, total=79.2min\n",
      "[CV] C=0.01, gamma=1e-05 .............................................\n",
      "[CV] .............. C=0.01, gamma=1e-07, score=0.401499, total=78.9min\n",
      "[CV] C=0.01, gamma=1e-05 .............................................\n",
      "[CV] .............. C=0.01, gamma=1e-08, score=0.315846, total=79.8min\n",
      "[CV] C=0.01, gamma=1e-05 .............................................\n",
      "[CV] .............. C=0.01, gamma=1e-09, score=0.315846, total=81.1min\n",
      "[CV] C=0.01, gamma=0.0001 ............................................\n"
     ]
    },
    {
     "name": "stderr",
     "output_type": "stream",
     "text": [
      "[Parallel(n_jobs=15)]: Done  11 tasks      | elapsed: 129.8min\n"
     ]
    },
    {
     "name": "stdout",
     "output_type": "stream",
     "text": [
      "[CV] .............. C=0.01, gamma=1e-08, score=0.315846, total=83.6min\n",
      "[CV] C=0.01, gamma=0.0001 ............................................\n",
      "[CV] .............. C=0.01, gamma=1e-07, score=0.401499, total=81.0min\n",
      "[CV] C=0.01, gamma=0.0001 ............................................\n",
      "[CV] .............. C=0.01, gamma=1e-09, score=0.315846, total=81.9min\n",
      "[CV] C=0.01, gamma=0.0001 ............................................\n",
      "[CV] .............. C=0.01, gamma=1e-08, score=0.315846, total=81.2min\n",
      "[CV] C=0.01, gamma=0.0001 ............................................\n",
      "[CV] .............. C=0.01, gamma=1e-06, score=0.717880, total=57.2min\n",
      "[CV] C=0.01, gamma=0.001 .............................................\n",
      "[CV] .............. C=0.01, gamma=1e-06, score=0.716809, total=57.0min\n",
      "[CV] C=0.01, gamma=0.001 .............................................\n",
      "[CV] .............. C=0.01, gamma=1e-06, score=0.718415, total=59.8min\n",
      "[CV] C=0.01, gamma=0.001 .............................................\n",
      "[CV] .............. C=0.01, gamma=1e-06, score=0.716809, total=58.4min\n",
      "[CV] C=0.01, gamma=0.001 .............................................\n",
      "[CV] .............. C=0.01, gamma=1e-06, score=0.718415, total=65.1min\n",
      "[CV] C=0.01, gamma=0.001 .............................................\n"
     ]
    },
    {
     "name": "stderr",
     "output_type": "stream",
     "text": [
      "[Parallel(n_jobs=15)]: Done  20 tasks      | elapsed: 226.5min\n"
     ]
    },
    {
     "name": "stdout",
     "output_type": "stream",
     "text": [
      "[CV] .............. C=0.01, gamma=1e-05, score=0.564240, total=78.4min\n",
      "[CV] C=0.01, gamma=0.01 ..............................................\n",
      "[CV] .............. C=0.01, gamma=1e-05, score=0.569058, total=80.0min\n",
      "[CV] C=0.01, gamma=0.01 ..............................................\n",
      "[CV] .............. C=0.01, gamma=1e-05, score=0.566916, total=87.4min\n",
      "[CV] C=0.01, gamma=0.01 ..............................................\n",
      "[CV] .............. C=0.01, gamma=1e-05, score=0.570664, total=88.6min\n",
      "[CV] C=0.01, gamma=0.01 ..............................................\n",
      "[CV] .............. C=0.01, gamma=1e-05, score=0.572805, total=89.5min\n",
      "[CV] C=0.01, gamma=0.01 ..............................................\n",
      "[CV] ............ C=0.01, gamma=0.0001, score=0.401499, total=208.3min\n",
      "[CV] C=0.01, gamma=0.1 ...............................................\n",
      "[CV] ............ C=0.01, gamma=0.0001, score=0.401499, total=214.0min\n",
      "[CV] C=0.01, gamma=0.1 ...............................................\n",
      "[CV] ............ C=0.01, gamma=0.0001, score=0.401499, total=210.0min\n",
      "[CV] C=0.01, gamma=0.1 ...............................................\n",
      "[CV] ............ C=0.01, gamma=0.0001, score=0.401499, total=216.5min\n",
      "[CV] C=0.01, gamma=0.1 ...............................................\n",
      "[CV] ............ C=0.01, gamma=0.0001, score=0.401499, total=211.7min\n",
      "[CV] C=0.01, gamma=0.1 ...............................................\n",
      "[CV] ............. C=0.01, gamma=0.001, score=0.401499, total=179.8min\n",
      "[CV] C=0.01, gamma=1.0 ...............................................\n"
     ]
    },
    {
     "name": "stderr",
     "output_type": "stream",
     "text": [
      "[Parallel(n_jobs=15)]: Done  31 tasks      | elapsed: 439.3min\n"
     ]
    },
    {
     "name": "stdout",
     "output_type": "stream",
     "text": [
      "[CV] ............. C=0.01, gamma=0.001, score=0.401499, total=181.6min\n",
      "[CV] C=0.01, gamma=1.0 ...............................................\n",
      "[CV] ............. C=0.01, gamma=0.001, score=0.401499, total=187.3min\n",
      "[CV] C=0.01, gamma=1.0 ...............................................\n",
      "[CV] ............. C=0.01, gamma=0.001, score=0.401499, total=184.9min\n",
      "[CV] C=0.01, gamma=1.0 ...............................................\n",
      "[CV] .............. C=0.01, gamma=0.01, score=0.401499, total=179.4min\n",
      "[CV] C=0.01, gamma=1.0 ...............................................\n",
      "[CV] ............. C=0.01, gamma=0.001, score=0.401499, total=196.0min\n",
      "[CV] C=0.01, gamma=10.0 ..............................................\n",
      "[CV] .............. C=0.01, gamma=0.01, score=0.401499, total=187.2min\n",
      "[CV] C=0.01, gamma=10.0 ..............................................\n",
      "[CV] .............. C=0.01, gamma=0.01, score=0.401499, total=210.9min\n",
      "[CV] C=0.01, gamma=10.0 ..............................................\n",
      "[CV] .............. C=0.01, gamma=0.01, score=0.401499, total=205.3min\n",
      "[CV] C=0.01, gamma=10.0 ..............................................\n",
      "[CV] .............. C=0.01, gamma=0.01, score=0.401499, total=211.9min\n",
      "[CV] C=0.01, gamma=10.0 ..............................................\n",
      "[CV] ............... C=0.01, gamma=0.1, score=0.401499, total=204.3min\n",
      "[CV] C=0.01, gamma=100.0 .............................................\n",
      "[CV] ............... C=0.01, gamma=0.1, score=0.401499, total=202.0min\n",
      "[CV] C=0.01, gamma=100.0 .............................................\n"
     ]
    },
    {
     "name": "stderr",
     "output_type": "stream",
     "text": [
      "[Parallel(n_jobs=15)]: Done  42 tasks      | elapsed: 647.8min\n"
     ]
    },
    {
     "name": "stdout",
     "output_type": "stream",
     "text": [
      "[CV] ............... C=0.01, gamma=0.1, score=0.401499, total=202.2min\n",
      "[CV] C=0.01, gamma=100.0 .............................................\n",
      "[CV] ............... C=0.01, gamma=0.1, score=0.401499, total=200.5min\n",
      "[CV] C=0.01, gamma=100.0 .............................................\n",
      "[CV] ............... C=0.01, gamma=0.1, score=0.401499, total=203.4min\n",
      "[CV] C=0.01, gamma=100.0 .............................................\n",
      "[CV] ............... C=0.01, gamma=1.0, score=0.401499, total=183.9min\n",
      "[CV] C=0.01, gamma=1000.0 ............................................\n",
      "[CV] ............... C=0.01, gamma=1.0, score=0.401499, total=183.2min\n",
      "[CV] C=0.01, gamma=1000.0 ............................................\n",
      "[CV] ............... C=0.01, gamma=1.0, score=0.401499, total=185.1min\n",
      "[CV] C=0.01, gamma=1000.0 ............................................\n",
      "[CV] ............... C=0.01, gamma=1.0, score=0.401499, total=184.5min\n",
      "[CV] C=0.01, gamma=1000.0 ............................................\n",
      "[CV] ............... C=0.01, gamma=1.0, score=0.401499, total=182.8min\n",
      "[CV] C=0.01, gamma=1000.0 ............................................\n",
      "[CV] .............. C=0.01, gamma=10.0, score=0.401499, total=186.8min\n",
      "[CV] C=0.1, gamma=1e-09 ..............................................\n",
      "[CV] .............. C=0.01, gamma=10.0, score=0.401499, total=187.2min\n",
      "[CV] C=0.1, gamma=1e-09 ..............................................\n",
      "[CV] .............. C=0.01, gamma=10.0, score=0.401499, total=200.8min\n",
      "[CV] C=0.1, gamma=1e-09 ..............................................\n",
      "[CV] .............. C=0.01, gamma=10.0, score=0.401499, total=199.7min\n",
      "[CV] C=0.1, gamma=1e-09 ..............................................\n",
      "[CV] .............. C=0.01, gamma=10.0, score=0.401499, total=195.2min\n",
      "[CV] C=0.1, gamma=1e-09 ..............................................\n"
     ]
    },
    {
     "name": "stderr",
     "output_type": "stream",
     "text": [
      "[Parallel(n_jobs=15)]: Done  55 tasks      | elapsed: 770.8min\n"
     ]
    },
    {
     "name": "stdout",
     "output_type": "stream",
     "text": [
      "[CV] ............... C=0.1, gamma=1e-09, score=0.315846, total=65.2min\n",
      "[CV] C=0.1, gamma=1e-08 ..............................................\n",
      "[CV] ............... C=0.1, gamma=1e-09, score=0.315846, total=63.8min\n",
      "[CV] C=0.1, gamma=1e-08 ..............................................\n",
      "[CV] ............... C=0.1, gamma=1e-09, score=0.315846, total=69.2min\n",
      "[CV] C=0.1, gamma=1e-08 ..............................................\n",
      "[CV] ............... C=0.1, gamma=1e-09, score=0.315846, total=71.2min\n",
      "[CV] C=0.1, gamma=1e-08 ..............................................\n",
      "[CV] ............... C=0.1, gamma=1e-09, score=0.315846, total=67.8min\n",
      "[CV] C=0.1, gamma=1e-08 ..............................................\n",
      "[CV] ............ C=0.01, gamma=1000.0, score=0.401499, total=181.5min\n",
      "[CV] C=0.1, gamma=1e-07 ..............................................\n",
      "[CV] ............ C=0.01, gamma=1000.0, score=0.401499, total=181.1min\n",
      "[CV] C=0.1, gamma=1e-07 ..............................................\n",
      "[CV] ............. C=0.01, gamma=100.0, score=0.401499, total=197.8min\n",
      "[CV] C=0.1, gamma=1e-07 ..............................................\n",
      "[CV] ............. C=0.01, gamma=100.0, score=0.401499, total=199.4min\n",
      "[CV] C=0.1, gamma=1e-07 ..............................................\n",
      "[CV] ............ C=0.01, gamma=1000.0, score=0.401499, total=182.9min\n",
      "[CV] C=0.1, gamma=1e-07 ..............................................\n",
      "[CV] ............ C=0.01, gamma=1000.0, score=0.401499, total=182.0min\n",
      "[CV] C=0.1, gamma=1e-06 ..............................................\n",
      "[CV] ............. C=0.01, gamma=100.0, score=0.401499, total=201.5min\n",
      "[CV] C=0.1, gamma=1e-06 ..............................................\n",
      "[CV] ............. C=0.01, gamma=100.0, score=0.401499, total=197.2min\n",
      "[CV] C=0.1, gamma=1e-06 ..............................................\n"
     ]
    },
    {
     "name": "stderr",
     "output_type": "stream",
     "text": [
      "[Parallel(n_jobs=15)]: Done  68 tasks      | elapsed: 901.2min\n"
     ]
    },
    {
     "name": "stdout",
     "output_type": "stream",
     "text": [
      "[CV] ............. C=0.01, gamma=100.0, score=0.401499, total=202.7min\n",
      "[CV] C=0.1, gamma=1e-06 ..............................................\n",
      "[CV] ............... C=0.1, gamma=1e-08, score=0.401499, total=64.0min\n",
      "[CV] C=0.1, gamma=1e-06 ..............................................\n",
      "[CV] ............ C=0.01, gamma=1000.0, score=0.401499, total=183.4min\n",
      "[CV] C=0.1, gamma=1e-05 ..............................................\n",
      "[CV] ............... C=0.1, gamma=1e-08, score=0.401499, total=65.2min\n",
      "[CV] C=0.1, gamma=1e-05 ..............................................\n",
      "[CV] ............... C=0.1, gamma=1e-06, score=0.959850, total=21.5min\n",
      "[CV] C=0.1, gamma=1e-05 ..............................................\n",
      "[CV] ............... C=0.1, gamma=1e-06, score=0.961991, total=23.5min\n",
      "[CV] C=0.1, gamma=1e-05 ..............................................\n",
      "[CV] ............... C=0.1, gamma=1e-06, score=0.962527, total=25.5min\n",
      "[CV] C=0.1, gamma=1e-05 ..............................................\n",
      "[CV] ............... C=0.1, gamma=1e-06, score=0.960921, total=24.3min\n",
      "[CV] C=0.1, gamma=0.0001 .............................................\n",
      "[CV] ............... C=0.1, gamma=1e-06, score=0.958779, total=21.4min\n",
      "[CV] C=0.1, gamma=0.0001 .............................................\n",
      "[CV] ............... C=0.1, gamma=1e-07, score=0.814240, total=49.2min\n",
      "[CV] C=0.1, gamma=0.0001 .............................................\n",
      "[CV] ............... C=0.1, gamma=1e-07, score=0.813704, total=49.0min\n",
      "[CV] C=0.1, gamma=0.0001 .............................................\n",
      "[CV] ............... C=0.1, gamma=1e-07, score=0.808351, total=49.1min\n",
      "[CV] C=0.1, gamma=0.0001 .............................................\n",
      "[CV] ............... C=0.1, gamma=1e-07, score=0.812634, total=54.0min\n",
      "[CV] C=0.1, gamma=0.001 ..............................................\n",
      "[CV] ............... C=0.1, gamma=1e-07, score=0.809422, total=52.6min\n",
      "[CV] C=0.1, gamma=0.001 ..............................................\n",
      "[CV] ............... C=0.1, gamma=1e-08, score=0.401499, total=69.9min\n",
      "[CV] C=0.1, gamma=0.001 ..............................................\n"
     ]
    },
    {
     "name": "stderr",
     "output_type": "stream",
     "text": [
      "[Parallel(n_jobs=15)]: Done  83 tasks      | elapsed: 994.9min\n"
     ]
    },
    {
     "name": "stdout",
     "output_type": "stream",
     "text": [
      "[CV] ............... C=0.1, gamma=1e-08, score=0.401499, total=70.1min\n",
      "[CV] C=0.1, gamma=0.001 ..............................................\n",
      "[CV] ............... C=0.1, gamma=1e-08, score=0.401499, total=69.6min\n",
      "[CV] C=0.1, gamma=0.001 ..............................................\n",
      "[CV] ............... C=0.1, gamma=1e-05, score=0.794433, total=60.2min\n",
      "[CV] C=0.1, gamma=0.01 ...............................................\n",
      "[CV] ............... C=0.1, gamma=1e-05, score=0.798715, total=60.6min\n",
      "[CV] C=0.1, gamma=0.01 ...............................................\n",
      "[CV] ............... C=0.1, gamma=1e-05, score=0.793897, total=60.4min\n",
      "[CV] C=0.1, gamma=0.01 ...............................................\n",
      "[CV] ............... C=0.1, gamma=1e-05, score=0.792827, total=65.0min\n",
      "[CV] C=0.1, gamma=0.01 ...............................................\n",
      "[CV] ............... C=0.1, gamma=1e-05, score=0.797645, total=67.3min\n",
      "[CV] C=0.1, gamma=0.01 ...............................................\n",
      "[CV] ............. C=0.1, gamma=0.0001, score=0.506959, total=197.4min\n",
      "[CV] C=0.1, gamma=0.1 ................................................\n",
      "[CV] ............. C=0.1, gamma=0.0001, score=0.502141, total=213.0min\n",
      "[CV] C=0.1, gamma=0.1 ................................................\n",
      "[CV] ............. C=0.1, gamma=0.0001, score=0.503212, total=195.4min\n",
      "[CV] C=0.1, gamma=0.1 ................................................\n",
      "[CV] ............. C=0.1, gamma=0.0001, score=0.500000, total=197.2min\n",
      "[CV] C=0.1, gamma=0.1 ................................................\n",
      "[CV] ............. C=0.1, gamma=0.0001, score=0.505889, total=197.7min\n",
      "[CV] C=0.1, gamma=0.1 ................................................\n",
      "[CV] .............. C=0.1, gamma=0.001, score=0.468415, total=213.1min\n",
      "[CV] C=0.1, gamma=1.0 ................................................\n",
      "[CV] .............. C=0.1, gamma=0.001, score=0.467345, total=217.6min\n",
      "[CV] C=0.1, gamma=1.0 ................................................\n",
      "[CV] ............... C=0.1, gamma=0.01, score=0.450214, total=199.5min\n",
      "[CV] C=0.1, gamma=1.0 ................................................\n"
     ]
    },
    {
     "name": "stderr",
     "output_type": "stream",
     "text": [
      "[Parallel(n_jobs=15)]: Done  98 tasks      | elapsed: 1252.0min\n"
     ]
    },
    {
     "name": "stdout",
     "output_type": "stream",
     "text": [
      "[CV] ............... C=0.1, gamma=0.01, score=0.450214, total=197.0min\n",
      "[CV] C=0.1, gamma=1.0 ................................................\n",
      "[CV] .............. C=0.1, gamma=0.001, score=0.466274, total=224.2min\n",
      "[CV] C=0.1, gamma=1.0 ................................................\n",
      "[CV] .............. C=0.1, gamma=0.001, score=0.464668, total=212.0min\n",
      "[CV] C=0.1, gamma=10.0 ...............................................\n",
      "[CV] ............... C=0.1, gamma=0.01, score=0.449143, total=199.1min\n",
      "[CV] C=0.1, gamma=10.0 ...............................................\n",
      "[CV] .............. C=0.1, gamma=0.001, score=0.465739, total=220.6min\n",
      "[CV] C=0.1, gamma=10.0 ...............................................\n",
      "[CV] ............... C=0.1, gamma=0.01, score=0.449143, total=212.8min\n",
      "[CV] C=0.1, gamma=10.0 ...............................................\n",
      "[CV] ............... C=0.1, gamma=0.01, score=0.444325, total=219.6min\n",
      "[CV] C=0.1, gamma=10.0 ...............................................\n",
      "[CV] ................ C=0.1, gamma=0.1, score=0.450214, total=197.9min\n",
      "[CV] C=0.1, gamma=100.0 ..............................................\n",
      "[CV] ................ C=0.1, gamma=0.1, score=0.449143, total=198.9min\n",
      "[CV] C=0.1, gamma=100.0 ..............................................\n",
      "[CV] ................ C=0.1, gamma=0.1, score=0.444325, total=197.6min\n",
      "[CV] C=0.1, gamma=100.0 ..............................................\n",
      "[CV] ................ C=0.1, gamma=0.1, score=0.449143, total=198.3min\n",
      "[CV] C=0.1, gamma=100.0 ..............................................\n",
      "[CV] ................ C=0.1, gamma=0.1, score=0.450214, total=218.1min\n",
      "[CV] C=0.1, gamma=100.0 ..............................................\n",
      "[CV] ................ C=0.1, gamma=1.0, score=0.449143, total=199.0min\n",
      "[CV] C=0.1, gamma=1000.0 .............................................\n",
      "[CV] ................ C=0.1, gamma=1.0, score=0.444325, total=197.4min\n",
      "[CV] C=0.1, gamma=1000.0 .............................................\n",
      "[CV] ............... C=0.1, gamma=10.0, score=0.450214, total=199.8min\n",
      "[CV] C=0.1, gamma=1000.0 .............................................\n",
      "[CV] ................ C=0.1, gamma=1.0, score=0.450214, total=221.7min\n",
      "[CV] C=0.1, gamma=1000.0 .............................................\n",
      "[CV] ................ C=0.1, gamma=1.0, score=0.450214, total=222.3min\n",
      "[CV] C=0.1, gamma=1000.0 .............................................\n"
     ]
    },
    {
     "name": "stderr",
     "output_type": "stream",
     "text": [
      "[Parallel(n_jobs=15)]: Done 115 tasks      | elapsed: 1519.0min\n"
     ]
    },
    {
     "name": "stdout",
     "output_type": "stream",
     "text": [
      "[CV] ................ C=0.1, gamma=1.0, score=0.449143, total=221.7min\n",
      "[CV] C=1.0, gamma=1e-09 ..............................................\n",
      "[CV] ............... C=0.1, gamma=10.0, score=0.450214, total=219.9min\n",
      "[CV] C=1.0, gamma=1e-09 ..............................................\n",
      "[CV] ............... C=0.1, gamma=10.0, score=0.449143, total=217.2min\n",
      "[CV] C=1.0, gamma=1e-09 ..............................................\n",
      "[CV] ............... C=0.1, gamma=10.0, score=0.444325, total=220.4min\n",
      "[CV] C=1.0, gamma=1e-09 ..............................................\n",
      "[CV] ............... C=0.1, gamma=10.0, score=0.449143, total=220.4min\n",
      "[CV] C=1.0, gamma=1e-09 ..............................................\n",
      "[CV] ............... C=1.0, gamma=1e-09, score=0.401499, total=69.2min\n",
      "[CV] C=1.0, gamma=1e-08 ..............................................\n",
      "[CV] ............... C=1.0, gamma=1e-09, score=0.401499, total=74.4min\n",
      "[CV] C=1.0, gamma=1e-08 ..............................................\n",
      "[CV] ............... C=1.0, gamma=1e-09, score=0.401499, total=67.5min\n",
      "[CV] C=1.0, gamma=1e-08 ..............................................\n",
      "[CV] .............. C=0.1, gamma=100.0, score=0.450214, total=198.6min\n",
      "[CV] C=1.0, gamma=1e-08 ..............................................\n",
      "[CV] ............... C=1.0, gamma=1e-09, score=0.401499, total=70.1min\n",
      "[CV] C=1.0, gamma=1e-08 ..............................................\n",
      "[CV] ............... C=1.0, gamma=1e-09, score=0.401499, total=72.1min\n",
      "[CV] C=1.0, gamma=1e-07 ..............................................\n",
      "[CV] .............. C=0.1, gamma=100.0, score=0.450214, total=199.1min\n",
      "[CV] C=1.0, gamma=1e-07 ..............................................\n",
      "[CV] .............. C=0.1, gamma=100.0, score=0.449143, total=199.6min\n",
      "[CV] C=1.0, gamma=1e-07 ..............................................\n",
      "[CV] .............. C=0.1, gamma=100.0, score=0.444325, total=199.8min\n",
      "[CV] C=1.0, gamma=1e-07 ..............................................\n",
      "[CV] ............... C=1.0, gamma=1e-07, score=0.972163, total=16.1min\n",
      "[CV] C=1.0, gamma=1e-07 ..............................................\n",
      "[CV] ............... C=1.0, gamma=1e-07, score=0.973233, total=14.9min\n",
      "[CV] ............. C=0.1, gamma=1000.0, score=0.450214, total=199.5min\n"
     ]
    },
    {
     "name": "stderr",
     "output_type": "stream",
     "text": [
      "[Parallel(n_jobs=15)]: Done 132 tasks      | elapsed: 1745.3min\n"
     ]
    },
    {
     "name": "stdout",
     "output_type": "stream",
     "text": [
      "[CV] C=1.0, gamma=1e-06 ..............................................\n",
      "[CV] C=1.0, gamma=1e-06 ..............................................\n",
      "[CV] ............. C=0.1, gamma=1000.0, score=0.450214, total=197.4min\n",
      "[CV] C=1.0, gamma=1e-06 ..............................................\n",
      "[CV] ............... C=1.0, gamma=1e-07, score=0.974839, total=17.2min\n",
      "[CV] C=1.0, gamma=1e-06 ..............................................\n",
      "[CV] ............... C=1.0, gamma=1e-08, score=0.821734, total=54.5min\n",
      "[CV] C=1.0, gamma=1e-06 ..............................................\n",
      "[CV] .............. C=0.1, gamma=100.0, score=0.449143, total=220.8min\n",
      "[CV] C=1.0, gamma=1e-05 ..............................................\n",
      "[CV] ............... C=1.0, gamma=1e-07, score=0.966809, total=19.5min\n",
      "[CV] C=1.0, gamma=1e-05 ..............................................\n",
      "[CV] ............... C=1.0, gamma=1e-08, score=0.820664, total=54.4min\n",
      "[CV] C=1.0, gamma=1e-05 ..............................................\n",
      "[CV] ............... C=1.0, gamma=1e-08, score=0.821199, total=59.1min\n",
      "[CV] C=1.0, gamma=1e-05 ..............................................\n",
      "[CV] ............. C=0.1, gamma=1000.0, score=0.449143, total=198.9min\n",
      "[CV] C=1.0, gamma=1e-05 ..............................................\n",
      "[CV] ............... C=1.0, gamma=1e-06, score=0.987152, total=17.6min\n",
      "[CV] C=1.0, gamma=0.0001 .............................................\n",
      "[CV] ............... C=1.0, gamma=1e-06, score=0.987152, total=17.9min\n",
      "[CV] C=1.0, gamma=0.0001 .............................................\n",
      "[CV] ............... C=1.0, gamma=1e-06, score=0.991970, total=17.2min\n",
      "[CV] C=1.0, gamma=0.0001 .............................................\n",
      "[CV] ............... C=1.0, gamma=1e-06, score=0.987152, total=16.0min\n",
      "[CV] C=1.0, gamma=0.0001 .............................................\n",
      "[CV] ............... C=1.0, gamma=1e-08, score=0.821734, total=54.2min\n",
      "[CV] C=1.0, gamma=0.0001 .............................................\n",
      "[CV] ............... C=1.0, gamma=1e-06, score=0.987152, total=16.2min\n",
      "[CV] C=1.0, gamma=0.001 ..............................................\n",
      "[CV] ............... C=1.0, gamma=1e-07, score=0.967880, total=22.1min\n",
      "[CV] C=1.0, gamma=0.001 ..............................................\n",
      "[CV] ............. C=0.1, gamma=1000.0, score=0.444325, total=219.6min\n",
      "[CV] C=1.0, gamma=0.001 ..............................................\n",
      "[CV] ............... C=1.0, gamma=1e-08, score=0.823876, total=66.2min\n",
      "[CV] C=1.0, gamma=0.001 ..............................................\n",
      "[CV] ............. C=0.1, gamma=1000.0, score=0.449143, total=229.4min\n",
      "[CV] C=1.0, gamma=0.001 ..............................................\n",
      "[CV] ............... C=1.0, gamma=1e-05, score=0.926660, total=69.3min\n",
      "[CV] C=1.0, gamma=0.01 ...............................................\n"
     ]
    },
    {
     "name": "stderr",
     "output_type": "stream",
     "text": [
      "[Parallel(n_jobs=15)]: Done 151 tasks      | elapsed: 1849.3min\n"
     ]
    },
    {
     "name": "stdout",
     "output_type": "stream",
     "text": [
      "[CV] ............... C=1.0, gamma=1e-05, score=0.928266, total=68.7min\n",
      "[CV] C=1.0, gamma=0.01 ...............................................\n",
      "[CV] ............... C=1.0, gamma=1e-05, score=0.933619, total=69.6min\n",
      "[CV] C=1.0, gamma=0.01 ...............................................\n",
      "[CV] ............... C=1.0, gamma=1e-05, score=0.929336, total=69.9min\n",
      "[CV] C=1.0, gamma=0.01 ...............................................\n",
      "[CV] ............... C=1.0, gamma=1e-05, score=0.930407, total=69.4min\n",
      "[CV] C=1.0, gamma=0.01 ...............................................\n",
      "[CV] .............. C=1.0, gamma=0.001, score=0.502141, total=236.3min\n",
      "[CV] C=1.0, gamma=0.1 ................................................\n",
      "[CV] .............. C=1.0, gamma=0.001, score=0.498929, total=236.8min\n",
      "[CV] C=1.0, gamma=0.1 ................................................\n",
      "[CV] ............. C=1.0, gamma=0.0001, score=0.594754, total=261.8min\n",
      "[CV] C=1.0, gamma=0.1 ................................................\n",
      "[CV] ............. C=1.0, gamma=0.0001, score=0.586188, total=253.3min\n",
      "[CV] C=1.0, gamma=0.1 ................................................\n",
      "[CV] ............. C=1.0, gamma=0.0001, score=0.594218, total=261.3min\n",
      "[CV] C=1.0, gamma=0.1 ................................................\n",
      "[CV] .............. C=1.0, gamma=0.001, score=0.500535, total=237.0min\n",
      "[CV] C=1.0, gamma=1.0 ................................................\n",
      "[CV] ............. C=1.0, gamma=0.0001, score=0.597430, total=262.5min\n",
      "[CV] C=1.0, gamma=1.0 ................................................\n",
      "[CV] ............. C=1.0, gamma=0.0001, score=0.593683, total=263.1min\n",
      "[CV] C=1.0, gamma=1.0 ................................................\n",
      "[CV] .............. C=1.0, gamma=0.001, score=0.501606, total=239.3min\n",
      "[CV] C=1.0, gamma=1.0 ................................................\n",
      "[CV] .............. C=1.0, gamma=0.001, score=0.500000, total=269.6min\n",
      "[CV] C=1.0, gamma=1.0 ................................................\n",
      "[CV] ............... C=1.0, gamma=0.01, score=0.480728, total=247.4min\n",
      "[CV] C=1.0, gamma=10.0 ...............................................\n",
      "[CV] ............... C=1.0, gamma=0.01, score=0.481799, total=242.1min\n",
      "[CV] C=1.0, gamma=10.0 ...............................................\n",
      "[CV] ............... C=1.0, gamma=0.01, score=0.478587, total=242.8min\n",
      "[CV] C=1.0, gamma=10.0 ...............................................\n",
      "[CV] ............... C=1.0, gamma=0.01, score=0.483405, total=258.3min\n",
      "[CV] C=1.0, gamma=10.0 ...............................................\n",
      "[CV] ............... C=1.0, gamma=0.01, score=0.482869, total=258.7min\n",
      "[CV] C=1.0, gamma=10.0 ...............................................\n"
     ]
    },
    {
     "name": "stderr",
     "output_type": "stream",
     "text": [
      "[Parallel(n_jobs=15)]: Done 170 tasks      | elapsed: 2183.9min\n"
     ]
    },
    {
     "name": "stdout",
     "output_type": "stream",
     "text": [
      "[CV] ................ C=1.0, gamma=0.1, score=0.476981, total=252.2min\n",
      "[CV] C=1.0, gamma=100.0 ..............................................\n",
      "[CV] ................ C=1.0, gamma=0.1, score=0.476445, total=256.4min\n",
      "[CV] ................ C=1.0, gamma=0.1, score=0.476981, total=252.8min\n",
      "[CV] C=1.0, gamma=100.0 ..............................................\n",
      "[CV] C=1.0, gamma=100.0 ..............................................\n",
      "[CV] ................ C=1.0, gamma=0.1, score=0.473769, total=253.7min\n",
      "[CV] C=1.0, gamma=100.0 ..............................................\n",
      "[CV] ................ C=1.0, gamma=1.0, score=0.476445, total=250.8min\n",
      "[CV] C=1.0, gamma=100.0 ..............................................\n",
      "[CV] ................ C=1.0, gamma=0.1, score=0.476981, total=255.0min\n",
      "[CV] C=1.0, gamma=1000.0 .............................................\n",
      "[CV] ................ C=1.0, gamma=1.0, score=0.476445, total=254.2min\n",
      "[CV] C=1.0, gamma=1000.0 .............................................\n",
      "[CV] ................ C=1.0, gamma=1.0, score=0.476445, total=250.3min\n",
      "[CV] C=1.0, gamma=1000.0 .............................................\n",
      "[CV] ................ C=1.0, gamma=1.0, score=0.473233, total=252.2min\n",
      "[CV] C=1.0, gamma=1000.0 .............................................\n",
      "[CV] ................ C=1.0, gamma=1.0, score=0.476445, total=261.2min\n",
      "[CV] C=1.0, gamma=1000.0 .............................................\n",
      "[CV] ............... C=1.0, gamma=10.0, score=0.476445, total=252.2min\n",
      "[CV] C=10.0, gamma=1e-09 .............................................\n",
      "[CV] ............... C=1.0, gamma=10.0, score=0.475910, total=252.2min\n",
      "[CV] ............... C=1.0, gamma=10.0, score=0.476445, total=253.3min\n",
      "[CV] C=10.0, gamma=1e-09 .............................................\n",
      "[CV] C=10.0, gamma=1e-09 .............................................\n",
      "[CV] ............... C=1.0, gamma=10.0, score=0.473233, total=250.0min\n",
      "[CV] C=10.0, gamma=1e-09 .............................................\n",
      "[CV] ............... C=1.0, gamma=10.0, score=0.476445, total=248.0min\n",
      "[CV] C=10.0, gamma=1e-09 .............................................\n",
      "[CV] .............. C=10.0, gamma=1e-09, score=0.823876, total=63.7min\n",
      "[CV] C=10.0, gamma=1e-08 .............................................\n",
      "[CV] .............. C=10.0, gamma=1e-09, score=0.822270, total=63.5min\n",
      "[CV] C=10.0, gamma=1e-08 .............................................\n",
      "[CV] .............. C=10.0, gamma=1e-09, score=0.823876, total=63.8min\n",
      "[CV] C=10.0, gamma=1e-08 .............................................\n",
      "[CV] .............. C=10.0, gamma=1e-09, score=0.823876, total=64.4min\n",
      "[CV] C=10.0, gamma=1e-08 .............................................\n",
      "[CV] .............. C=10.0, gamma=1e-09, score=0.824411, total=66.6min\n",
      "[CV] C=10.0, gamma=1e-08 .............................................\n",
      "[CV] .............. C=10.0, gamma=1e-08, score=0.972163, total=23.5min\n",
      "[CV] C=10.0, gamma=1e-07 .............................................\n"
     ]
    },
    {
     "name": "stderr",
     "output_type": "stream",
     "text": [
      "[Parallel(n_jobs=15)]: Done 191 tasks      | elapsed: 2618.2min\n"
     ]
    },
    {
     "name": "stdout",
     "output_type": "stream",
     "text": [
      "[CV] .............. C=10.0, gamma=1e-08, score=0.972698, total=20.1min\n",
      "[CV] C=10.0, gamma=1e-07 .............................................\n",
      "[CV] .............. C=10.0, gamma=1e-08, score=0.973233, total=20.0min\n",
      "[CV] C=10.0, gamma=1e-07 .............................................\n",
      "[CV] .............. C=10.0, gamma=1e-08, score=0.967345, total=20.2min\n",
      "[CV] C=10.0, gamma=1e-07 .............................................\n",
      "[CV] .............. C=10.0, gamma=1e-08, score=0.967345, total=17.8min\n",
      "[CV] C=10.0, gamma=1e-07 .............................................\n",
      "[CV] .............. C=10.0, gamma=1e-07, score=0.988223, total=11.4min\n",
      "[CV] C=10.0, gamma=1e-06 .............................................\n",
      "[CV] .............. C=10.0, gamma=1e-07, score=0.988223, total=11.3min\n",
      "[CV] C=10.0, gamma=1e-06 .............................................\n",
      "[CV] .............. C=10.0, gamma=1e-07, score=0.990899, total=11.4min\n",
      "[CV] C=10.0, gamma=1e-06 .............................................\n",
      "[CV] .............. C=10.0, gamma=1e-07, score=0.987152, total=13.1min\n",
      "[CV] C=10.0, gamma=1e-06 .............................................\n",
      "[CV] .............. C=10.0, gamma=1e-07, score=0.987687, total=10.5min\n",
      "[CV] C=10.0, gamma=1e-06 .............................................\n",
      "[CV] .............. C=10.0, gamma=1e-06, score=0.987152, total=14.2min\n",
      "[CV] C=10.0, gamma=1e-05 .............................................\n",
      "[CV] .............. C=10.0, gamma=1e-06, score=0.989829, total=14.0min\n",
      "[CV] C=10.0, gamma=1e-05 .............................................\n",
      "[CV] .............. C=10.0, gamma=1e-06, score=0.990899, total=14.1min\n",
      "[CV] C=10.0, gamma=1e-05 .............................................\n",
      "[CV] .............. C=10.0, gamma=1e-06, score=0.989829, total=14.7min\n",
      "[CV] C=10.0, gamma=1e-05 .............................................\n",
      "[CV] .............. C=10.0, gamma=1e-06, score=0.988758, total=15.3min\n",
      "[CV] C=10.0, gamma=1e-05 .............................................\n",
      "[CV] .............. C=1.0, gamma=100.0, score=0.475910, total=251.7min\n",
      "[CV] C=10.0, gamma=0.0001 ............................................\n",
      "[CV] ............. C=1.0, gamma=1000.0, score=0.475910, total=245.9min\n",
      "[CV] .............. C=1.0, gamma=100.0, score=0.473233, total=248.5min\n",
      "[CV] C=10.0, gamma=0.0001 ............................................\n",
      "[CV] C=10.0, gamma=0.0001 ............................................\n",
      "[CV] ............. C=1.0, gamma=1000.0, score=0.475375, total=246.4min\n",
      "[CV] C=10.0, gamma=0.0001 ............................................\n",
      "[CV] .............. C=1.0, gamma=100.0, score=0.475375, total=253.2min\n",
      "[CV] C=10.0, gamma=0.0001 ............................................\n",
      "[CV] .............. C=1.0, gamma=100.0, score=0.476445, total=259.6min\n",
      "[CV] C=10.0, gamma=0.001 .............................................\n",
      "[CV] .............. C=1.0, gamma=100.0, score=0.476445, total=259.2min\n"
     ]
    },
    {
     "name": "stderr",
     "output_type": "stream",
     "text": [
      "[Parallel(n_jobs=15)]: Done 212 tasks      | elapsed: 2711.2min\n"
     ]
    },
    {
     "name": "stdout",
     "output_type": "stream",
     "text": [
      "[CV] C=10.0, gamma=0.001 .............................................\n",
      "[CV] ............. C=1.0, gamma=1000.0, score=0.473233, total=259.1min\n",
      "[CV] C=10.0, gamma=0.001 .............................................\n",
      "[CV] ............. C=1.0, gamma=1000.0, score=0.476445, total=262.3min\n",
      "[CV] C=10.0, gamma=0.001 .............................................\n",
      "[CV] ............. C=1.0, gamma=1000.0, score=0.476445, total=248.7min\n",
      "[CV] C=10.0, gamma=0.001 .............................................\n",
      "[CV] .............. C=10.0, gamma=1e-05, score=0.930407, total=62.4min\n",
      "[CV] C=10.0, gamma=0.01 ..............................................\n",
      "[CV] .............. C=10.0, gamma=1e-05, score=0.929336, total=62.8min\n",
      "[CV] C=10.0, gamma=0.01 ..............................................\n",
      "[CV] .............. C=10.0, gamma=1e-05, score=0.934690, total=62.7min\n",
      "[CV] C=10.0, gamma=0.01 ..............................................\n",
      "[CV] .............. C=10.0, gamma=1e-05, score=0.931478, total=72.6min\n",
      "[CV] C=10.0, gamma=0.01 ..............................................\n",
      "[CV] .............. C=10.0, gamma=1e-05, score=0.931478, total=71.7min\n",
      "[CV] C=10.0, gamma=0.01 ..............................................\n",
      "[CV] ............ C=10.0, gamma=0.0001, score=0.603854, total=231.3min\n",
      "[CV] C=10.0, gamma=0.1 ...............................................\n",
      "[CV] ............. C=10.0, gamma=0.001, score=0.501606, total=228.7min\n",
      "[CV] C=10.0, gamma=0.1 ...............................................\n",
      "[CV] ............ C=10.0, gamma=0.0001, score=0.600642, total=237.0min\n",
      "[CV] C=10.0, gamma=0.1 ...............................................\n",
      "[CV] ............ C=10.0, gamma=0.0001, score=0.602784, total=236.8min\n",
      "[CV] C=10.0, gamma=0.1 ...............................................\n",
      "[CV] ............ C=10.0, gamma=0.0001, score=0.602248, total=239.7min\n",
      "[CV] C=10.0, gamma=0.1 ...............................................\n",
      "[CV] ............. C=10.0, gamma=0.001, score=0.505889, total=236.4min\n",
      "[CV] C=10.0, gamma=1.0 ...............................................\n",
      "[CV] ............ C=10.0, gamma=0.0001, score=0.594754, total=241.2min\n",
      "[CV] C=10.0, gamma=1.0 ...............................................\n",
      "[CV] ............. C=10.0, gamma=0.001, score=0.503747, total=228.0min\n",
      "[CV] C=10.0, gamma=1.0 ...............................................\n",
      "[CV] ............. C=10.0, gamma=0.001, score=0.503212, total=240.6min\n",
      "[CV] C=10.0, gamma=1.0 ...............................................\n",
      "[CV] ............. C=10.0, gamma=0.001, score=0.503212, total=240.7min\n",
      "[CV] C=10.0, gamma=1.0 ...............................................\n",
      "[CV] .............. C=10.0, gamma=0.01, score=0.481799, total=236.7min\n",
      "[CV] C=10.0, gamma=10.0 ..............................................\n",
      "[CV] .............. C=10.0, gamma=0.01, score=0.486081, total=237.4min\n",
      "[CV] C=10.0, gamma=10.0 ..............................................\n",
      "[CV] .............. C=10.0, gamma=0.01, score=0.484475, total=236.7min\n",
      "[CV] C=10.0, gamma=10.0 ..............................................\n",
      "[CV] .............. C=10.0, gamma=0.01, score=0.479122, total=243.3min\n",
      "[CV] C=10.0, gamma=10.0 ..............................................\n",
      "[CV] .............. C=10.0, gamma=0.01, score=0.483940, total=243.9min\n",
      "[CV] C=10.0, gamma=10.0 ..............................................\n"
     ]
    },
    {
     "name": "stderr",
     "output_type": "stream",
     "text": [
      "[Parallel(n_jobs=15)]: Done 235 tasks      | elapsed: 3079.3min\n"
     ]
    },
    {
     "name": "stdout",
     "output_type": "stream",
     "text": [
      "[CV] ............... C=10.0, gamma=0.1, score=0.476981, total=258.0min\n",
      "[CV] C=10.0, gamma=100.0 .............................................\n",
      "[CV] ............... C=10.0, gamma=0.1, score=0.473769, total=259.0min\n",
      "[CV] C=10.0, gamma=100.0 .............................................\n",
      "[CV] ............... C=10.0, gamma=0.1, score=0.476981, total=261.5min\n",
      "[CV] C=10.0, gamma=100.0 .............................................\n",
      "[CV] ............... C=10.0, gamma=1.0, score=0.476445, total=254.8min\n",
      "[CV] C=10.0, gamma=100.0 .............................................\n",
      "[CV] ............... C=10.0, gamma=0.1, score=0.477516, total=259.8min\n",
      "[CV] C=10.0, gamma=100.0 .............................................\n",
      "[CV] ............... C=10.0, gamma=0.1, score=0.476981, total=263.9min\n",
      "[CV] C=10.0, gamma=1000.0 ............................................\n",
      "[CV] ............... C=10.0, gamma=1.0, score=0.476445, total=260.0min\n",
      "[CV] C=10.0, gamma=1000.0 ............................................\n",
      "[CV] ............... C=10.0, gamma=1.0, score=0.476981, total=257.1min\n",
      "[CV] C=10.0, gamma=1000.0 ............................................\n",
      "[CV] ............... C=10.0, gamma=1.0, score=0.473233, total=260.3min\n",
      "[CV] C=10.0, gamma=1000.0 ............................................\n",
      "[CV] ............... C=10.0, gamma=1.0, score=0.476981, total=258.8min\n",
      "[CV] C=10.0, gamma=1000.0 ............................................\n",
      "[CV] .............. C=10.0, gamma=10.0, score=0.476445, total=250.4min\n",
      "[CV] C=100.0, gamma=1e-09 ............................................\n",
      "[CV] .............. C=10.0, gamma=10.0, score=0.476445, total=251.3min\n",
      "[CV] C=100.0, gamma=1e-09 ............................................\n",
      "[CV] .............. C=10.0, gamma=10.0, score=0.476445, total=250.3min\n",
      "[CV] C=100.0, gamma=1e-09 ............................................\n",
      "[CV] .............. C=10.0, gamma=10.0, score=0.473233, total=254.6min\n",
      "[CV] C=100.0, gamma=1e-09 ............................................\n",
      "[CV] .............. C=10.0, gamma=10.0, score=0.476445, total=254.8min\n",
      "[CV] C=100.0, gamma=1e-09 ............................................\n",
      "[CV] ............. C=100.0, gamma=1e-09, score=0.971627, total=14.9min\n",
      "[CV] C=100.0, gamma=1e-08 ............................................\n",
      "[CV] ............. C=100.0, gamma=1e-09, score=0.972698, total=15.8min\n",
      "[CV] C=100.0, gamma=1e-08 ............................................\n",
      "[CV] ............. C=100.0, gamma=1e-09, score=0.973233, total=15.1min\n",
      "[CV] C=100.0, gamma=1e-08 ............................................\n",
      "[CV] ............. C=100.0, gamma=1e-08, score=0.988223, total= 8.1min\n",
      "[CV] C=100.0, gamma=1e-08 ............................................\n",
      "[CV] ............. C=100.0, gamma=1e-08, score=0.987687, total= 8.1min\n",
      "[CV] C=100.0, gamma=1e-08 ............................................\n",
      "[CV] ............. C=100.0, gamma=1e-08, score=0.990364, total= 9.0min\n",
      "[CV] C=100.0, gamma=1e-07 ............................................\n",
      "[CV] ............. C=100.0, gamma=1e-09, score=0.967345, total=15.4min\n",
      "[CV] C=100.0, gamma=1e-07 ............................................\n",
      "[CV] ............. C=100.0, gamma=1e-09, score=0.967345, total=15.3min\n",
      "[CV] C=100.0, gamma=1e-07 ............................................\n"
     ]
    },
    {
     "name": "stderr",
     "output_type": "stream",
     "text": [
      "[Parallel(n_jobs=15)]: Done 258 tasks      | elapsed: 3409.9min\n"
     ]
    },
    {
     "name": "stdout",
     "output_type": "stream",
     "text": [
      "[CV] ............. C=100.0, gamma=1e-08, score=0.987687, total= 8.2min\n",
      "[CV] C=100.0, gamma=1e-07 ............................................\n",
      "[CV] ............. C=100.0, gamma=1e-08, score=0.987687, total= 9.5min\n",
      "[CV] C=100.0, gamma=1e-07 ............................................\n",
      "[CV] ............. C=100.0, gamma=1e-07, score=0.988758, total= 8.0min\n",
      "[CV] C=100.0, gamma=1e-06 ............................................\n",
      "[CV] ............. C=100.0, gamma=1e-07, score=0.987687, total= 7.6min\n",
      "[CV] C=100.0, gamma=1e-06 ............................................\n",
      "[CV] ............. C=100.0, gamma=1e-07, score=0.989829, total= 7.8min\n",
      "[CV] C=100.0, gamma=1e-06 ............................................\n",
      "[CV] ............. C=100.0, gamma=1e-07, score=0.989293, total= 8.2min\n",
      "[CV] C=100.0, gamma=1e-06 ............................................\n",
      "[CV] ............. C=100.0, gamma=1e-07, score=0.987152, total= 8.0min\n",
      "[CV] C=100.0, gamma=1e-06 ............................................\n",
      "[CV] ............. C=100.0, gamma=1e-06, score=0.987152, total=11.6min\n",
      "[CV] C=100.0, gamma=1e-05 ............................................\n",
      "[CV] ............. C=100.0, gamma=1e-06, score=0.989829, total=13.5min\n",
      "[CV] C=100.0, gamma=1e-05 ............................................\n",
      "[CV] ............. C=100.0, gamma=1e-06, score=0.990899, total=13.7min\n",
      "[CV] C=100.0, gamma=1e-05 ............................................\n",
      "[CV] ............. C=100.0, gamma=1e-06, score=0.989829, total=11.8min\n",
      "[CV] C=100.0, gamma=1e-05 ............................................\n",
      "[CV] ............. C=100.0, gamma=1e-06, score=0.988758, total=14.4min\n",
      "[CV] C=100.0, gamma=1e-05 ............................................\n",
      "[CV] ............. C=100.0, gamma=1e-05, score=0.929336, total=54.7min\n",
      "[CV] C=100.0, gamma=0.0001 ...........................................\n",
      "[CV] ............. C=100.0, gamma=1e-05, score=0.930407, total=51.3min\n",
      "[CV] C=100.0, gamma=0.0001 ...........................................\n",
      "[CV] ............. C=100.0, gamma=1e-05, score=0.931478, total=53.3min\n",
      "[CV] C=100.0, gamma=0.0001 ...........................................\n",
      "[CV] ............. C=100.0, gamma=1e-05, score=0.931478, total=54.2min\n",
      "[CV] C=100.0, gamma=0.0001 ...........................................\n",
      "[CV] ............. C=100.0, gamma=1e-05, score=0.934690, total=59.4min\n",
      "[CV] C=100.0, gamma=0.0001 ...........................................\n",
      "[CV] ............. C=10.0, gamma=100.0, score=0.473233, total=197.0min\n",
      "[CV] C=100.0, gamma=0.001 ............................................\n",
      "[CV] ............. C=10.0, gamma=100.0, score=0.476445, total=198.4min\n",
      "[CV] C=100.0, gamma=0.001 ............................................\n",
      "[CV] ............. C=10.0, gamma=100.0, score=0.475910, total=200.1min\n",
      "[CV] C=100.0, gamma=0.001 ............................................\n",
      "[CV] ............. C=10.0, gamma=100.0, score=0.476445, total=204.2min\n",
      "[CV] C=100.0, gamma=0.001 ............................................\n",
      "[CV] ............ C=10.0, gamma=1000.0, score=0.475375, total=199.4min\n",
      "[CV] C=100.0, gamma=0.001 ............................................\n",
      "[CV] ............ C=10.0, gamma=1000.0, score=0.475910, total=201.8min\n",
      "[CV] C=100.0, gamma=0.01 .............................................\n",
      "[CV] ............. C=10.0, gamma=100.0, score=0.476445, total=207.6min\n",
      "[CV] C=100.0, gamma=0.01 .............................................\n",
      "[CV] ............ C=10.0, gamma=1000.0, score=0.476445, total=205.7min\n",
      "[CV] C=100.0, gamma=0.01 .............................................\n"
     ]
    },
    {
     "name": "stderr",
     "output_type": "stream",
     "text": [
      "[Parallel(n_jobs=15)]: Done 283 tasks      | elapsed: 3556.2min\n"
     ]
    },
    {
     "name": "stdout",
     "output_type": "stream",
     "text": [
      "[CV] ............ C=10.0, gamma=1000.0, score=0.473233, total=202.5min\n",
      "[CV] C=100.0, gamma=0.01 .............................................\n",
      "[CV] ............ C=10.0, gamma=1000.0, score=0.476445, total=201.4min\n",
      "[CV] C=100.0, gamma=0.01 .............................................\n",
      "[CV] ........... C=100.0, gamma=0.0001, score=0.594754, total=192.3min\n",
      "[CV] C=100.0, gamma=0.1 ..............................................\n",
      "[CV] ........... C=100.0, gamma=0.0001, score=0.600642, total=200.3min\n",
      "[CV] C=100.0, gamma=0.1 ..............................................\n",
      "[CV] ........... C=100.0, gamma=0.0001, score=0.602248, total=193.7min\n",
      "[CV] C=100.0, gamma=0.1 ..............................................\n",
      "[CV] ............ C=100.0, gamma=0.001, score=0.505889, total=187.8min\n",
      "[CV] C=100.0, gamma=0.1 ..............................................\n",
      "[CV] ........... C=100.0, gamma=0.0001, score=0.602784, total=201.2min\n",
      "[CV] C=100.0, gamma=0.1 ..............................................\n",
      "[CV] ............ C=100.0, gamma=0.001, score=0.501606, total=190.8min\n",
      "[CV] C=100.0, gamma=1.0 ..............................................\n",
      "[CV] ............. C=100.0, gamma=0.01, score=0.481799, total=193.8min\n",
      "[CV] C=100.0, gamma=1.0 ..............................................\n",
      "[CV] ........... C=100.0, gamma=0.0001, score=0.603854, total=203.4min\n",
      "[CV] C=100.0, gamma=1.0 ..............................................\n",
      "[CV] ............ C=100.0, gamma=0.001, score=0.503747, total=201.2min\n",
      "[CV] C=100.0, gamma=1.0 ..............................................\n",
      "[CV] ............. C=100.0, gamma=0.01, score=0.484475, total=199.1min\n",
      "[CV] C=100.0, gamma=1.0 ..............................................\n",
      "[CV] ............ C=100.0, gamma=0.001, score=0.503212, total=205.1min\n",
      "[CV] C=100.0, gamma=10.0 .............................................\n",
      "[CV] ............ C=100.0, gamma=0.001, score=0.503212, total=200.8min\n",
      "[CV] C=100.0, gamma=10.0 .............................................\n",
      "[CV] ............. C=100.0, gamma=0.01, score=0.486081, total=205.1min\n",
      "[CV] C=100.0, gamma=10.0 .............................................\n",
      "[CV] ............. C=100.0, gamma=0.01, score=0.479122, total=195.6min\n",
      "[CV] C=100.0, gamma=10.0 .............................................\n",
      "[CV] ............. C=100.0, gamma=0.01, score=0.483940, total=197.7min\n",
      "[CV] C=100.0, gamma=10.0 .............................................\n",
      "[CV] .............. C=100.0, gamma=0.1, score=0.476981, total=199.8min\n",
      "[CV] C=100.0, gamma=100.0 ............................................\n",
      "[CV] .............. C=100.0, gamma=0.1, score=0.476981, total=207.1min\n",
      "[CV] C=100.0, gamma=100.0 ............................................\n",
      "[CV] .............. C=100.0, gamma=0.1, score=0.476981, total=200.1min\n",
      "[CV] C=100.0, gamma=100.0 ............................................\n",
      "[CV] .............. C=100.0, gamma=0.1, score=0.473769, total=204.5min\n",
      "[CV] C=100.0, gamma=100.0 ............................................\n",
      "[CV] .............. C=100.0, gamma=1.0, score=0.476445, total=203.2min\n",
      "[CV] C=100.0, gamma=100.0 ............................................\n",
      "[CV] .............. C=100.0, gamma=0.1, score=0.477516, total=206.3min\n",
      "[CV] C=100.0, gamma=1000.0 ...........................................\n",
      "[CV] .............. C=100.0, gamma=1.0, score=0.476445, total=208.6min\n",
      "[CV] C=100.0, gamma=1000.0 ...........................................\n",
      "[CV] .............. C=100.0, gamma=1.0, score=0.473233, total=207.3min\n",
      "[CV] C=100.0, gamma=1000.0 ...........................................\n"
     ]
    },
    {
     "name": "stderr",
     "output_type": "stream",
     "text": [
      "[Parallel(n_jobs=15)]: Done 308 tasks      | elapsed: 4041.5min\n"
     ]
    },
    {
     "name": "stdout",
     "output_type": "stream",
     "text": [
      "[CV] .............. C=100.0, gamma=1.0, score=0.476981, total=210.4min\n",
      "[CV] C=100.0, gamma=1000.0 ...........................................\n",
      "[CV] .............. C=100.0, gamma=1.0, score=0.476981, total=207.6min\n",
      "[CV] C=100.0, gamma=1000.0 ...........................................\n",
      "[CV] ............. C=100.0, gamma=10.0, score=0.476445, total=207.5min\n",
      "[CV] C=1000.0, gamma=1e-09 ...........................................\n",
      "[CV] ............. C=100.0, gamma=10.0, score=0.476445, total=208.9min\n",
      "[CV] C=1000.0, gamma=1e-09 ...........................................\n",
      "[CV] ............. C=100.0, gamma=10.0, score=0.476445, total=206.4min\n",
      "[CV] C=1000.0, gamma=1e-09 ...........................................\n",
      "[CV] ............. C=100.0, gamma=10.0, score=0.473233, total=209.8min\n",
      "[CV] C=1000.0, gamma=1e-09 ...........................................\n",
      "[CV] ............ C=1000.0, gamma=1e-09, score=0.988223, total= 8.9min\n",
      "[CV] C=1000.0, gamma=1e-09 ...........................................\n",
      "[CV] ............ C=1000.0, gamma=1e-09, score=0.987687, total= 9.2min\n",
      "[CV] C=1000.0, gamma=1e-08 ...........................................\n",
      "[CV] ............ C=1000.0, gamma=1e-09, score=0.990364, total= 9.4min\n",
      "[CV] C=1000.0, gamma=1e-08 ...........................................\n",
      "[CV] ............. C=100.0, gamma=10.0, score=0.476445, total=208.6min\n",
      "[CV] C=1000.0, gamma=1e-08 ...........................................\n",
      "[CV] ............ C=1000.0, gamma=1e-09, score=0.987687, total= 8.8min\n",
      "[CV] C=1000.0, gamma=1e-08 ...........................................\n",
      "[CV] ............ C=1000.0, gamma=1e-09, score=0.987687, total= 8.9min\n",
      "[CV] C=1000.0, gamma=1e-08 ...........................................\n",
      "[CV] ............ C=1000.0, gamma=1e-08, score=0.989293, total= 8.3min\n",
      "[CV] C=1000.0, gamma=1e-07 ...........................................\n",
      "[CV] ............ C=1000.0, gamma=1e-08, score=0.987687, total= 8.4min\n",
      "[CV] C=1000.0, gamma=1e-07 ...........................................\n",
      "[CV] ............ C=1000.0, gamma=1e-08, score=0.989293, total= 8.8min\n",
      "[CV] C=1000.0, gamma=1e-07 ...........................................\n",
      "[CV] ............ C=1000.0, gamma=1e-08, score=0.989293, total= 8.8min\n",
      "[CV] C=1000.0, gamma=1e-07 ...........................................\n",
      "[CV] ............ C=1000.0, gamma=1e-08, score=0.987152, total= 8.4min\n",
      "[CV] C=1000.0, gamma=1e-07 ...........................................\n",
      "[CV] ............ C=1000.0, gamma=1e-07, score=0.988758, total= 8.9min\n",
      "[CV] C=1000.0, gamma=1e-06 ...........................................\n",
      "[CV] ............ C=1000.0, gamma=1e-07, score=0.987687, total= 8.9min\n",
      "[CV] C=1000.0, gamma=1e-06 ...........................................\n",
      "[CV] ............ C=1000.0, gamma=1e-07, score=0.989829, total= 9.3min\n",
      "[CV] C=1000.0, gamma=1e-06 ...........................................\n",
      "[CV] ............ C=1000.0, gamma=1e-07, score=0.989293, total= 8.6min\n",
      "[CV] C=1000.0, gamma=1e-06 ...........................................\n",
      "[CV] ............ C=1000.0, gamma=1e-07, score=0.987152, total= 8.7min\n",
      "[CV] C=1000.0, gamma=1e-06 ...........................................\n",
      "[CV] ............ C=1000.0, gamma=1e-06, score=0.987152, total=12.7min\n",
      "[CV] C=1000.0, gamma=1e-05 ...........................................\n",
      "[CV] ............ C=1000.0, gamma=1e-06, score=0.989829, total=12.9min\n",
      "[CV] C=1000.0, gamma=1e-05 ...........................................\n",
      "[CV] ............ C=1000.0, gamma=1e-06, score=0.990899, total=13.2min\n",
      "[CV] C=1000.0, gamma=1e-05 ...........................................\n",
      "[CV] ............ C=1000.0, gamma=1e-06, score=0.989829, total=12.8min\n",
      "[CV] C=1000.0, gamma=1e-05 ...........................................\n",
      "[CV] ............ C=1000.0, gamma=1e-06, score=0.988758, total=13.0min\n",
      "[CV] C=1000.0, gamma=1e-05 ...........................................\n"
     ]
    },
    {
     "name": "stderr",
     "output_type": "stream",
     "text": [
      "[Parallel(n_jobs=15)]: Done 335 tasks      | elapsed: 4159.3min\n"
     ]
    },
    {
     "name": "stdout",
     "output_type": "stream",
     "text": [
      "[CV] ............ C=1000.0, gamma=1e-05, score=0.929336, total=57.4min\n",
      "[CV] C=1000.0, gamma=0.0001 ..........................................\n",
      "[CV] ............ C=1000.0, gamma=1e-05, score=0.930407, total=56.3min\n",
      "[CV] C=1000.0, gamma=0.0001 ..........................................\n",
      "[CV] ............ C=1000.0, gamma=1e-05, score=0.934690, total=56.0min\n",
      "[CV] C=1000.0, gamma=0.0001 ..........................................\n",
      "[CV] ............ C=1000.0, gamma=1e-05, score=0.931478, total=58.5min\n",
      "[CV] C=1000.0, gamma=0.0001 ..........................................\n",
      "[CV] ............ C=1000.0, gamma=1e-05, score=0.931478, total=56.7min\n",
      "[CV] C=1000.0, gamma=0.0001 ..........................................\n",
      "[CV] ............ C=100.0, gamma=100.0, score=0.476445, total=219.2min\n",
      "[CV] C=1000.0, gamma=0.001 ...........................................\n",
      "[CV] ............ C=100.0, gamma=100.0, score=0.476445, total=217.6min\n",
      "[CV] C=1000.0, gamma=0.001 ...........................................\n",
      "[CV] ............ C=100.0, gamma=100.0, score=0.475910, total=223.3min\n",
      "[CV] C=1000.0, gamma=0.001 ...........................................\n",
      "[CV] ............ C=100.0, gamma=100.0, score=0.476445, total=218.1min\n",
      "[CV] C=1000.0, gamma=0.001 ...........................................\n",
      "[CV] ............ C=100.0, gamma=100.0, score=0.473233, total=220.1min\n",
      "[CV] C=1000.0, gamma=0.001 ...........................................\n",
      "[CV] ........... C=100.0, gamma=1000.0, score=0.475910, total=218.9min\n",
      "[CV] C=1000.0, gamma=0.01 ............................................\n",
      "[CV] ........... C=100.0, gamma=1000.0, score=0.475375, total=210.1min\n",
      "[CV] C=1000.0, gamma=0.01 ............................................\n",
      "[CV] ........... C=100.0, gamma=1000.0, score=0.473233, total=216.0min\n",
      "[CV] C=1000.0, gamma=0.01 ............................................\n",
      "[CV] ........... C=100.0, gamma=1000.0, score=0.476445, total=221.8min\n",
      "[CV] C=1000.0, gamma=0.01 ............................................\n",
      "[CV] ........... C=100.0, gamma=1000.0, score=0.476445, total=220.9min\n",
      "[CV] C=1000.0, gamma=0.01 ............................................\n",
      "[CV] .......... C=1000.0, gamma=0.0001, score=0.600642, total=205.6min\n",
      "[CV] C=1000.0, gamma=0.1 .............................................\n",
      "[CV] .......... C=1000.0, gamma=0.0001, score=0.594754, total=206.1min\n",
      "[CV] C=1000.0, gamma=0.1 .............................................\n",
      "[CV] .......... C=1000.0, gamma=0.0001, score=0.602248, total=204.6min\n",
      "[CV] C=1000.0, gamma=0.1 .............................................\n",
      "[CV] .......... C=1000.0, gamma=0.0001, score=0.602784, total=203.7min\n",
      "[CV] C=1000.0, gamma=0.1 .............................................\n",
      "[CV] .......... C=1000.0, gamma=0.0001, score=0.603854, total=202.6min\n",
      "[CV] C=1000.0, gamma=0.1 .............................................\n",
      "[CV] ........... C=1000.0, gamma=0.001, score=0.503747, total=205.2min\n",
      "[CV] C=1000.0, gamma=1.0 .............................................\n",
      "[CV] ........... C=1000.0, gamma=0.001, score=0.505889, total=218.5min\n",
      "[CV] C=1000.0, gamma=1.0 .............................................\n",
      "[CV] ........... C=1000.0, gamma=0.001, score=0.501606, total=213.9min\n",
      "[CV] C=1000.0, gamma=1.0 .............................................\n",
      "[CV] ........... C=1000.0, gamma=0.001, score=0.503212, total=213.2min\n",
      "[CV] C=1000.0, gamma=1.0 .............................................\n",
      "[CV] ............ C=1000.0, gamma=0.01, score=0.479122, total=195.6min\n",
      "[CV] C=1000.0, gamma=1.0 .............................................\n",
      "[CV] ........... C=1000.0, gamma=0.001, score=0.503212, total=218.7min\n",
      "[CV] C=1000.0, gamma=10.0 ............................................\n",
      "[CV] ............ C=1000.0, gamma=0.01, score=0.481799, total=214.6min\n",
      "[CV] C=1000.0, gamma=10.0 ............................................\n"
     ]
    },
    {
     "name": "stderr",
     "output_type": "stream",
     "text": [
      "[Parallel(n_jobs=15)]: Done 362 tasks      | elapsed: 4550.3min\n"
     ]
    },
    {
     "name": "stdout",
     "output_type": "stream",
     "text": [
      "[CV] ............ C=1000.0, gamma=0.01, score=0.486081, total=219.9min\n",
      "[CV] C=1000.0, gamma=10.0 ............................................\n",
      "[CV] ............ C=1000.0, gamma=0.01, score=0.484475, total=212.9min\n",
      "[CV] C=1000.0, gamma=10.0 ............................................\n",
      "[CV] ............ C=1000.0, gamma=0.01, score=0.483940, total=228.0min\n",
      "[CV] C=1000.0, gamma=10.0 ............................................\n",
      "[CV] ............. C=1000.0, gamma=0.1, score=0.476981, total=179.7min\n",
      "[CV] C=1000.0, gamma=100.0 ...........................................\n",
      "[CV] ............. C=1000.0, gamma=0.1, score=0.476981, total=183.5min\n",
      "[CV] C=1000.0, gamma=100.0 ...........................................\n",
      "[CV] ............. C=1000.0, gamma=0.1, score=0.476981, total=183.2min\n",
      "[CV] C=1000.0, gamma=100.0 ...........................................\n",
      "[CV] ............. C=1000.0, gamma=0.1, score=0.473769, total=179.4min\n",
      "[CV] C=1000.0, gamma=100.0 ...........................................\n",
      "[CV] ............. C=1000.0, gamma=0.1, score=0.477516, total=201.0min\n",
      "[CV] C=1000.0, gamma=100.0 ...........................................\n",
      "[CV] ............. C=1000.0, gamma=1.0, score=0.476445, total=180.5min\n",
      "[CV] C=1000.0, gamma=1000.0 ..........................................\n",
      "[CV] ............. C=1000.0, gamma=1.0, score=0.476981, total=179.9min\n",
      "[CV] C=1000.0, gamma=1000.0 ..........................................\n",
      "[CV] ............. C=1000.0, gamma=1.0, score=0.476445, total=204.5min\n",
      "[CV] C=1000.0, gamma=1000.0 ..........................................\n",
      "[CV] ............. C=1000.0, gamma=1.0, score=0.476981, total=208.7min\n",
      "[CV] C=1000.0, gamma=1000.0 ..........................................\n",
      "[CV] ............ C=1000.0, gamma=10.0, score=0.476445, total=198.3min\n",
      "[CV] C=1000.0, gamma=1000.0 ..........................................\n",
      "[CV] ............. C=1000.0, gamma=1.0, score=0.473233, total=206.1min\n",
      "[CV] C=10000.0, gamma=1e-09 ..........................................\n",
      "[CV] ............ C=1000.0, gamma=10.0, score=0.476445, total=207.6min\n",
      "[CV] C=10000.0, gamma=1e-09 ..........................................\n",
      "[CV] ............ C=1000.0, gamma=10.0, score=0.476445, total=204.0min\n",
      "[CV] C=10000.0, gamma=1e-09 ..........................................\n",
      "[CV] ........... C=10000.0, gamma=1e-09, score=0.989293, total= 8.3min\n",
      "[CV] C=10000.0, gamma=1e-09 ..........................................\n",
      "[CV] ........... C=10000.0, gamma=1e-09, score=0.987687, total= 8.8min\n",
      "[CV] C=10000.0, gamma=1e-09 ..........................................\n",
      "[CV] ............ C=1000.0, gamma=10.0, score=0.473233, total=216.3min\n",
      "[CV] C=10000.0, gamma=1e-08 ..........................................\n",
      "[CV] ........... C=10000.0, gamma=1e-09, score=0.989293, total= 8.2min\n",
      "[CV] C=10000.0, gamma=1e-08 ..........................................\n",
      "[CV] ........... C=10000.0, gamma=1e-09, score=0.989293, total= 7.7min\n",
      "[CV] C=10000.0, gamma=1e-08 ..........................................\n",
      "[CV] ........... C=10000.0, gamma=1e-09, score=0.987152, total= 7.6min\n",
      "[CV] C=10000.0, gamma=1e-08 ..........................................\n",
      "[CV] ........... C=10000.0, gamma=1e-08, score=0.987687, total= 7.6min\n",
      "[CV] C=10000.0, gamma=1e-08 ..........................................\n",
      "[CV] ............ C=1000.0, gamma=10.0, score=0.476445, total=214.0min\n",
      "[CV] C=10000.0, gamma=1e-07 ..........................................\n",
      "[CV] ........... C=10000.0, gamma=1e-08, score=0.989293, total= 8.9min\n",
      "[CV] C=10000.0, gamma=1e-07 ..........................................\n",
      "[CV] ........... C=10000.0, gamma=1e-08, score=0.989293, total= 8.2min\n",
      "[CV] C=10000.0, gamma=1e-07 ..........................................\n",
      "[CV] ........... C=10000.0, gamma=1e-08, score=0.989293, total= 7.7min\n",
      "[CV] C=10000.0, gamma=1e-07 ..........................................\n",
      "[CV] ........... C=10000.0, gamma=1e-08, score=0.987152, total= 7.5min\n",
      "[CV] C=10000.0, gamma=1e-07 ..........................................\n",
      "[CV] ........... C=10000.0, gamma=1e-07, score=0.987687, total= 8.7min\n",
      "[CV] C=10000.0, gamma=1e-06 ..........................................\n"
     ]
    },
    {
     "name": "stderr",
     "output_type": "stream",
     "text": [
      "[Parallel(n_jobs=15)]: Done 391 tasks      | elapsed: 4867.1min\n"
     ]
    },
    {
     "name": "stdout",
     "output_type": "stream",
     "text": [
      "[CV] ........... C=10000.0, gamma=1e-07, score=0.988758, total= 9.8min\n",
      "[CV] C=10000.0, gamma=1e-06 ..........................................\n",
      "[CV] ........... C=10000.0, gamma=1e-07, score=0.989829, total= 8.8min\n",
      "[CV] C=10000.0, gamma=1e-06 ..........................................\n",
      "[CV] ........... C=10000.0, gamma=1e-07, score=0.989293, total= 8.6min\n",
      "[CV] C=10000.0, gamma=1e-06 ..........................................\n",
      "[CV] ........... C=10000.0, gamma=1e-07, score=0.987152, total= 8.0min\n",
      "[CV] C=10000.0, gamma=1e-06 ..........................................\n",
      "[CV] ........... C=1000.0, gamma=100.0, score=0.476445, total=177.6min\n",
      "[CV] C=10000.0, gamma=1e-05 ..........................................\n",
      "[CV] ........... C=10000.0, gamma=1e-06, score=0.987152, total=13.9min\n",
      "[CV] C=10000.0, gamma=1e-05 ..........................................\n",
      "[CV] ........... C=10000.0, gamma=1e-06, score=0.989829, total=12.7min\n",
      "[CV] C=10000.0, gamma=1e-05 ..........................................\n",
      "[CV] ........... C=10000.0, gamma=1e-06, score=0.990899, total=12.6min\n",
      "[CV] C=10000.0, gamma=1e-05 ..........................................\n",
      "[CV] ........... C=10000.0, gamma=1e-06, score=0.989829, total=11.9min\n",
      "[CV] C=10000.0, gamma=1e-05 ..........................................\n",
      "[CV] ........... C=10000.0, gamma=1e-06, score=0.988758, total=12.3min\n",
      "[CV] C=10000.0, gamma=0.0001 .........................................\n",
      "[CV] ........... C=1000.0, gamma=100.0, score=0.475910, total=179.5min\n",
      "[CV] C=10000.0, gamma=0.0001 .........................................\n",
      "[CV] ........... C=1000.0, gamma=100.0, score=0.476445, total=188.6min\n",
      "[CV] C=10000.0, gamma=0.0001 .........................................\n",
      "[CV] ........... C=1000.0, gamma=100.0, score=0.473233, total=189.8min\n",
      "[CV] C=10000.0, gamma=0.0001 .........................................\n",
      "[CV] ........... C=1000.0, gamma=100.0, score=0.476445, total=183.3min\n",
      "[CV] C=10000.0, gamma=0.0001 .........................................\n",
      "[CV] .......... C=1000.0, gamma=1000.0, score=0.475910, total=180.3min\n",
      "[CV] C=10000.0, gamma=0.001 ..........................................\n",
      "[CV] ........... C=10000.0, gamma=1e-05, score=0.929336, total=47.4min\n",
      "[CV] C=10000.0, gamma=0.001 ..........................................\n",
      "[CV] ........... C=10000.0, gamma=1e-05, score=0.930407, total=55.5min\n",
      "[CV] C=10000.0, gamma=0.001 ..........................................\n",
      "[CV] ........... C=10000.0, gamma=1e-05, score=0.934690, total=54.5min\n",
      "[CV] C=10000.0, gamma=0.001 ..........................................\n",
      "[CV] ........... C=10000.0, gamma=1e-05, score=0.931478, total=55.2min\n",
      "[CV] C=10000.0, gamma=0.001 ..........................................\n",
      "[CV] ........... C=10000.0, gamma=1e-05, score=0.931478, total=54.6min\n",
      "[CV] C=10000.0, gamma=0.01 ...........................................\n",
      "[CV] .......... C=1000.0, gamma=1000.0, score=0.475375, total=191.7min\n",
      "[CV] C=10000.0, gamma=0.01 ...........................................\n",
      "[CV] .......... C=1000.0, gamma=1000.0, score=0.476445, total=207.5min\n",
      "[CV] C=10000.0, gamma=0.01 ...........................................\n",
      "[CV] .......... C=1000.0, gamma=1000.0, score=0.473233, total=211.8min\n",
      "[CV] C=10000.0, gamma=0.01 ...........................................\n",
      "[CV] .......... C=1000.0, gamma=1000.0, score=0.476445, total=206.4min\n",
      "[CV] C=10000.0, gamma=0.01 ...........................................\n",
      "[CV] ......... C=10000.0, gamma=0.0001, score=0.600642, total=176.6min\n",
      "[CV] C=10000.0, gamma=0.1 ............................................\n",
      "[CV] ......... C=10000.0, gamma=0.0001, score=0.602248, total=175.7min\n",
      "[CV] C=10000.0, gamma=0.1 ............................................\n",
      "[CV] ......... C=10000.0, gamma=0.0001, score=0.602784, total=175.1min\n",
      "[CV] C=10000.0, gamma=0.1 ............................................\n",
      "[CV] ......... C=10000.0, gamma=0.0001, score=0.603854, total=181.8min\n",
      "[CV] C=10000.0, gamma=0.1 ............................................\n",
      "[CV] ......... C=10000.0, gamma=0.0001, score=0.594754, total=209.2min\n",
      "[CV] C=10000.0, gamma=0.1 ............................................\n"
     ]
    },
    {
     "name": "stderr",
     "output_type": "stream",
     "text": [
      "[Parallel(n_jobs=15)]: Done 420 tasks      | elapsed: 5156.0min\n"
     ]
    },
    {
     "name": "stdout",
     "output_type": "stream",
     "text": [
      "[CV] .......... C=10000.0, gamma=0.001, score=0.505889, total=184.5min\n",
      "[CV] C=10000.0, gamma=1.0 ............................................\n",
      "[CV] .......... C=10000.0, gamma=0.001, score=0.501606, total=178.0min\n",
      "[CV] C=10000.0, gamma=1.0 ............................................\n",
      "[CV] .......... C=10000.0, gamma=0.001, score=0.503212, total=204.6min\n",
      "[CV] C=10000.0, gamma=1.0 ............................................\n",
      "[CV] .......... C=10000.0, gamma=0.001, score=0.503212, total=204.7min\n",
      "[CV] C=10000.0, gamma=1.0 ............................................\n",
      "[CV] .......... C=10000.0, gamma=0.001, score=0.503747, total=220.1min\n",
      "[CV] C=10000.0, gamma=1.0 ............................................\n",
      "[CV] ........... C=10000.0, gamma=0.01, score=0.486081, total=203.7min\n",
      "[CV] C=10000.0, gamma=10.0 ...........................................\n",
      "[CV] ........... C=10000.0, gamma=0.01, score=0.481799, total=221.4min\n",
      "[CV] C=10000.0, gamma=10.0 ...........................................\n",
      "[CV] ........... C=10000.0, gamma=0.01, score=0.484475, total=211.2min\n",
      "[CV] C=10000.0, gamma=10.0 ...........................................\n",
      "[CV] ........... C=10000.0, gamma=0.01, score=0.479122, total=204.9min\n",
      "[CV] C=10000.0, gamma=10.0 ...........................................\n",
      "[CV] ........... C=10000.0, gamma=0.01, score=0.483940, total=210.5min\n",
      "[CV] C=10000.0, gamma=10.0 ...........................................\n",
      "[CV] ............ C=10000.0, gamma=0.1, score=0.476981, total=182.5min\n",
      "[CV] C=10000.0, gamma=100.0 ..........................................\n",
      "[CV] ............ C=10000.0, gamma=0.1, score=0.476981, total=179.8min\n",
      "[CV] C=10000.0, gamma=100.0 ..........................................\n",
      "[CV] ............ C=10000.0, gamma=0.1, score=0.476981, total=186.3min\n",
      "[CV] C=10000.0, gamma=100.0 ..........................................\n",
      "[CV] ............ C=10000.0, gamma=0.1, score=0.473769, total=178.5min\n",
      "[CV] C=10000.0, gamma=100.0 ..........................................\n",
      "[CV] ............ C=10000.0, gamma=1.0, score=0.476445, total=181.2min\n",
      "[CV] C=10000.0, gamma=100.0 ..........................................\n",
      "[CV] ............ C=10000.0, gamma=1.0, score=0.476445, total=197.1min\n",
      "[CV] C=10000.0, gamma=1000.0 .........................................\n",
      "[CV] ............ C=10000.0, gamma=0.1, score=0.477516, total=211.9min\n",
      "[CV] C=10000.0, gamma=1000.0 .........................................\n",
      "[CV] ........... C=10000.0, gamma=10.0, score=0.476445, total=184.7min\n",
      "[CV] C=10000.0, gamma=1000.0 .........................................\n",
      "[CV] ............ C=10000.0, gamma=1.0, score=0.476981, total=210.7min\n",
      "[CV] C=10000.0, gamma=1000.0 .........................................\n",
      "[CV] ............ C=10000.0, gamma=1.0, score=0.476981, total=208.5min\n",
      "[CV] C=10000.0, gamma=1000.0 .........................................\n",
      "[CV] ............ C=10000.0, gamma=1.0, score=0.473233, total=225.0min\n",
      "[CV] C=100000.0, gamma=1e-09 .........................................\n",
      "[CV] ........... C=10000.0, gamma=10.0, score=0.476445, total=207.6min\n",
      "[CV] C=100000.0, gamma=1e-09 .........................................\n",
      "[CV] .......... C=100000.0, gamma=1e-09, score=0.989293, total= 7.9min\n",
      "[CV] C=100000.0, gamma=1e-09 .........................................\n",
      "[CV] .......... C=100000.0, gamma=1e-09, score=0.987687, total= 9.4min\n",
      "[CV] C=100000.0, gamma=1e-09 .........................................\n",
      "[CV] ........... C=10000.0, gamma=10.0, score=0.476445, total=207.1min\n",
      "[CV] C=100000.0, gamma=1e-09 .........................................\n",
      "[CV] .......... C=100000.0, gamma=1e-09, score=0.989293, total= 8.0min\n",
      "[CV] C=100000.0, gamma=1e-08 .........................................\n",
      "[CV] .......... C=100000.0, gamma=1e-09, score=0.989293, total= 8.9min\n",
      "[CV] C=100000.0, gamma=1e-08 .........................................\n",
      "[CV] .......... C=100000.0, gamma=1e-09, score=0.987152, total= 9.4min\n",
      "[CV] C=100000.0, gamma=1e-08 .........................................\n",
      "[CV] ........... C=10000.0, gamma=10.0, score=0.473233, total=219.9min\n",
      "[CV] C=100000.0, gamma=1e-08 .........................................\n",
      "[CV] ........... C=10000.0, gamma=10.0, score=0.476445, total=213.5min\n",
      "[CV] C=100000.0, gamma=1e-08 .........................................\n",
      "[CV] .......... C=100000.0, gamma=1e-08, score=0.989293, total= 9.6min\n",
      "[CV] C=100000.0, gamma=1e-07 .........................................\n"
     ]
    },
    {
     "name": "stderr",
     "output_type": "stream",
     "text": [
      "[Parallel(n_jobs=15)]: Done 451 tasks      | elapsed: 5546.4min\n"
     ]
    },
    {
     "name": "stdout",
     "output_type": "stream",
     "text": [
      "[CV] .......... C=10000.0, gamma=100.0, score=0.476445, total=176.3min\n",
      "[CV] C=100000.0, gamma=1e-07 .........................................\n",
      "[CV] .......... C=10000.0, gamma=100.0, score=0.475910, total=179.8min\n",
      "[CV] C=100000.0, gamma=1e-07 .........................................\n",
      "[CV] .......... C=100000.0, gamma=1e-08, score=0.987687, total= 7.9min\n",
      "[CV] C=100000.0, gamma=1e-07 .........................................\n",
      "[CV] .......... C=100000.0, gamma=1e-08, score=0.989293, total= 8.2min\n",
      "[CV] C=100000.0, gamma=1e-07 .........................................\n",
      "[CV] .......... C=100000.0, gamma=1e-08, score=0.989293, total= 8.4min\n",
      "[CV] C=100000.0, gamma=1e-06 .........................................\n",
      "[CV] .......... C=100000.0, gamma=1e-08, score=0.987152, total= 7.6min\n",
      "[CV] C=100000.0, gamma=1e-06 .........................................\n",
      "[CV] .......... C=100000.0, gamma=1e-07, score=0.988758, total= 9.8min\n",
      "[CV] C=100000.0, gamma=1e-06 .........................................\n",
      "[CV] .......... C=100000.0, gamma=1e-07, score=0.989829, total= 8.5min\n",
      "[CV] C=100000.0, gamma=1e-06 .........................................\n",
      "[CV] .......... C=100000.0, gamma=1e-07, score=0.987687, total= 7.2min\n",
      "[CV] C=100000.0, gamma=1e-06 .........................................\n",
      "[CV] .......... C=100000.0, gamma=1e-07, score=0.989293, total= 9.4min\n",
      "[CV] C=100000.0, gamma=1e-05 .........................................\n",
      "[CV] .......... C=100000.0, gamma=1e-07, score=0.987152, total= 7.9min\n",
      "[CV] C=100000.0, gamma=1e-05 .........................................\n",
      "[CV] .......... C=10000.0, gamma=100.0, score=0.476445, total=189.5min\n",
      "[CV] C=100000.0, gamma=1e-05 .........................................\n",
      "[CV] .......... C=100000.0, gamma=1e-06, score=0.989829, total=11.7min\n",
      "[CV] C=100000.0, gamma=1e-05 .........................................\n",
      "[CV] .......... C=100000.0, gamma=1e-06, score=0.987152, total=13.4min\n",
      "[CV] C=100000.0, gamma=1e-05 .........................................\n",
      "[CV] .......... C=100000.0, gamma=1e-06, score=0.989829, total=10.1min\n",
      "[CV] C=100000.0, gamma=0.0001 ........................................\n",
      "[CV] .......... C=100000.0, gamma=1e-06, score=0.990899, total=12.8min\n",
      "[CV] C=100000.0, gamma=0.0001 ........................................\n",
      "[CV] .......... C=10000.0, gamma=100.0, score=0.473233, total=187.0min\n",
      "[CV] C=100000.0, gamma=0.0001 ........................................\n",
      "[CV] .......... C=100000.0, gamma=1e-06, score=0.988758, total=13.5min\n",
      "[CV] C=100000.0, gamma=0.0001 ........................................\n",
      "[CV] .......... C=10000.0, gamma=100.0, score=0.476445, total=187.8min\n",
      "[CV] C=100000.0, gamma=0.0001 ........................................\n",
      "[CV] ......... C=10000.0, gamma=1000.0, score=0.475910, total=179.4min\n",
      "[CV] C=100000.0, gamma=0.001 .........................................\n",
      "[CV] .......... C=100000.0, gamma=1e-05, score=0.934690, total=49.0min\n",
      "[CV] C=100000.0, gamma=0.001 .........................................\n",
      "[CV] .......... C=100000.0, gamma=1e-05, score=0.929336, total=54.3min\n",
      "[CV] C=100000.0, gamma=0.001 .........................................\n",
      "[CV] .......... C=100000.0, gamma=1e-05, score=0.930407, total=57.1min\n",
      "[CV] C=100000.0, gamma=0.001 .........................................\n",
      "[CV] .......... C=100000.0, gamma=1e-05, score=0.931478, total=55.6min\n",
      "[CV] C=100000.0, gamma=0.001 .........................................\n",
      "[CV] ......... C=10000.0, gamma=1000.0, score=0.475375, total=205.6min\n",
      "[CV] C=100000.0, gamma=0.01 ..........................................\n",
      "[CV] .......... C=100000.0, gamma=1e-05, score=0.931478, total=55.6min\n",
      "[CV] C=100000.0, gamma=0.01 ..........................................\n",
      "[CV] ......... C=10000.0, gamma=1000.0, score=0.476445, total=179.3min\n",
      "[CV] C=100000.0, gamma=0.01 ..........................................\n",
      "[CV] ......... C=10000.0, gamma=1000.0, score=0.473233, total=211.2min\n",
      "[CV] C=100000.0, gamma=0.01 ..........................................\n",
      "[CV] ......... C=10000.0, gamma=1000.0, score=0.476445, total=207.4min\n",
      "[CV] C=100000.0, gamma=0.01 ..........................................\n"
     ]
    }
   ],
   "source": [
    "# Training top_model\n",
    "C_range = np.logspace(-2, 10, 13)\n",
    "gamma_range = np.logspace(-9, 3, 13)\n",
    "param_grid = dict(gamma=gamma_range, C=C_range)\n",
    "cv = StratifiedShuffleSplit(n_splits=5, test_size=0.2, random_state=1)\n",
    "\n",
    "top_model = GridSearchCV(svm.SVC(), param_grid=param_grid, cv=cv, verbose=10, n_jobs=15)\n",
    "top_model.fit(vgg19features,y)  # Training "
   ]
  },
  {
   "cell_type": "code",
   "execution_count": null,
   "metadata": {
    "collapsed": true
   },
   "outputs": [],
   "source": [
    "print(\"Best parameters: %s - score: %0.4f\" % (top_model.best_params_, top_model.best_score_))"
   ]
  },
  {
   "cell_type": "code",
   "execution_count": null,
   "metadata": {
    "collapsed": true
   },
   "outputs": [],
   "source": [
    "top_model.cv_results_"
   ]
  },
  {
   "cell_type": "code",
   "execution_count": null,
   "metadata": {
    "collapsed": true
   },
   "outputs": [],
   "source": [
    "top_model.grid_scores_"
   ]
  },
  {
   "cell_type": "code",
   "execution_count": null,
   "metadata": {
    "collapsed": true
   },
   "outputs": [],
   "source": [
    "def plot_grid_search(cv_results, grid_param_1, grid_param_2, name_param_1, name_param_2):\n",
    "    # Get Test Scores Mean and std for each grid search\n",
    "    scores_mean = cv_results['mean_test_score']\n",
    "    scores_mean = np.array(scores_mean).reshape(len(grid_param_2),len(grid_param_1))\n",
    "\n",
    "    scores_sd = cv_results['std_test_score']\n",
    "    scores_sd = np.array(scores_sd).reshape(len(grid_param_2),len(grid_param_1))\n",
    "\n",
    "    # Plot Grid search scores\n",
    "    _, ax = plt.subplots(1,1)\n",
    "\n",
    "    # Param1 is the X-axis, Param 2 is represented as a different curve (color line)\n",
    "    for idx, val in enumerate(grid_param_2):\n",
    "        ax.plot(grid_param_1, scores_mean[idx,:], '-o', label= name_param_2 + ': ' + str(val))\n",
    "\n",
    "    ax.set_title(\"Grid Search Scores\", fontsize=20, fontweight='bold')\n",
    "    ax.set_xlabel(name_param_1, fontsize=16)\n",
    "    ax.set_ylabel('CV Average Score', fontsize=16)\n",
    "    ax.legend(loc=\"best\", fontsize=15)\n",
    "    ax.grid('on')\n",
    "    \n",
    "    ax.set_xscale('log')\n",
    "    #ax.set_ylim([0.0,1.0])"
   ]
  },
  {
   "cell_type": "code",
   "execution_count": null,
   "metadata": {
    "collapsed": true
   },
   "outputs": [],
   "source": [
    "plot_grid_search(top_model.cv_results_,gamma_range,C_range,'Gamma','C')\n",
    "figure = plt.gcf()\n",
    "figure.set_size_inches(24, 9)\n",
    "plt.show()"
   ]
  },
  {
   "cell_type": "code",
   "execution_count": null,
   "metadata": {
    "collapsed": true
   },
   "outputs": [],
   "source": [
    "skplot.grid_search(top_model.grid_scores_, change='gamma', kind='bar')\n",
    "figure = plt.gcf()\n",
    "figure.set_size_inches(24, 9)\n",
    "plt.show()"
   ]
  },
  {
   "cell_type": "code",
   "execution_count": null,
   "metadata": {
    "collapsed": true
   },
   "outputs": [],
   "source": [
    "skplot.grid_search(top_model.grid_scores_, change='C', kind='bar')\n",
    "figure = plt.gcf()\n",
    "figure.set_size_inches(24, 9)\n",
    "plt.show()"
   ]
  },
  {
   "cell_type": "code",
   "execution_count": null,
   "metadata": {
    "collapsed": true
   },
   "outputs": [],
   "source": [
    "cv = StratifiedShuffleSplit(n_splits=5, test_size=0.2, random_state=1)\n",
    "svm_model = svm.SVC(C=top_model.best_params_['C'],gamma=top_model.best_params_['gamma'])\n",
    "train_sizes = np.linspace(.1, 1.0, 10)\n",
    "train_sizes, train_scores, test_scores = learning_curve(svm_model, vgg19features, y, cv=cv, n_jobs=15, train_sizes=train_sizes)"
   ]
  },
  {
   "cell_type": "code",
   "execution_count": null,
   "metadata": {
    "collapsed": true
   },
   "outputs": [],
   "source": [
    "figure = plt.gcf()\n",
    "figure.set_size_inches(24, 9)\n",
    "skplot.learning_curve(train_scores, test_scores, train_sizes)\n",
    "plt.show()"
   ]
  }
 ],
 "metadata": {
  "kernelspec": {
   "display_name": "Python 2",
   "language": "python",
   "name": "python2"
  },
  "language_info": {
   "codemirror_mode": {
    "name": "ipython",
    "version": 2
   },
   "file_extension": ".py",
   "mimetype": "text/x-python",
   "name": "python",
   "nbconvert_exporter": "python",
   "pygments_lexer": "ipython2",
   "version": "2.7.12"
  }
 },
 "nbformat": 4,
 "nbformat_minor": 2
}
