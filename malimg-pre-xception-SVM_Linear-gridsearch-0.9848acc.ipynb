{
 "cells": [
  {
   "cell_type": "code",
   "execution_count": 1,
   "metadata": {},
   "outputs": [
    {
     "name": "stderr",
     "output_type": "stream",
     "text": [
      "Using TensorFlow backend.\n"
     ]
    }
   ],
   "source": [
    "import os\n",
    "import os.path\n",
    "import glob\n",
    "from sklearn.preprocessing import LabelEncoder\n",
    "from sklearn.model_selection import StratifiedKFold                                                                                                                       \n",
    "from sklearn.metrics import confusion_matrix,accuracy_score\n",
    "from sklearn.model_selection import StratifiedShuffleSplit\n",
    "from sklearn.model_selection import GridSearchCV\n",
    "import sklearn_evaluation.plot as skplot\n",
    "from sklearn.model_selection import learning_curve\n",
    "from sklearn import svm\n",
    "\n",
    "import matplotlib.pyplot as plt\n",
    "import matplotlib.cm as colormap\n",
    "plt.rcParams['image.cmap'] = 'Paired'\n",
    "\n",
    "import numpy as np\n",
    "np.random.seed(1)\n",
    "\n",
    "from keras.utils import np_utils\n",
    "from keras.preprocessing import image\n",
    "from keras.applications.xception import Xception,preprocess_input\n",
    "\n",
    "# Disable GPU\n",
    "os.environ['CUDA_VISIBLE_DEVICES'] = '-1'"
   ]
  },
  {
   "cell_type": "code",
   "execution_count": 2,
   "metadata": {
    "collapsed": true
   },
   "outputs": [],
   "source": [
    "imagedir = \"Datasets/malimg_paper_dataset_imgs\""
   ]
  },
  {
   "cell_type": "code",
   "execution_count": 3,
   "metadata": {},
   "outputs": [
    {
     "name": "stdout",
     "output_type": "stream",
     "text": [
      "Label: 0\tFamily:       Adialer.C\tNumber of images: 122\n",
      "Label: 1\tFamily:       Agent.FYI\tNumber of images: 116\n",
      "Label: 2\tFamily:       Allaple.A\tNumber of images: 2949\n",
      "Label: 3\tFamily:       Allaple.L\tNumber of images: 1591\n",
      "Label: 4\tFamily:   Alueron.gen!J\tNumber of images: 198\n",
      "Label: 5\tFamily:       Autorun.K\tNumber of images: 106\n",
      "Label: 6\tFamily:     C2LOP.gen!g\tNumber of images: 200\n",
      "Label: 7\tFamily:         C2LOP.P\tNumber of images: 146\n",
      "Label: 8\tFamily:  Dialplatform.B\tNumber of images: 177\n",
      "Label: 9\tFamily:       Dontovo.A\tNumber of images: 162\n",
      "Label:10\tFamily:        Fakerean\tNumber of images: 381\n",
      "Label:11\tFamily:   Instantaccess\tNumber of images: 431\n",
      "Label:12\tFamily:      Lolyda.AA1\tNumber of images: 213\n",
      "Label:13\tFamily:      Lolyda.AA2\tNumber of images: 184\n",
      "Label:14\tFamily:      Lolyda.AA3\tNumber of images: 123\n",
      "Label:15\tFamily:       Lolyda.AT\tNumber of images: 159\n",
      "Label:16\tFamily:     Malex.gen!J\tNumber of images: 136\n",
      "Label:17\tFamily:   Obfuscator.AD\tNumber of images: 142\n",
      "Label:18\tFamily:        Rbot!gen\tNumber of images: 158\n",
      "Label:19\tFamily:      Skintrim.N\tNumber of images: 80\n",
      "Label:20\tFamily:   Swizzor.gen!E\tNumber of images: 128\n",
      "Label:21\tFamily:   Swizzor.gen!I\tNumber of images: 132\n",
      "Label:22\tFamily:           VB.AT\tNumber of images: 408\n",
      "Label:23\tFamily:      Wintrim.BX\tNumber of images: 97\n",
      "Label:24\tFamily:         Yuner.A\tNumber of images: 800\n",
      "Processing images ...\n",
      "Images processed: 9339\n"
     ]
    }
   ],
   "source": [
    "cur_dir = os.getcwd()\n",
    "os.chdir(imagedir)  # the parent folder with sub-folders\n",
    "\n",
    "# Get number of samples per family\n",
    "list_fams = sorted(os.listdir(os.getcwd()), key=str.lower)  # vector of strings with family names\n",
    "no_imgs = []  # No. of samples per family\n",
    "for i in range(len(list_fams)):\n",
    "    os.chdir(list_fams[i])\n",
    "    len1 = len(glob.glob('*.png'))  # assuming the images are stored as 'png'\n",
    "    no_imgs.append(len1)\n",
    "    os.chdir('..')\n",
    "num_samples = np.sum(no_imgs)  # total number of all samples\n",
    "\n",
    "# Compute the labels\n",
    "y = np.zeros(num_samples)\n",
    "pos = 0\n",
    "label = 0\n",
    "for i in no_imgs:\n",
    "    print (\"Label:%2d\\tFamily: %15s\\tNumber of images: %d\" % (label, list_fams[label], i))\n",
    "    for j in range(i):\n",
    "        y[pos] = label\n",
    "        pos += 1\n",
    "    label += 1\n",
    "num_classes = label\n",
    "\n",
    "# Compute the features\n",
    "width, height,channels = (224,224,3)\n",
    "X = np.zeros((num_samples, width, height, channels))\n",
    "cnt = 0\n",
    "list_paths = [] # List of image paths\n",
    "print(\"Processing images ...\")\n",
    "for i in range(len(list_fams)):\n",
    "    for img_file in glob.glob(list_fams[i]+'/*.png'):\n",
    "        #print(\"[%d] Processing image: %s\" % (cnt, img_file))\n",
    "        list_paths.append(os.path.join(os.getcwd(),img_file))\n",
    "        img = image.load_img(img_file, target_size=(224, 224))\n",
    "        x = image.img_to_array(img)\n",
    "        x = np.expand_dims(x, axis=0)\n",
    "        x = preprocess_input(x)\n",
    "        X[cnt] = x\n",
    "        cnt += 1\n",
    "print(\"Images processed: %d\" %(cnt))\n",
    "\n",
    "os.chdir(cur_dir)"
   ]
  },
  {
   "cell_type": "code",
   "execution_count": 4,
   "metadata": {},
   "outputs": [
    {
     "data": {
      "text/plain": [
       "(9339, 224, 224, 3)"
      ]
     },
     "execution_count": 4,
     "metadata": {},
     "output_type": "execute_result"
    }
   ],
   "source": [
    "X.shape"
   ]
  },
  {
   "cell_type": "code",
   "execution_count": 5,
   "metadata": {
    "collapsed": true
   },
   "outputs": [],
   "source": [
    "# Encoding classes (y) into integers (y_encoded) and then generating one-hot-encoding (Y)\n",
    "encoder = LabelEncoder()\n",
    "encoder.fit(y)\n",
    "y_encoded = encoder.transform(y)\n",
    "Y = np_utils.to_categorical(y_encoded)"
   ]
  },
  {
   "cell_type": "code",
   "execution_count": 6,
   "metadata": {
    "collapsed": true
   },
   "outputs": [],
   "source": [
    "# Creating base_model (Xception notop)\n",
    "image_shape = (224, 224, 3)                                                                                                                                                                                                                                                                                            \n",
    "base_model = Xception(weights='imagenet', input_shape=image_shape, include_top=False)"
   ]
  },
  {
   "cell_type": "code",
   "execution_count": 7,
   "metadata": {},
   "outputs": [
    {
     "name": "stdout",
     "output_type": "stream",
     "text": [
      "Loading Xception extracted features from malimg-xceptionfeatures.npy ...\n"
     ]
    }
   ],
   "source": [
    "filename = 'malimg-xceptionfeatures.npy'\n",
    "if os.path.exists(filename):\n",
    "    print(\"Loading Xception extracted features from %s ...\" %(filename))\n",
    "    xceptionfeatures = np.load(filename)\n",
    "else:\n",
    "    print(\"Extracting features from Xception layers ...\")\n",
    "    xceptionfeatures = base_model.predict(X)\n",
    "    print(\"Saving Xception extracted features into %s ...\" %(filename))\n",
    "    np.save(filename, xceptionfeatures)"
   ]
  },
  {
   "cell_type": "code",
   "execution_count": 8,
   "metadata": {},
   "outputs": [
    {
     "data": {
      "text/plain": [
       "(9339, 7, 7, 2048)"
      ]
     },
     "execution_count": 8,
     "metadata": {},
     "output_type": "execute_result"
    }
   ],
   "source": [
    "xceptionfeatures.shape"
   ]
  },
  {
   "cell_type": "code",
   "execution_count": 9,
   "metadata": {
    "collapsed": true
   },
   "outputs": [],
   "source": [
    "xceptionfeatures = np.reshape(xceptionfeatures,(xceptionfeatures.shape[0],-1))"
   ]
  },
  {
   "cell_type": "code",
   "execution_count": 10,
   "metadata": {},
   "outputs": [
    {
     "data": {
      "text/plain": [
       "(9339, 100352)"
      ]
     },
     "execution_count": 10,
     "metadata": {},
     "output_type": "execute_result"
    }
   ],
   "source": [
    "xceptionfeatures.shape"
   ]
  },
  {
   "cell_type": "code",
   "execution_count": 11,
   "metadata": {},
   "outputs": [
    {
     "name": "stdout",
     "output_type": "stream",
     "text": [
      "Fitting 5 folds for each of 13 candidates, totalling 65 fits\n",
      "[CV] C=0.01 ..........................................................\n",
      "[CV] C=0.01 ..........................................................\n",
      "[CV] C=0.01 ..........................................................\n",
      "[CV] C=0.01 ..........................................................\n",
      "[CV] C=0.01 ..........................................................\n",
      "[CV] ........................... C=0.01, score=0.984475, total=16.8min\n",
      "[CV] C=0.1 ...........................................................\n",
      "[CV] ........................... C=0.01, score=0.981799, total=17.4min\n",
      "[CV] C=0.1 ...........................................................\n",
      "[CV] ........................... C=0.01, score=0.989293, total=18.0min\n"
     ]
    },
    {
     "name": "stderr",
     "output_type": "stream",
     "text": [
      "[Parallel(n_jobs=5)]: Done   3 tasks      | elapsed: 18.4min\n"
     ]
    },
    {
     "name": "stdout",
     "output_type": "stream",
     "text": [
      "[CV] C=0.1 ...........................................................\n",
      "[CV] ........................... C=0.01, score=0.982334, total=17.9min\n",
      "[CV] C=0.1 ...........................................................\n",
      "[CV] ........................... C=0.01, score=0.985011, total=18.6min\n",
      "[CV] C=0.1 ...........................................................\n",
      "[CV] ............................ C=0.1, score=0.982869, total=15.3min\n",
      "[CV] C=1.0 ...........................................................\n",
      "[CV] ............................ C=0.1, score=0.989293, total=16.4min\n",
      "[CV] C=1.0 ...........................................................\n",
      "[CV] ............................ C=0.1, score=0.982869, total=17.6min\n"
     ]
    },
    {
     "name": "stderr",
     "output_type": "stream",
     "text": [
      "[Parallel(n_jobs=5)]: Done   8 tasks      | elapsed: 36.3min\n"
     ]
    },
    {
     "name": "stdout",
     "output_type": "stream",
     "text": [
      "[CV] C=1.0 ...........................................................\n",
      "[CV] ............................ C=0.1, score=0.984475, total=18.1min\n",
      "[CV] C=1.0 ...........................................................\n",
      "[CV] ............................ C=0.1, score=0.984475, total=17.9min\n",
      "[CV] C=1.0 ...........................................................\n",
      "[CV] ............................ C=1.0, score=0.982869, total=13.7min\n",
      "[CV] C=10.0 ..........................................................\n",
      "[CV] ............................ C=1.0, score=0.989293, total=15.0min\n",
      "[CV] C=10.0 ..........................................................\n",
      "[CV] ............................ C=1.0, score=0.984475, total=15.7min\n",
      "[CV] C=10.0 ..........................................................\n",
      "[CV] ............................ C=1.0, score=0.982869, total=16.1min\n",
      "[CV] C=10.0 ..........................................................\n",
      "[CV] ............................ C=1.0, score=0.984475, total=16.3min\n"
     ]
    },
    {
     "name": "stderr",
     "output_type": "stream",
     "text": [
      "[Parallel(n_jobs=5)]: Done  15 tasks      | elapsed: 53.9min\n"
     ]
    },
    {
     "name": "stdout",
     "output_type": "stream",
     "text": [
      "[CV] C=10.0 ..........................................................\n",
      "[CV] ........................... C=10.0, score=0.982869, total=12.0min\n",
      "[CV] C=100.0 .........................................................\n",
      "[CV] ........................... C=10.0, score=0.989293, total=10.4min\n",
      "[CV] C=100.0 .........................................................\n",
      "[CV] ........................... C=10.0, score=0.984475, total=12.7min\n",
      "[CV] C=100.0 .........................................................\n",
      "[CV] ........................... C=10.0, score=0.982869, total=12.7min\n",
      "[CV] C=100.0 .........................................................\n",
      "[CV] ........................... C=10.0, score=0.984475, total=13.3min\n",
      "[CV] C=100.0 .........................................................\n",
      "[CV] .......................... C=100.0, score=0.982869, total=10.8min\n",
      "[CV] C=1000.0 ........................................................\n",
      "[CV] .......................... C=100.0, score=0.989293, total=10.8min\n",
      "[CV] C=1000.0 ........................................................\n"
     ]
    },
    {
     "name": "stderr",
     "output_type": "stream",
     "text": [
      "[Parallel(n_jobs=5)]: Done  22 tasks      | elapsed: 70.8min\n"
     ]
    },
    {
     "name": "stdout",
     "output_type": "stream",
     "text": [
      "[CV] .......................... C=100.0, score=0.984475, total=12.1min\n",
      "[CV] C=1000.0 ........................................................\n",
      "[CV] .......................... C=100.0, score=0.982869, total=12.4min\n",
      "[CV] C=1000.0 ........................................................\n",
      "[CV] .......................... C=100.0, score=0.984475, total=12.7min\n",
      "[CV] C=1000.0 ........................................................\n",
      "[CV] ......................... C=1000.0, score=0.982869, total=11.2min\n",
      "[CV] C=10000.0 .......................................................\n",
      "[CV] ......................... C=1000.0, score=0.989293, total=10.3min\n",
      "[CV] C=10000.0 .......................................................\n",
      "[CV] ......................... C=1000.0, score=0.984475, total=11.6min\n",
      "[CV] C=10000.0 .......................................................\n",
      "[CV] ......................... C=1000.0, score=0.982869, total=12.4min\n",
      "[CV] C=10000.0 .......................................................\n",
      "[CV] ........................ C=10000.0, score=0.989293, total= 9.7min\n",
      "[CV] C=10000.0 .......................................................\n",
      "[CV] ........................ C=10000.0, score=0.982869, total=11.7min\n"
     ]
    },
    {
     "name": "stderr",
     "output_type": "stream",
     "text": [
      "[Parallel(n_jobs=5)]: Done  31 tasks      | elapsed: 92.8min\n"
     ]
    },
    {
     "name": "stdout",
     "output_type": "stream",
     "text": [
      "[CV] C=100000.0 ......................................................\n",
      "[CV] ......................... C=1000.0, score=0.984475, total=13.4min\n",
      "[CV] C=100000.0 ......................................................\n",
      "[CV] ........................ C=10000.0, score=0.984475, total=12.9min\n",
      "[CV] C=100000.0 ......................................................\n",
      "[CV] ........................ C=10000.0, score=0.982869, total=11.8min\n",
      "[CV] C=100000.0 ......................................................\n",
      "[CV] ........................ C=10000.0, score=0.984475, total=12.3min\n",
      "[CV] C=100000.0 ......................................................\n",
      "[CV] ....................... C=100000.0, score=0.982869, total=11.2min\n",
      "[CV] C=1000000.0 .....................................................\n",
      "[CV] ....................... C=100000.0, score=0.989293, total=10.6min\n",
      "[CV] C=1000000.0 .....................................................\n",
      "[CV] ....................... C=100000.0, score=0.984475, total=12.1min\n",
      "[CV] C=1000000.0 .....................................................\n",
      "[CV] ....................... C=100000.0, score=0.984475, total=11.5min\n",
      "[CV] C=1000000.0 .....................................................\n",
      "[CV] ...................... C=1000000.0, score=0.982869, total=11.0min\n"
     ]
    },
    {
     "name": "stderr",
     "output_type": "stream",
     "text": [
      "[Parallel(n_jobs=5)]: Done  40 tasks      | elapsed: 115.2min\n"
     ]
    },
    {
     "name": "stdout",
     "output_type": "stream",
     "text": [
      "[CV] C=1000000.0 .....................................................\n",
      "[CV] ....................... C=100000.0, score=0.982869, total=12.7min\n",
      "[CV] ...................... C=1000000.0, score=0.989293, total=11.1min\n",
      "[CV] C=10000000.0 ....................................................\n",
      "[CV] C=10000000.0 ....................................................\n",
      "[CV] ...................... C=1000000.0, score=0.984475, total=12.3min\n",
      "[CV] C=10000000.0 ....................................................\n",
      "[CV] ...................... C=1000000.0, score=0.982869, total=11.4min\n",
      "[CV] C=10000000.0 ....................................................\n",
      "[CV] ..................... C=10000000.0, score=0.989293, total=11.1min\n",
      "[CV] C=10000000.0 ....................................................\n",
      "[CV] ...................... C=1000000.0, score=0.984475, total=11.5min\n",
      "[CV] C=100000000.0 ...................................................\n",
      "[CV] ..................... C=10000000.0, score=0.982869, total=11.5min\n",
      "[CV] C=100000000.0 ...................................................\n",
      "[CV] .................... C=100000000.0, score=0.982869, total=10.5min\n",
      "[CV] C=100000000.0 ...................................................\n",
      "[CV] ..................... C=10000000.0, score=0.982869, total=11.2min\n",
      "[CV] C=100000000.0 ...................................................\n",
      "[CV] .................... C=100000000.0, score=0.989293, total=11.0min\n",
      "[CV] C=100000000.0 ...................................................\n",
      "[CV] ..................... C=10000000.0, score=0.984475, total=12.0min\n"
     ]
    },
    {
     "name": "stderr",
     "output_type": "stream",
     "text": [
      "[Parallel(n_jobs=5)]: Done  51 tasks      | elapsed: 138.5min\n"
     ]
    },
    {
     "name": "stdout",
     "output_type": "stream",
     "text": [
      "[CV] C=1000000000.0 ..................................................\n",
      "[CV] ..................... C=10000000.0, score=0.984475, total=12.2min\n",
      "[CV] C=1000000000.0 ..................................................\n",
      "[CV] .................... C=100000000.0, score=0.984475, total=11.0min\n",
      "[CV] C=1000000000.0 ..................................................\n",
      "[CV] .................... C=100000000.0, score=0.982869, total=11.1min\n",
      "[CV] C=1000000000.0 ..................................................\n",
      "[CV] ................... C=1000000000.0, score=0.989293, total=10.0min\n",
      "[CV] C=1000000000.0 ..................................................\n",
      "[CV] ................... C=1000000000.0, score=0.982869, total=11.3min\n",
      "[CV] C=10000000000.0 .................................................\n",
      "[CV] .................... C=100000000.0, score=0.984475, total=12.4min\n",
      "[CV] C=10000000000.0 .................................................\n",
      "[CV] ................... C=1000000000.0, score=0.982869, total=10.6min\n",
      "[CV] C=10000000000.0 .................................................\n",
      "[CV] ................... C=1000000000.0, score=0.984475, total=11.4min\n",
      "[CV] C=10000000000.0 .................................................\n",
      "[CV] .................. C=10000000000.0, score=0.982869, total=11.1min\n",
      "[CV] C=10000000000.0 .................................................\n",
      "[CV] ................... C=1000000000.0, score=0.984475, total=12.0min\n",
      "[CV] .................. C=10000000000.0, score=0.989293, total=10.9min\n",
      "[CV] .................. C=10000000000.0, score=0.984475, total=10.6min\n"
     ]
    },
    {
     "name": "stderr",
     "output_type": "stream",
     "text": [
      "[Parallel(n_jobs=5)]: Done  63 out of  65 | elapsed: 170.5min remaining:  5.4min\n"
     ]
    },
    {
     "name": "stdout",
     "output_type": "stream",
     "text": [
      "[CV] .................. C=10000000000.0, score=0.982869, total=10.8min\n",
      "[CV] .................. C=10000000000.0, score=0.984475, total=11.2min\n"
     ]
    },
    {
     "name": "stderr",
     "output_type": "stream",
     "text": [
      "[Parallel(n_jobs=5)]: Done  65 out of  65 | elapsed: 172.4min finished\n"
     ]
    },
    {
     "data": {
      "text/plain": [
       "GridSearchCV(cv=StratifiedShuffleSplit(n_splits=5, random_state=1, test_size=0.2,\n",
       "            train_size=None),\n",
       "       error_score='raise',\n",
       "       estimator=LinearSVC(C=1.0, class_weight=None, dual=True, fit_intercept=True,\n",
       "     intercept_scaling=1, loss='squared_hinge', max_iter=1000,\n",
       "     multi_class='ovr', penalty='l2', random_state=None, tol=0.0001,\n",
       "     verbose=0),\n",
       "       fit_params={}, iid=True, n_jobs=5,\n",
       "       param_grid={'C': array([  1.00000e-02,   1.00000e-01,   1.00000e+00,   1.00000e+01,\n",
       "         1.00000e+02,   1.00000e+03,   1.00000e+04,   1.00000e+05,\n",
       "         1.00000e+06,   1.00000e+07,   1.00000e+08,   1.00000e+09,\n",
       "         1.00000e+10])},\n",
       "       pre_dispatch='2*n_jobs', refit=True, return_train_score=True,\n",
       "       scoring=None, verbose=10)"
      ]
     },
     "execution_count": 11,
     "metadata": {},
     "output_type": "execute_result"
    }
   ],
   "source": [
    "# Training top_model\n",
    "C_range = np.logspace(-2, 10, 13)\n",
    "param_grid = dict(C=C_range)\n",
    "cv = StratifiedShuffleSplit(n_splits=5, test_size=0.2, random_state=1)\n",
    "\n",
    "top_model = GridSearchCV(svm.LinearSVC(), param_grid=param_grid, cv=cv, verbose=10, n_jobs=5)\n",
    "top_model.fit(xceptionfeatures,y)  # Training "
   ]
  },
  {
   "cell_type": "code",
   "execution_count": 12,
   "metadata": {},
   "outputs": [
    {
     "name": "stdout",
     "output_type": "stream",
     "text": [
      "Best parameters: {'C': 0.10000000000000001} - score: 0.9848\n"
     ]
    }
   ],
   "source": [
    "print(\"Best parameters: %s - score: %0.4f\" % (top_model.best_params_, top_model.best_score_))"
   ]
  },
  {
   "cell_type": "code",
   "execution_count": 13,
   "metadata": {},
   "outputs": [
    {
     "data": {
      "text/plain": [
       "{'mean_fit_time': array([ 1062.50610785,  1022.95291152,   921.08120556,   732.3861938 ,\n",
       "          704.31550484,   704.16542249,   699.08809419,   695.34806442,\n",
       "          687.55341482,   694.57284393,   670.4588994 ,   662.18448362,\n",
       "          654.23602881]),\n",
       " 'mean_score_time': array([ 1.52441072,  1.42248025,  1.43411589,  1.24696035,  1.20887294,\n",
       "         1.2084269 ,  1.16443262,  1.22446041,  1.1944839 ,  1.29539185,\n",
       "         1.2336906 ,  1.24393678,  1.13680658]),\n",
       " 'mean_test_score': array([ 0.98458244,  0.98479657,  0.98479657,  0.98479657,  0.98479657,\n",
       "         0.98479657,  0.98479657,  0.98479657,  0.98479657,  0.98479657,\n",
       "         0.98479657,  0.98479657,  0.98479657]),\n",
       " 'mean_train_score': array([ 1.,  1.,  1.,  1.,  1.,  1.,  1.,  1.,  1.,  1.,  1.,  1.,  1.]),\n",
       " 'param_C': masked_array(data = [0.01 0.10000000000000001 1.0 10.0 100.0 1000.0 10000.0 100000.0 1000000.0\n",
       "  10000000.0 100000000.0 1000000000.0 10000000000.0],\n",
       "              mask = [False False False False False False False False False False False False\n",
       "  False],\n",
       "        fill_value = ?),\n",
       " 'params': ({'C': 0.01},\n",
       "  {'C': 0.10000000000000001},\n",
       "  {'C': 1.0},\n",
       "  {'C': 10.0},\n",
       "  {'C': 100.0},\n",
       "  {'C': 1000.0},\n",
       "  {'C': 10000.0},\n",
       "  {'C': 100000.0},\n",
       "  {'C': 1000000.0},\n",
       "  {'C': 10000000.0},\n",
       "  {'C': 100000000.0},\n",
       "  {'C': 1000000000.0},\n",
       "  {'C': 10000000000.0}),\n",
       " 'rank_test_score': array([13,  1,  1,  1,  1,  1,  1,  1,  1,  1,  1,  1,  1], dtype=int32),\n",
       " 'split0_test_score': array([ 0.98179872,  0.98286938,  0.98286938,  0.98286938,  0.98286938,\n",
       "         0.98286938,  0.98286938,  0.98286938,  0.98286938,  0.98286938,\n",
       "         0.98286938,  0.98286938,  0.98286938]),\n",
       " 'split0_train_score': array([ 1.,  1.,  1.,  1.,  1.,  1.,  1.,  1.,  1.,  1.,  1.,  1.,  1.]),\n",
       " 'split1_test_score': array([ 0.98929336,  0.98929336,  0.98929336,  0.98929336,  0.98929336,\n",
       "         0.98929336,  0.98929336,  0.98929336,  0.98929336,  0.98929336,\n",
       "         0.98929336,  0.98929336,  0.98929336]),\n",
       " 'split1_train_score': array([ 1.,  1.,  1.,  1.,  1.,  1.,  1.,  1.,  1.,  1.,  1.,  1.,  1.]),\n",
       " 'split2_test_score': array([ 0.98447537,  0.98447537,  0.98447537,  0.98447537,  0.98447537,\n",
       "         0.98447537,  0.98447537,  0.98447537,  0.98447537,  0.98447537,\n",
       "         0.98447537,  0.98447537,  0.98447537]),\n",
       " 'split2_train_score': array([ 1.,  1.,  1.,  1.,  1.,  1.,  1.,  1.,  1.,  1.,  1.,  1.,  1.]),\n",
       " 'split3_test_score': array([ 0.98233405,  0.98286938,  0.98286938,  0.98286938,  0.98286938,\n",
       "         0.98286938,  0.98286938,  0.98286938,  0.98286938,  0.98286938,\n",
       "         0.98286938,  0.98286938,  0.98286938]),\n",
       " 'split3_train_score': array([ 1.,  1.,  1.,  1.,  1.,  1.,  1.,  1.,  1.,  1.,  1.,  1.,  1.]),\n",
       " 'split4_test_score': array([ 0.98501071,  0.98447537,  0.98447537,  0.98447537,  0.98447537,\n",
       "         0.98447537,  0.98447537,  0.98447537,  0.98447537,  0.98447537,\n",
       "         0.98447537,  0.98447537,  0.98447537]),\n",
       " 'split4_train_score': array([ 1.,  1.,  1.,  1.,  1.,  1.,  1.,  1.,  1.,  1.,  1.,  1.,  1.]),\n",
       " 'std_fit_time': array([ 35.0927823 ,  62.50030528,  56.063198  ,  59.46128709,\n",
       "         48.18615023,  63.95932118,  65.17394051,  44.77390527,\n",
       "         28.55924646,  26.5250228 ,  36.99660848,  40.77728905,  12.50527964]),\n",
       " 'std_score_time': array([ 0.16349292,  0.05385295,  0.06611994,  0.08696504,  0.07307198,\n",
       "         0.05317454,  0.04868321,  0.10043511,  0.04469037,  0.10360846,\n",
       "         0.09959973,  0.0572216 ,  0.10225957]),\n",
       " 'std_test_score': array([ 0.002653  ,  0.00236032,  0.00236032,  0.00236032,  0.00236032,\n",
       "         0.00236032,  0.00236032,  0.00236032,  0.00236032,  0.00236032,\n",
       "         0.00236032,  0.00236032,  0.00236032]),\n",
       " 'std_train_score': array([ 0.,  0.,  0.,  0.,  0.,  0.,  0.,  0.,  0.,  0.,  0.,  0.,  0.])}"
      ]
     },
     "execution_count": 13,
     "metadata": {},
     "output_type": "execute_result"
    }
   ],
   "source": [
    "top_model.cv_results_"
   ]
  },
  {
   "cell_type": "code",
   "execution_count": null,
   "metadata": {},
   "outputs": [
    {
     "name": "stderr",
     "output_type": "stream",
     "text": [
      "/usr/local/lib/python2.7/dist-packages/sklearn/model_selection/_search.py:667: DeprecationWarning: The grid_scores_ attribute was deprecated in version 0.18 in favor of the more elaborate cv_results_ attribute. The grid_scores_ attribute will not be available from 0.20\n",
      "  DeprecationWarning)\n"
     ]
    },
    {
     "data": {
      "text/plain": [
       "[mean: 0.98458, std: 0.00265, params: {'C': 0.01},\n",
       " mean: 0.98480, std: 0.00236, params: {'C': 0.10000000000000001},\n",
       " mean: 0.98480, std: 0.00236, params: {'C': 1.0},\n",
       " mean: 0.98480, std: 0.00236, params: {'C': 10.0},\n",
       " mean: 0.98480, std: 0.00236, params: {'C': 100.0},\n",
       " mean: 0.98480, std: 0.00236, params: {'C': 1000.0},\n",
       " mean: 0.98480, std: 0.00236, params: {'C': 10000.0},\n",
       " mean: 0.98480, std: 0.00236, params: {'C': 100000.0},\n",
       " mean: 0.98480, std: 0.00236, params: {'C': 1000000.0},\n",
       " mean: 0.98480, std: 0.00236, params: {'C': 10000000.0},\n",
       " mean: 0.98480, std: 0.00236, params: {'C': 100000000.0},\n",
       " mean: 0.98480, std: 0.00236, params: {'C': 1000000000.0},\n",
       " mean: 0.98480, std: 0.00236, params: {'C': 10000000000.0}]"
      ]
     },
     "execution_count": 14,
     "metadata": {},
     "output_type": "execute_result"
    }
   ],
   "source": [
    "top_model.grid_scores_"
   ]
  },
  {
   "cell_type": "code",
   "execution_count": null,
   "metadata": {
    "collapsed": true
   },
   "outputs": [],
   "source": [
    "cv = StratifiedShuffleSplit(n_splits=5, test_size=0.2, random_state=1)\n",
    "svm_model = svm.LinearSVC(C=top_model.best_params_['C'])\n",
    "train_sizes = np.linspace(.1, 1.0, 10)\n",
    "train_sizes, train_scores, test_scores = learning_curve(svm_model, xceptionfeatures, y, cv=cv, n_jobs=-1, train_sizes=train_sizes)"
   ]
  },
  {
   "cell_type": "code",
   "execution_count": null,
   "metadata": {
    "collapsed": true
   },
   "outputs": [],
   "source": [
    "figure = plt.gcf()\n",
    "figure.set_size_inches(24, 9)\n",
    "skplot.learning_curve(train_scores, test_scores, train_sizes)\n",
    "plt.show()"
   ]
  }
 ],
 "metadata": {
  "kernelspec": {
   "display_name": "Python 2",
   "language": "python",
   "name": "python2"
  },
  "language_info": {
   "codemirror_mode": {
    "name": "ipython",
    "version": 2
   },
   "file_extension": ".py",
   "mimetype": "text/x-python",
   "name": "python",
   "nbconvert_exporter": "python",
   "pygments_lexer": "ipython2",
   "version": "2.7.12"
  }
 },
 "nbformat": 4,
 "nbformat_minor": 2
}
